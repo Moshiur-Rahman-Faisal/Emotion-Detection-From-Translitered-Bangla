{
 "cells": [
  {
   "cell_type": "code",
   "execution_count": 1,
   "id": "0356e1cf",
   "metadata": {},
   "outputs": [],
   "source": [
    "import pandas as pd\n",
    "import numpy as np\n",
    "from matplotlib import pyplot as plt\n",
    "import seaborn as sns\n",
    "import math\n",
    "\n",
    "\n",
    "from gensim.models.word2vec import Word2Vec\n",
    "from sklearn.model_selection import train_test_split\n",
    "from tensorflow.keras.utils import to_categorical\n",
    "from keras.layers import Dense, Dropout, Conv1D, MaxPooling1D, GlobalMaxPooling1D, Embedding, Activation, Input, Flatten\n",
    "from keras.preprocessing.text import Tokenizer\n",
    "from keras.preprocessing.sequence import pad_sequences\n",
    "from keras.models import Sequential\n",
    "import re\n",
    "import nltk\n",
    "from nltk.corpus import stopwords\n",
    "from nltk.stem.snowball import PorterStemmer\n",
    "from sklearn import preprocessing\n",
    "import tensorflow as tf\n",
    "\n",
    "\n",
    "from keras.layers import LSTM, Bidirectional\n",
    "from keras.models import Model\n",
    "from keras.callbacks import EarlyStopping\n",
    "\n",
    "import gensim"
   ]
  },
  {
   "cell_type": "code",
   "execution_count": 2,
   "id": "7b6a9335",
   "metadata": {},
   "outputs": [
    {
     "name": "stdout",
     "output_type": "stream",
     "text": [
      "surprise    1319\n",
      "happy       1305\n",
      "sad         1288\n",
      "angry       1272\n",
      "fear        1231\n",
      "disgust     1196\n",
      "Name: Emotion, dtype: int64\n"
     ]
    },
    {
     "data": {
      "text/html": [
       "<div>\n",
       "<style scoped>\n",
       "    .dataframe tbody tr th:only-of-type {\n",
       "        vertical-align: middle;\n",
       "    }\n",
       "\n",
       "    .dataframe tbody tr th {\n",
       "        vertical-align: top;\n",
       "    }\n",
       "\n",
       "    .dataframe thead th {\n",
       "        text-align: right;\n",
       "    }\n",
       "</style>\n",
       "<table border=\"1\" class=\"dataframe\">\n",
       "  <thead>\n",
       "    <tr style=\"text-align: right;\">\n",
       "      <th></th>\n",
       "      <th>Emotion</th>\n",
       "      <th>text</th>\n",
       "    </tr>\n",
       "  </thead>\n",
       "  <tbody>\n",
       "    <tr>\n",
       "      <th>0</th>\n",
       "      <td>sad</td>\n",
       "      <td>hefajoter pokkhe michil theke hamlay ahoto awa...</td>\n",
       "    </tr>\n",
       "    <tr>\n",
       "      <th>1</th>\n",
       "      <td>angry</td>\n",
       "      <td>e chara mask chara probesh korte dicchi na</td>\n",
       "    </tr>\n",
       "    <tr>\n",
       "      <th>2</th>\n",
       "      <td>disgust</td>\n",
       "      <td>vore uthe batch porano college e class neya ab...</td>\n",
       "    </tr>\n",
       "    <tr>\n",
       "      <th>3</th>\n",
       "      <td>angry</td>\n",
       "      <td>eita pata chagler kach</td>\n",
       "    </tr>\n",
       "    <tr>\n",
       "      <th>4</th>\n",
       "      <td>disgust</td>\n",
       "      <td>sob dalal diye vore geche!</td>\n",
       "    </tr>\n",
       "    <tr>\n",
       "      <th>5</th>\n",
       "      <td>sad</td>\n",
       "      <td>Corona virus mohamari khotigrostho desher tali...</td>\n",
       "    </tr>\n",
       "    <tr>\n",
       "      <th>6</th>\n",
       "      <td>sad</td>\n",
       "      <td>jgnnath bishowbiddaloy kotripokkho mul riporhh...</td>\n",
       "    </tr>\n",
       "    <tr>\n",
       "      <th>7</th>\n",
       "      <td>fear</td>\n",
       "      <td>fole durbolota matha ghorano matha betha khitk...</td>\n",
       "    </tr>\n",
       "    <tr>\n",
       "      <th>8</th>\n",
       "      <td>surprise</td>\n",
       "      <td>nirbachon borjon shothik chilo</td>\n",
       "    </tr>\n",
       "    <tr>\n",
       "      <th>9</th>\n",
       "      <td>disgust</td>\n",
       "      <td>pakisthan ottanto protisodh porayn ekti hingsr...</td>\n",
       "    </tr>\n",
       "  </tbody>\n",
       "</table>\n",
       "</div>"
      ],
      "text/plain": [
       "    Emotion                                               text\n",
       "0       sad  hefajoter pokkhe michil theke hamlay ahoto awa...\n",
       "1     angry         e chara mask chara probesh korte dicchi na\n",
       "2   disgust  vore uthe batch porano college e class neya ab...\n",
       "3     angry                             eita pata chagler kach\n",
       "4   disgust                         sob dalal diye vore geche!\n",
       "5       sad  Corona virus mohamari khotigrostho desher tali...\n",
       "6       sad  jgnnath bishowbiddaloy kotripokkho mul riporhh...\n",
       "7      fear  fole durbolota matha ghorano matha betha khitk...\n",
       "8  surprise                     nirbachon borjon shothik chilo\n",
       "9   disgust  pakisthan ottanto protisodh porayn ekti hingsr..."
      ]
     },
     "execution_count": 2,
     "metadata": {},
     "output_type": "execute_result"
    }
   ],
   "source": [
    "df = pd.read_csv('Banglish EDA.csv',encoding= 'unicode_escape')\n",
    "\n",
    "\n",
    "print(df.Emotion.value_counts())\n",
    "\n",
    "df.head(10)\n"
   ]
  },
  {
   "cell_type": "code",
   "execution_count": 3,
   "id": "136eda95",
   "metadata": {},
   "outputs": [
    {
     "data": {
      "text/plain": [
       "<bound method NDFrame.head of       Emotion                                               text\n",
       "0         sad  hefajoter pokkhe michil theke hamlay ahoto awa...\n",
       "1       angry         e chara mask chara probesh korte dicchi na\n",
       "2     disgust  vore uthe batch porano college e class neya ab...\n",
       "3       angry                             eita pata chagler kach\n",
       "4     disgust                         sob dalal diye vore geche!\n",
       "...       ...                                                ...\n",
       "7606     fear  tbe sakoti niymit sngskar na koray bortomane e...\n",
       "7607    angry                            amar oporadh ami hindu \n",
       "7608    angry  apnara kiser zukti niye bolechen amar sudhu ek...\n",
       "7609     fear                   ar baki sob hotta mene neya zay!\n",
       "7610    angry  BNP kkhn khomotay ashole eder ki hobe? eder ke...\n",
       "\n",
       "[7611 rows x 2 columns]>"
      ]
     },
     "execution_count": 3,
     "metadata": {},
     "output_type": "execute_result"
    }
   ],
   "source": [
    "df.head"
   ]
  },
  {
   "cell_type": "code",
   "execution_count": 4,
   "id": "caecabfd",
   "metadata": {},
   "outputs": [
    {
     "data": {
      "text/html": [
       "<div>\n",
       "<style scoped>\n",
       "    .dataframe tbody tr th:only-of-type {\n",
       "        vertical-align: middle;\n",
       "    }\n",
       "\n",
       "    .dataframe tbody tr th {\n",
       "        vertical-align: top;\n",
       "    }\n",
       "\n",
       "    .dataframe thead tr th {\n",
       "        text-align: left;\n",
       "    }\n",
       "\n",
       "    .dataframe thead tr:last-of-type th {\n",
       "        text-align: right;\n",
       "    }\n",
       "</style>\n",
       "<table border=\"1\" class=\"dataframe\">\n",
       "  <thead>\n",
       "    <tr>\n",
       "      <th></th>\n",
       "      <th colspan=\"4\" halign=\"left\">text</th>\n",
       "    </tr>\n",
       "    <tr>\n",
       "      <th></th>\n",
       "      <th>count</th>\n",
       "      <th>unique</th>\n",
       "      <th>top</th>\n",
       "      <th>freq</th>\n",
       "    </tr>\n",
       "    <tr>\n",
       "      <th>Emotion</th>\n",
       "      <th></th>\n",
       "      <th></th>\n",
       "      <th></th>\n",
       "      <th></th>\n",
       "    </tr>\n",
       "  </thead>\n",
       "  <tbody>\n",
       "    <tr>\n",
       "      <th>angry</th>\n",
       "      <td>1272</td>\n",
       "      <td>881</td>\n",
       "      <td>jonogon vot kendre zayni odhikangs manusher sh...</td>\n",
       "      <td>6</td>\n",
       "    </tr>\n",
       "    <tr>\n",
       "      <th>disgust</th>\n",
       "      <td>1196</td>\n",
       "      <td>628</td>\n",
       "      <td>mzadam sekh hasina khali hate firechen ta khar...</td>\n",
       "      <td>9</td>\n",
       "    </tr>\n",
       "    <tr>\n",
       "      <th>fear</th>\n",
       "      <td>1231</td>\n",
       "      <td>586</td>\n",
       "      <td>ete bojha gel ze khmotoay tike thakar jonno do...</td>\n",
       "      <td>11</td>\n",
       "    </tr>\n",
       "    <tr>\n",
       "      <th>happy</th>\n",
       "      <td>1305</td>\n",
       "      <td>913</td>\n",
       "      <td>dhonnobaad</td>\n",
       "      <td>10</td>\n",
       "    </tr>\n",
       "    <tr>\n",
       "      <th>sad</th>\n",
       "      <td>1288</td>\n",
       "      <td>1051</td>\n",
       "      <td>shontaner sob khrc dile ki shontaner bap hoya ...</td>\n",
       "      <td>5</td>\n",
       "    </tr>\n",
       "    <tr>\n",
       "      <th>surprise</th>\n",
       "      <td>1319</td>\n",
       "      <td>648</td>\n",
       "      <td>cheler biyete ma jante parlen kone tar meye!</td>\n",
       "      <td>11</td>\n",
       "    </tr>\n",
       "  </tbody>\n",
       "</table>\n",
       "</div>"
      ],
      "text/plain": [
       "          text                                                               \n",
       "         count unique                                                top freq\n",
       "Emotion                                                                      \n",
       "angry     1272    881  jonogon vot kendre zayni odhikangs manusher sh...    6\n",
       "disgust   1196    628  mzadam sekh hasina khali hate firechen ta khar...    9\n",
       "fear      1231    586  ete bojha gel ze khmotoay tike thakar jonno do...   11\n",
       "happy     1305    913                                         dhonnobaad   10\n",
       "sad       1288   1051  shontaner sob khrc dile ki shontaner bap hoya ...    5\n",
       "surprise  1319    648       cheler biyete ma jante parlen kone tar meye!   11"
      ]
     },
     "execution_count": 4,
     "metadata": {},
     "output_type": "execute_result"
    }
   ],
   "source": [
    "df.groupby(\"Emotion\").describe()"
   ]
  },
  {
   "cell_type": "code",
   "execution_count": 5,
   "id": "a710a6cb",
   "metadata": {
    "scrolled": false
   },
   "outputs": [
    {
     "data": {
      "text/plain": [
       "<bound method NDFrame.head of       Emotion                                               text\n",
       "0         sad  hefajoter pokkhe michil theke hamlay ahoto awa...\n",
       "1       angry         e chara mask chara probesh korte dicchi na\n",
       "2     disgust  vore uthe batch porano college e class neya ab...\n",
       "3       angry                             eita pata chagler kach\n",
       "4     disgust                         sob dalal diye vore geche!\n",
       "...       ...                                                ...\n",
       "7606     fear  tbe sakoti niymit sngskar na koray bortomane e...\n",
       "7607    angry                            amar oporadh ami hindu \n",
       "7608    angry  apnara kiser zukti niye bolechen amar sudhu ek...\n",
       "7609     fear                   ar baki sob hotta mene neya zay!\n",
       "7610    angry  BNP kkhn khomotay ashole eder ki hobe? eder ke...\n",
       "\n",
       "[7611 rows x 2 columns]>"
      ]
     },
     "execution_count": 5,
     "metadata": {},
     "output_type": "execute_result"
    }
   ],
   "source": [
    "df.head"
   ]
  },
  {
   "cell_type": "code",
   "execution_count": 6,
   "id": "12f3da68",
   "metadata": {
    "scrolled": true
   },
   "outputs": [
    {
     "data": {
      "text/html": [
       "<div>\n",
       "<style scoped>\n",
       "    .dataframe tbody tr th:only-of-type {\n",
       "        vertical-align: middle;\n",
       "    }\n",
       "\n",
       "    .dataframe tbody tr th {\n",
       "        vertical-align: top;\n",
       "    }\n",
       "\n",
       "    .dataframe thead th {\n",
       "        text-align: right;\n",
       "    }\n",
       "</style>\n",
       "<table border=\"1\" class=\"dataframe\">\n",
       "  <thead>\n",
       "    <tr style=\"text-align: right;\">\n",
       "      <th></th>\n",
       "      <th>Emotion</th>\n",
       "      <th>text</th>\n",
       "    </tr>\n",
       "  </thead>\n",
       "  <tbody>\n",
       "    <tr>\n",
       "      <th>0</th>\n",
       "      <td>False</td>\n",
       "      <td>False</td>\n",
       "    </tr>\n",
       "    <tr>\n",
       "      <th>1</th>\n",
       "      <td>False</td>\n",
       "      <td>False</td>\n",
       "    </tr>\n",
       "    <tr>\n",
       "      <th>2</th>\n",
       "      <td>False</td>\n",
       "      <td>False</td>\n",
       "    </tr>\n",
       "    <tr>\n",
       "      <th>3</th>\n",
       "      <td>False</td>\n",
       "      <td>False</td>\n",
       "    </tr>\n",
       "    <tr>\n",
       "      <th>4</th>\n",
       "      <td>False</td>\n",
       "      <td>False</td>\n",
       "    </tr>\n",
       "    <tr>\n",
       "      <th>...</th>\n",
       "      <td>...</td>\n",
       "      <td>...</td>\n",
       "    </tr>\n",
       "    <tr>\n",
       "      <th>7606</th>\n",
       "      <td>False</td>\n",
       "      <td>False</td>\n",
       "    </tr>\n",
       "    <tr>\n",
       "      <th>7607</th>\n",
       "      <td>False</td>\n",
       "      <td>False</td>\n",
       "    </tr>\n",
       "    <tr>\n",
       "      <th>7608</th>\n",
       "      <td>False</td>\n",
       "      <td>False</td>\n",
       "    </tr>\n",
       "    <tr>\n",
       "      <th>7609</th>\n",
       "      <td>False</td>\n",
       "      <td>False</td>\n",
       "    </tr>\n",
       "    <tr>\n",
       "      <th>7610</th>\n",
       "      <td>False</td>\n",
       "      <td>False</td>\n",
       "    </tr>\n",
       "  </tbody>\n",
       "</table>\n",
       "<p>7611 rows × 2 columns</p>\n",
       "</div>"
      ],
      "text/plain": [
       "      Emotion   text\n",
       "0       False  False\n",
       "1       False  False\n",
       "2       False  False\n",
       "3       False  False\n",
       "4       False  False\n",
       "...       ...    ...\n",
       "7606    False  False\n",
       "7607    False  False\n",
       "7608    False  False\n",
       "7609    False  False\n",
       "7610    False  False\n",
       "\n",
       "[7611 rows x 2 columns]"
      ]
     },
     "execution_count": 6,
     "metadata": {},
     "output_type": "execute_result"
    }
   ],
   "source": [
    "df.isnull()"
   ]
  },
  {
   "cell_type": "code",
   "execution_count": 7,
   "id": "6416bc9d",
   "metadata": {},
   "outputs": [],
   "source": [
    "df.dropna(inplace=True)"
   ]
  },
  {
   "cell_type": "code",
   "execution_count": 8,
   "id": "23fbb740",
   "metadata": {},
   "outputs": [],
   "source": [
    "text = df['text'].values.tolist()"
   ]
  },
  {
   "cell_type": "code",
   "execution_count": 9,
   "id": "73914a34",
   "metadata": {},
   "outputs": [
    {
     "data": {
      "text/html": [
       "<div>\n",
       "<style scoped>\n",
       "    .dataframe tbody tr th:only-of-type {\n",
       "        vertical-align: middle;\n",
       "    }\n",
       "\n",
       "    .dataframe tbody tr th {\n",
       "        vertical-align: top;\n",
       "    }\n",
       "\n",
       "    .dataframe thead tr th {\n",
       "        text-align: left;\n",
       "    }\n",
       "\n",
       "    .dataframe thead tr:last-of-type th {\n",
       "        text-align: right;\n",
       "    }\n",
       "</style>\n",
       "<table border=\"1\" class=\"dataframe\">\n",
       "  <thead>\n",
       "    <tr>\n",
       "      <th></th>\n",
       "      <th colspan=\"4\" halign=\"left\">text</th>\n",
       "    </tr>\n",
       "    <tr>\n",
       "      <th></th>\n",
       "      <th>count</th>\n",
       "      <th>unique</th>\n",
       "      <th>top</th>\n",
       "      <th>freq</th>\n",
       "    </tr>\n",
       "    <tr>\n",
       "      <th>Emotion</th>\n",
       "      <th></th>\n",
       "      <th></th>\n",
       "      <th></th>\n",
       "      <th></th>\n",
       "    </tr>\n",
       "  </thead>\n",
       "  <tbody>\n",
       "    <tr>\n",
       "      <th>angry</th>\n",
       "      <td>1272</td>\n",
       "      <td>881</td>\n",
       "      <td>jonogon vot kendre zayni odhikangs manusher sh...</td>\n",
       "      <td>6</td>\n",
       "    </tr>\n",
       "    <tr>\n",
       "      <th>disgust</th>\n",
       "      <td>1196</td>\n",
       "      <td>628</td>\n",
       "      <td>mzadam sekh hasina khali hate firechen ta khar...</td>\n",
       "      <td>9</td>\n",
       "    </tr>\n",
       "    <tr>\n",
       "      <th>fear</th>\n",
       "      <td>1231</td>\n",
       "      <td>586</td>\n",
       "      <td>ete bojha gel ze khmotoay tike thakar jonno do...</td>\n",
       "      <td>11</td>\n",
       "    </tr>\n",
       "    <tr>\n",
       "      <th>happy</th>\n",
       "      <td>1305</td>\n",
       "      <td>913</td>\n",
       "      <td>dhonnobaad</td>\n",
       "      <td>10</td>\n",
       "    </tr>\n",
       "    <tr>\n",
       "      <th>sad</th>\n",
       "      <td>1288</td>\n",
       "      <td>1051</td>\n",
       "      <td>shontaner sob khrc dile ki shontaner bap hoya ...</td>\n",
       "      <td>5</td>\n",
       "    </tr>\n",
       "    <tr>\n",
       "      <th>surprise</th>\n",
       "      <td>1319</td>\n",
       "      <td>648</td>\n",
       "      <td>cheler biyete ma jante parlen kone tar meye!</td>\n",
       "      <td>11</td>\n",
       "    </tr>\n",
       "  </tbody>\n",
       "</table>\n",
       "</div>"
      ],
      "text/plain": [
       "          text                                                               \n",
       "         count unique                                                top freq\n",
       "Emotion                                                                      \n",
       "angry     1272    881  jonogon vot kendre zayni odhikangs manusher sh...    6\n",
       "disgust   1196    628  mzadam sekh hasina khali hate firechen ta khar...    9\n",
       "fear      1231    586  ete bojha gel ze khmotoay tike thakar jonno do...   11\n",
       "happy     1305    913                                         dhonnobaad   10\n",
       "sad       1288   1051  shontaner sob khrc dile ki shontaner bap hoya ...    5\n",
       "surprise  1319    648       cheler biyete ma jante parlen kone tar meye!   11"
      ]
     },
     "execution_count": 9,
     "metadata": {},
     "output_type": "execute_result"
    }
   ],
   "source": [
    "df.groupby(\"Emotion\").describe()"
   ]
  },
  {
   "cell_type": "code",
   "execution_count": 10,
   "id": "9367651b",
   "metadata": {},
   "outputs": [
    {
     "data": {
      "text/plain": [
       "surprise    1319\n",
       "happy       1305\n",
       "sad         1288\n",
       "angry       1272\n",
       "fear        1231\n",
       "disgust     1196\n",
       "Name: Emotion, dtype: int64"
      ]
     },
     "execution_count": 10,
     "metadata": {},
     "output_type": "execute_result"
    }
   ],
   "source": [
    "df[\"Emotion\"].value_counts()"
   ]
  },
  {
   "cell_type": "code",
   "execution_count": 11,
   "id": "17a8951f",
   "metadata": {},
   "outputs": [
    {
     "name": "stderr",
     "output_type": "stream",
     "text": [
      "C:\\Users\\moshi\\anaconda3\\lib\\site-packages\\seaborn\\_decorators.py:36: FutureWarning: Pass the following variable as a keyword arg: x. From version 0.12, the only valid positional argument will be `data`, and passing other arguments without an explicit keyword will result in an error or misinterpretation.\n",
      "  warnings.warn(\n"
     ]
    },
    {
     "data": {
      "image/png": "[encoded data removed]",
      "text/plain": [
       "<Figure size 576x360 with 1 Axes>"
      ]
     },
     "metadata": {
      "needs_background": "light"
     },
     "output_type": "display_data"
    }
   ],
   "source": [
    "plt.subplots(figsize=(8,5))\n",
    "sns.countplot(df[\"Emotion\"])\n",
    "plt.show()"
   ]
  },
  {
   "cell_type": "code",
   "execution_count": 12,
   "id": "8dd4d10d",
   "metadata": {},
   "outputs": [
    {
     "name": "stdout",
     "output_type": "stream",
     "text": [
      "1889\n"
     ]
    }
   ],
   "source": [
    "longest_string = max(df[\"text\"], key=len)\n",
    "print(len(longest_string))"
   ]
  },
  {
   "cell_type": "code",
   "execution_count": 13,
   "id": "5da59c48",
   "metadata": {},
   "outputs": [
    {
     "name": "stdout",
     "output_type": "stream",
     "text": [
      "data shape (7611, 2)\n"
     ]
    }
   ],
   "source": [
    "print(\"data shape\", df.shape)"
   ]
  },
  {
   "cell_type": "code",
   "execution_count": 14,
   "id": "3b75240a",
   "metadata": {
    "scrolled": true
   },
   "outputs": [
    {
     "data": {
      "text/plain": [
       "<bound method NDFrame.describe of       Emotion                                               text\n",
       "0         sad  hefajoter pokkhe michil theke hamlay ahoto awa...\n",
       "1       angry         e chara mask chara probesh korte dicchi na\n",
       "2     disgust  vore uthe batch porano college e class neya ab...\n",
       "3       angry                             eita pata chagler kach\n",
       "4     disgust                         sob dalal diye vore geche!\n",
       "...       ...                                                ...\n",
       "7606     fear  tbe sakoti niymit sngskar na koray bortomane e...\n",
       "7607    angry                            amar oporadh ami hindu \n",
       "7608    angry  apnara kiser zukti niye bolechen amar sudhu ek...\n",
       "7609     fear                   ar baki sob hotta mene neya zay!\n",
       "7610    angry  BNP kkhn khomotay ashole eder ki hobe? eder ke...\n",
       "\n",
       "[7611 rows x 2 columns]>"
      ]
     },
     "execution_count": 14,
     "metadata": {},
     "output_type": "execute_result"
    }
   ],
   "source": [
    "df.describe"
   ]
  },
  {
   "cell_type": "code",
   "execution_count": 15,
   "id": "5775a02d",
   "metadata": {},
   "outputs": [
    {
     "name": "stdout",
     "output_type": "stream",
     "text": [
      "0       0\n",
      "1       1\n",
      "2       2\n",
      "3       1\n",
      "4       2\n",
      "       ..\n",
      "7606    3\n",
      "7607    1\n",
      "7608    1\n",
      "7609    3\n",
      "7610    1\n",
      "Name: Emotion, Length: 7611, dtype: int64\n"
     ]
    }
   ],
   "source": [
    "Emotion_Class=df.Emotion.unique()\n",
    "dic={}\n",
    "for i,Emotion in enumerate(Emotion_Class):\n",
    "    dic[Emotion]=i\n",
    "labels=df.Emotion.apply(lambda x:dic[x])\n",
    "print(labels)"
   ]
  },
  {
   "cell_type": "code",
   "execution_count": 16,
   "id": "13f55c5d",
   "metadata": {},
   "outputs": [],
   "source": [
    "val_data=df.sample(frac=0.2,random_state=200)\n",
    "train_data=df.drop(val_data.index)"
   ]
  },
  {
   "cell_type": "code",
   "execution_count": 17,
   "id": "6db807b5",
   "metadata": {},
   "outputs": [],
   "source": [
    "from keras.preprocessing.text import Tokenizer\n",
    "from keras.preprocessing.sequence import pad_sequences\n",
    "from tensorflow.keras.utils import to_categorical"
   ]
  },
  {
   "cell_type": "code",
   "execution_count": 18,
   "id": "69a6f281",
   "metadata": {},
   "outputs": [],
   "source": [
    "texts=train_data.text"
   ]
  },
  {
   "cell_type": "code",
   "execution_count": 19,
   "id": "9feb2519",
   "metadata": {},
   "outputs": [
    {
     "name": "stdout",
     "output_type": "stream",
     "text": [
      "Found 12092 unique tokens.\n"
     ]
    }
   ],
   "source": [
    "NUM_WORDS=20000\n",
    "tokenizer = Tokenizer(num_words=NUM_WORDS,filters='!\"#$%&()*+,-./:;<=>?@[\\\\]^_`{|}~\\t\\n\\'',\n",
    "                      lower=True)\n",
    "tokenizer.fit_on_texts(texts)\n",
    "sequences_train = tokenizer.texts_to_sequences(texts)\n",
    "sequences_valid=tokenizer.texts_to_sequences(val_data.text)\n",
    "word_index = tokenizer.word_index\n",
    "print('Found %s unique tokens.' % len(word_index))"
   ]
  },
  {
   "cell_type": "code",
   "execution_count": 20,
   "id": "bdda0e16",
   "metadata": {},
   "outputs": [
    {
     "name": "stdout",
     "output_type": "stream",
     "text": [
      "Shape of X train and X validation tensor: (6089, 288) (1522, 288)\n",
      "Shape of label train and validation tensor: (6089, 6) (1522, 6)\n"
     ]
    }
   ],
   "source": [
    "X_train = pad_sequences(sequences_train)\n",
    "X_val = pad_sequences(sequences_valid,maxlen=X_train.shape[1])\n",
    "y_train = to_categorical(np.asarray(labels[train_data.index]))\n",
    "y_val = to_categorical(np.asarray(labels[val_data.index]))\n",
    "print('Shape of X train and X validation tensor:', X_train.shape,X_val.shape)\n",
    "print('Shape of label train and validation tensor:', y_train.shape,y_val.shape)"
   ]
  },
  {
   "cell_type": "code",
   "execution_count": 21,
   "id": "89620c4f",
   "metadata": {},
   "outputs": [
    {
     "name": "stdout",
     "output_type": "stream",
     "text": [
      "(12093, 300)\n"
     ]
    }
   ],
   "source": [
    "import gensim\n",
    "from gensim.models import Word2Vec\n",
    "from gensim.utils import simple_preprocess\n",
    "\n",
    "from gensim.models.keyedvectors import KeyedVectors\n",
    "\n",
    "word_vectors = KeyedVectors.load_word2vec_format('C:/Users/moshi/Python Code/Vietnam and Indonesia/GoogleNews-vectors-negative300.bin', binary=True)\n",
    "\n",
    "EMBEDDING_DIM=300\n",
    "vocabulary_size=min(len(word_index)+1,NUM_WORDS)\n",
    "embedding_matrix = np.zeros((vocabulary_size, EMBEDDING_DIM))\n",
    "for word, i in word_index.items():\n",
    "    if i>=NUM_WORDS:\n",
    "        continue\n",
    "    try:\n",
    "        embedding_vector = word_vectors[word]\n",
    "        embedding_matrix[i] = embedding_vector\n",
    "    except KeyError:\n",
    "        embedding_matrix[i]=np.random.normal(0,np.sqrt(0.25),EMBEDDING_DIM)\n",
    "\n",
    "del(word_vectors)\n",
    "print(embedding_matrix.shape)\n",
    "\n",
    "from keras.layers import Embedding\n",
    "embedding_layer = Embedding(vocabulary_size,\n",
    "                            EMBEDDING_DIM,\n",
    "                            weights=[embedding_matrix],\n",
    "                            trainable=True)"
   ]
  },
  {
   "cell_type": "code",
   "execution_count": 22,
   "id": "469bb678",
   "metadata": {},
   "outputs": [],
   "source": [
    "from keras.layers import Embedding\n",
    "EMBEDDING_DIM=300\n",
    "vocabulary_size=min(len(word_index)+1,NUM_WORDS)\n",
    "\n",
    "embedding_layer = Embedding(vocabulary_size,\n",
    "                            EMBEDDING_DIM)"
   ]
  },
  {
   "cell_type": "code",
   "execution_count": 23,
   "id": "28979783",
   "metadata": {},
   "outputs": [],
   "source": [
    "from keras.layers import Dense, Input, GlobalMaxPooling1D\n",
    "from keras.layers import Conv1D, MaxPooling1D, Embedding\n",
    "from keras.models import Model\n",
    "from keras.layers import Input, Dense, Embedding, Conv2D, MaxPooling2D, Dropout,concatenate\n",
    "from keras.layers.core import Reshape, Flatten\n",
    "from keras.callbacks import EarlyStopping\n",
    "from tensorflow.keras.optimizers import Adam\n",
    "from keras.models import Model\n",
    "from keras import regularizers\n",
    "sequence_length = X_train.shape[1]\n",
    "filter_sizes = [3,4,5]\n",
    "num_filters = 100\n",
    "drop = 0.5"
   ]
  },
  {
   "cell_type": "code",
   "execution_count": 24,
   "id": "5fad1c53",
   "metadata": {},
   "outputs": [],
   "source": [
    "inputs = Input(shape=(sequence_length,))\n",
    "embedding = embedding_layer(inputs)\n",
    "reshape = Reshape((sequence_length,EMBEDDING_DIM,1))(embedding)\n",
    "\n",
    "conv_0 = Conv2D(num_filters, (filter_sizes[0], EMBEDDING_DIM),activation='relu',kernel_regularizer=regularizers.l2(0.01))(reshape)\n",
    "conv_1 = Conv2D(num_filters, (filter_sizes[1], EMBEDDING_DIM),activation='relu',kernel_regularizer=regularizers.l2(0.01))(reshape)\n",
    "conv_2 = Conv2D(num_filters, (filter_sizes[2], EMBEDDING_DIM),activation='relu',kernel_regularizer=regularizers.l2(0.01))(reshape)\n",
    "\n",
    "maxpool_0 = MaxPooling2D((sequence_length - filter_sizes[0] + 1, 1), strides=(1,1))(conv_0)\n",
    "maxpool_1 = MaxPooling2D((sequence_length - filter_sizes[1] + 1, 1), strides=(1,1))(conv_1)\n",
    "maxpool_2 = MaxPooling2D((sequence_length - filter_sizes[2] + 1, 1), strides=(1,1))(conv_2)\n",
    "\n",
    "merged_tensor = concatenate([maxpool_0, maxpool_1, maxpool_2], axis=1)\n",
    "flatten = Flatten()(merged_tensor)\n",
    "reshape = Reshape((3*num_filters,))(flatten)\n",
    "dropout = Dropout(drop)(flatten)\n",
    "output = Dense(units=6, activation='softmax',kernel_regularizer=regularizers.l2(0.01))(dropout)\n",
    "\n",
    "# this creates a model that includes\n",
    "model = Model(inputs, output)"
   ]
  },
  {
   "cell_type": "code",
   "execution_count": 25,
   "id": "0a413644",
   "metadata": {},
   "outputs": [
    {
     "name": "stdout",
     "output_type": "stream",
     "text": [
      "Model: \"model\"\n",
      "__________________________________________________________________________________________________\n",
      " Layer (type)                   Output Shape         Param #     Connected to                     \n",
      "==================================================================================================\n",
      " input_1 (InputLayer)           [(None, 288)]        0           []                               \n",
      "                                                                                                  \n",
      " embedding_1 (Embedding)        (None, 288, 300)     3627900     ['input_1[0][0]']                \n",
      "                                                                                                  \n",
      " reshape (Reshape)              (None, 288, 300, 1)  0           ['embedding_1[0][0]']            \n",
      "                                                                                                  \n",
      " conv2d (Conv2D)                (None, 286, 1, 100)  90100       ['reshape[0][0]']                \n",
      "                                                                                                  \n",
      " conv2d_1 (Conv2D)              (None, 285, 1, 100)  120100      ['reshape[0][0]']                \n",
      "                                                                                                  \n",
      " conv2d_2 (Conv2D)              (None, 284, 1, 100)  150100      ['reshape[0][0]']                \n",
      "                                                                                                  \n",
      " max_pooling2d (MaxPooling2D)   (None, 1, 1, 100)    0           ['conv2d[0][0]']                 \n",
      "                                                                                                  \n",
      " max_pooling2d_1 (MaxPooling2D)  (None, 1, 1, 100)   0           ['conv2d_1[0][0]']               \n",
      "                                                                                                  \n",
      " max_pooling2d_2 (MaxPooling2D)  (None, 1, 1, 100)   0           ['conv2d_2[0][0]']               \n",
      "                                                                                                  \n",
      " concatenate (Concatenate)      (None, 3, 1, 100)    0           ['max_pooling2d[0][0]',          \n",
      "                                                                  'max_pooling2d_1[0][0]',        \n",
      "                                                                  'max_pooling2d_2[0][0]']        \n",
      "                                                                                                  \n",
      " flatten (Flatten)              (None, 300)          0           ['concatenate[0][0]']            \n",
      "                                                                                                  \n",
      " dropout (Dropout)              (None, 300)          0           ['flatten[0][0]']                \n",
      "                                                                                                  \n",
      " dense (Dense)                  (None, 6)            1806        ['dropout[0][0]']                \n",
      "                                                                                                  \n",
      "==================================================================================================\n",
      "Total params: 3,990,006\n",
      "Trainable params: 3,990,006\n",
      "Non-trainable params: 0\n",
      "__________________________________________________________________________________________________\n"
     ]
    }
   ],
   "source": [
    "model.summary()"
   ]
  },
  {
   "cell_type": "code",
   "execution_count": 26,
   "id": "653b255d",
   "metadata": {},
   "outputs": [
    {
     "name": "stderr",
     "output_type": "stream",
     "text": [
      "C:\\Users\\moshi\\anaconda3\\lib\\site-packages\\keras\\optimizer_v2\\adam.py:105: UserWarning: The `lr` argument is deprecated, use `learning_rate` instead.\n",
      "  super(Adam, self).__init__(name, **kwargs)\n"
     ]
    }
   ],
   "source": [
    "adam = Adam(lr=1e-3)\n",
    "\n",
    "model.compile(loss='categorical_crossentropy',\n",
    "              optimizer=adam,\n",
    "              metrics=['acc'])"
   ]
  },
  {
   "cell_type": "code",
   "execution_count": 27,
   "id": "43b5ad76",
   "metadata": {
    "scrolled": true
   },
   "outputs": [],
   "source": [
    "checkpoint_filepath = './Checkpoint/checkpoint'\n",
    "model_checkpoint_callback = tf.keras.callbacks.ModelCheckpoint(\n",
    "    filepath=checkpoint_filepath,\n",
    "    save_weights_only=True,\n",
    "    monitor='test_accuracy',\n",
    "    mode='max',\n",
    "    save_best_only=True)"
   ]
  },
  {
   "cell_type": "code",
   "execution_count": 28,
   "id": "a5ca2ce5",
   "metadata": {},
   "outputs": [
    {
     "name": "stdout",
     "output_type": "stream",
     "text": [
      "Epoch 1/35\n",
      "96/96 [==============================] - ETA: 0s - loss: 1.8607 - acc: 0.2454WARNING:tensorflow:Can save best model only with test_accuracy available, skipping.\n",
      "96/96 [==============================] - 55s 563ms/step - loss: 1.8607 - acc: 0.2454 - val_loss: 1.7972 - val_acc: 0.3154\n",
      "Epoch 2/35\n",
      "96/96 [==============================] - ETA: 0s - loss: 1.7203 - acc: 0.4029WARNING:tensorflow:Can save best model only with test_accuracy available, skipping.\n",
      "96/96 [==============================] - 59s 617ms/step - loss: 1.7203 - acc: 0.4029 - val_loss: 1.6657 - val_acc: 0.3765\n",
      "Epoch 3/35\n",
      "96/96 [==============================] - ETA: 0s - loss: 1.4671 - acc: 0.5525WARNING:tensorflow:Can save best model only with test_accuracy available, skipping.\n",
      "96/96 [==============================] - 64s 666ms/step - loss: 1.4671 - acc: 0.5525 - val_loss: 1.5453 - val_acc: 0.5539\n",
      "Epoch 4/35\n",
      "96/96 [==============================] - ETA: 0s - loss: 1.2110 - acc: 0.7333WARNING:tensorflow:Can save best model only with test_accuracy available, skipping.\n",
      "96/96 [==============================] - 66s 686ms/step - loss: 1.2110 - acc: 0.7333 - val_loss: 1.4756 - val_acc: 0.6110\n",
      "Epoch 5/35\n",
      "96/96 [==============================] - ETA: 0s - loss: 1.0206 - acc: 0.8262WARNING:tensorflow:Can save best model only with test_accuracy available, skipping.\n",
      "96/96 [==============================] - 68s 709ms/step - loss: 1.0206 - acc: 0.8262 - val_loss: 1.4494 - val_acc: 0.6583\n",
      "Epoch 6/35\n",
      "96/96 [==============================] - ETA: 0s - loss: 0.8849 - acc: 0.8780WARNING:tensorflow:Can save best model only with test_accuracy available, skipping.\n",
      "96/96 [==============================] - 66s 687ms/step - loss: 0.8849 - acc: 0.8780 - val_loss: 1.4310 - val_acc: 0.6610\n",
      "Epoch 7/35\n",
      "96/96 [==============================] - ETA: 0s - loss: 0.8025 - acc: 0.9093WARNING:tensorflow:Can save best model only with test_accuracy available, skipping.\n",
      "96/96 [==============================] - 56s 586ms/step - loss: 0.8025 - acc: 0.9093 - val_loss: 1.4250 - val_acc: 0.6662\n",
      "Epoch 8/35\n",
      "96/96 [==============================] - ETA: 0s - loss: 0.7397 - acc: 0.9241WARNING:tensorflow:Can save best model only with test_accuracy available, skipping.\n",
      "96/96 [==============================] - 34s 355ms/step - loss: 0.7397 - acc: 0.9241 - val_loss: 1.4172 - val_acc: 0.6682\n",
      "Epoch 9/35\n",
      "96/96 [==============================] - ETA: 0s - loss: 0.6880 - acc: 0.9356WARNING:tensorflow:Can save best model only with test_accuracy available, skipping.\n",
      "96/96 [==============================] - 35s 368ms/step - loss: 0.6880 - acc: 0.9356 - val_loss: 1.4035 - val_acc: 0.6708\n",
      "Epoch 10/35\n",
      "96/96 [==============================] - ETA: 0s - loss: 0.6560 - acc: 0.9417WARNING:tensorflow:Can save best model only with test_accuracy available, skipping.\n",
      "96/96 [==============================] - 37s 389ms/step - loss: 0.6560 - acc: 0.9417 - val_loss: 1.3841 - val_acc: 0.6794\n",
      "Epoch 11/35\n",
      "96/96 [==============================] - ETA: 0s - loss: 0.6242 - acc: 0.9491WARNING:tensorflow:Can save best model only with test_accuracy available, skipping.\n",
      "96/96 [==============================] - 37s 387ms/step - loss: 0.6242 - acc: 0.9491 - val_loss: 1.3976 - val_acc: 0.6702\n",
      "Epoch 12/35\n",
      "96/96 [==============================] - ETA: 0s - loss: 0.6013 - acc: 0.9522WARNING:tensorflow:Can save best model only with test_accuracy available, skipping.\n",
      "96/96 [==============================] - 37s 389ms/step - loss: 0.6013 - acc: 0.9522 - val_loss: 1.3928 - val_acc: 0.6721\n",
      "Epoch 13/35\n",
      "96/96 [==============================] - ETA: 0s - loss: 0.5792 - acc: 0.9525WARNING:tensorflow:Can save best model only with test_accuracy available, skipping.\n",
      "96/96 [==============================] - 38s 395ms/step - loss: 0.5792 - acc: 0.9525 - val_loss: 1.3635 - val_acc: 0.6767\n",
      "Epoch 14/35\n",
      "96/96 [==============================] - ETA: 0s - loss: 0.5634 - acc: 0.9565WARNING:tensorflow:Can save best model only with test_accuracy available, skipping.\n",
      "96/96 [==============================] - 39s 408ms/step - loss: 0.5634 - acc: 0.9565 - val_loss: 1.3702 - val_acc: 0.6774\n",
      "Epoch 15/35\n",
      "96/96 [==============================] - ETA: 0s - loss: 0.5423 - acc: 0.9566WARNING:tensorflow:Can save best model only with test_accuracy available, skipping.\n",
      "96/96 [==============================] - 35s 363ms/step - loss: 0.5423 - acc: 0.9566 - val_loss: 1.3773 - val_acc: 0.6761\n",
      "Epoch 16/35\n",
      "96/96 [==============================] - ETA: 0s - loss: 0.5305 - acc: 0.9598WARNING:tensorflow:Can save best model only with test_accuracy available, skipping.\n",
      "96/96 [==============================] - 41s 432ms/step - loss: 0.5305 - acc: 0.9598 - val_loss: 1.3682 - val_acc: 0.6800\n",
      "Epoch 17/35\n",
      "96/96 [==============================] - ETA: 0s - loss: 0.5174 - acc: 0.9637WARNING:tensorflow:Can save best model only with test_accuracy available, skipping.\n",
      "96/96 [==============================] - 44s 462ms/step - loss: 0.5174 - acc: 0.9637 - val_loss: 1.3523 - val_acc: 0.6741\n",
      "Epoch 18/35\n",
      "96/96 [==============================] - ETA: 0s - loss: 0.5027 - acc: 0.9606WARNING:tensorflow:Can save best model only with test_accuracy available, skipping.\n",
      "96/96 [==============================] - 41s 427ms/step - loss: 0.5027 - acc: 0.9606 - val_loss: 1.3519 - val_acc: 0.6721\n",
      "Epoch 19/35\n",
      "96/96 [==============================] - ETA: 0s - loss: 0.4917 - acc: 0.9621WARNING:tensorflow:Can save best model only with test_accuracy available, skipping.\n",
      "96/96 [==============================] - 41s 423ms/step - loss: 0.4917 - acc: 0.9621 - val_loss: 1.3703 - val_acc: 0.6715\n",
      "Epoch 20/35\n",
      "96/96 [==============================] - ETA: 0s - loss: 0.4833 - acc: 0.9606WARNING:tensorflow:Can save best model only with test_accuracy available, skipping.\n",
      "96/96 [==============================] - 40s 419ms/step - loss: 0.4833 - acc: 0.9606 - val_loss: 1.3397 - val_acc: 0.6767\n",
      "Epoch 21/35\n",
      "96/96 [==============================] - ETA: 0s - loss: 0.4718 - acc: 0.9629WARNING:tensorflow:Can save best model only with test_accuracy available, skipping.\n",
      "96/96 [==============================] - 41s 425ms/step - loss: 0.4718 - acc: 0.9629 - val_loss: 1.3552 - val_acc: 0.6761\n",
      "Epoch 22/35\n",
      "96/96 [==============================] - ETA: 0s - loss: 0.4623 - acc: 0.9642WARNING:tensorflow:Can save best model only with test_accuracy available, skipping.\n",
      "96/96 [==============================] - 57s 594ms/step - loss: 0.4623 - acc: 0.9642 - val_loss: 1.3548 - val_acc: 0.6748\n",
      "Epoch 23/35\n",
      "96/96 [==============================] - ETA: 0s - loss: 0.4550 - acc: 0.9635WARNING:tensorflow:Can save best model only with test_accuracy available, skipping.\n",
      "96/96 [==============================] - 61s 635ms/step - loss: 0.4550 - acc: 0.9635 - val_loss: 1.3701 - val_acc: 0.6741\n",
      "Epoch 24/35\n",
      "96/96 [==============================] - ETA: 0s - loss: 0.4438 - acc: 0.9663WARNING:tensorflow:Can save best model only with test_accuracy available, skipping.\n",
      "96/96 [==============================] - 63s 662ms/step - loss: 0.4438 - acc: 0.9663 - val_loss: 1.3606 - val_acc: 0.6728\n",
      "Epoch 25/35\n",
      "96/96 [==============================] - ETA: 0s - loss: 0.4448 - acc: 0.9653WARNING:tensorflow:Can save best model only with test_accuracy available, skipping.\n",
      "96/96 [==============================] - 51s 526ms/step - loss: 0.4448 - acc: 0.9653 - val_loss: 1.3547 - val_acc: 0.6754\n",
      "Epoch 26/35\n",
      "96/96 [==============================] - ETA: 0s - loss: 0.4381 - acc: 0.9649WARNING:tensorflow:Can save best model only with test_accuracy available, skipping.\n",
      "96/96 [==============================] - 48s 505ms/step - loss: 0.4381 - acc: 0.9649 - val_loss: 1.3370 - val_acc: 0.6721\n",
      "Epoch 27/35\n",
      "96/96 [==============================] - ETA: 0s - loss: 0.4230 - acc: 0.9676WARNING:tensorflow:Can save best model only with test_accuracy available, skipping.\n",
      "96/96 [==============================] - 59s 614ms/step - loss: 0.4230 - acc: 0.9676 - val_loss: 1.3419 - val_acc: 0.6735\n",
      "Epoch 28/35\n",
      "96/96 [==============================] - ETA: 0s - loss: 0.4188 - acc: 0.9673WARNING:tensorflow:Can save best model only with test_accuracy available, skipping.\n",
      "96/96 [==============================] - 51s 528ms/step - loss: 0.4188 - acc: 0.9673 - val_loss: 1.3630 - val_acc: 0.6715\n"
     ]
    },
    {
     "name": "stdout",
     "output_type": "stream",
     "text": [
      "Epoch 29/35\n",
      "96/96 [==============================] - ETA: 0s - loss: 0.4126 - acc: 0.9675WARNING:tensorflow:Can save best model only with test_accuracy available, skipping.\n",
      "96/96 [==============================] - 58s 607ms/step - loss: 0.4126 - acc: 0.9675 - val_loss: 1.3451 - val_acc: 0.6754\n",
      "Epoch 30/35\n",
      "96/96 [==============================] - ETA: 0s - loss: 0.4098 - acc: 0.9652WARNING:tensorflow:Can save best model only with test_accuracy available, skipping.\n",
      "96/96 [==============================] - 61s 632ms/step - loss: 0.4098 - acc: 0.9652 - val_loss: 1.3477 - val_acc: 0.6682\n",
      "Epoch 31/35\n",
      "96/96 [==============================] - ETA: 0s - loss: 0.4078 - acc: 0.9672WARNING:tensorflow:Can save best model only with test_accuracy available, skipping.\n",
      "96/96 [==============================] - 62s 648ms/step - loss: 0.4078 - acc: 0.9672 - val_loss: 1.3489 - val_acc: 0.6715\n",
      "Epoch 32/35\n",
      "96/96 [==============================] - ETA: 0s - loss: 0.3972 - acc: 0.9686WARNING:tensorflow:Can save best model only with test_accuracy available, skipping.\n",
      "96/96 [==============================] - 60s 628ms/step - loss: 0.3972 - acc: 0.9686 - val_loss: 1.3550 - val_acc: 0.6735\n",
      "Epoch 33/35\n",
      "96/96 [==============================] - ETA: 0s - loss: 0.3949 - acc: 0.9706WARNING:tensorflow:Can save best model only with test_accuracy available, skipping.\n",
      "96/96 [==============================] - 60s 624ms/step - loss: 0.3949 - acc: 0.9706 - val_loss: 1.3504 - val_acc: 0.6728\n",
      "Epoch 34/35\n",
      "96/96 [==============================] - ETA: 0s - loss: 0.3828 - acc: 0.9701WARNING:tensorflow:Can save best model only with test_accuracy available, skipping.\n",
      "96/96 [==============================] - 63s 652ms/step - loss: 0.3828 - acc: 0.9701 - val_loss: 1.3609 - val_acc: 0.6708\n",
      "Epoch 35/35\n",
      "96/96 [==============================] - ETA: 0s - loss: 0.3813 - acc: 0.9667WARNING:tensorflow:Can save best model only with test_accuracy available, skipping.\n",
      "96/96 [==============================] - 61s 637ms/step - loss: 0.3813 - acc: 0.9667 - val_loss: 1.3426 - val_acc: 0.6715\n",
      "Training Accuracy: 0.9750\n",
      "Testing Accuracy:  0.6715\n"
     ]
    }
   ],
   "source": [
    "history = model.fit(X_train, y_train, epochs=35, verbose=1, validation_data=(X_val, y_val), batch_size=64,callbacks=[model_checkpoint_callback]) \n",
    "loss, accuracy = model.evaluate(X_train, y_train, verbose=0)\n",
    "print(\"Training Accuracy: {:.4f}\".format(accuracy))\n",
    "loss, accuracy = model.evaluate(X_val, y_val, verbose=0)\n",
    "print(\"Testing Accuracy:  {:.4f}\".format(accuracy))"
   ]
  },
  {
   "cell_type": "code",
   "execution_count": 29,
   "id": "2ceb510b",
   "metadata": {
    "scrolled": true
   },
   "outputs": [
    {
     "data": {
      "text/plain": [
       "<matplotlib.legend.Legend at 0x1b5d7b8cd90>"
      ]
     },
     "execution_count": 29,
     "metadata": {},
     "output_type": "execute_result"
    },
    {
     "data": {
      "image/png": "[encoded data removed]",
      "text/plain": [
       "<Figure size 432x288 with 1 Axes>"
      ]
     },
     "metadata": {
      "needs_background": "light"
     },
     "output_type": "display_data"
    }
   ],
   "source": [
    "plt.suptitle('Optimizer : Adam', fontsize=10)\n",
    "plt.ylabel('Loss', fontsize=16)\n",
    "plt.xlabel('Epoch', fontsize=14)\n",
    "plt.plot(history.history['loss'], color='b', label='Training Loss')\n",
    "plt.plot(history.history['val_loss'], color='r', label='Validation Loss')\n",
    "plt.legend(loc='upper right')"
   ]
  },
  {
   "cell_type": "code",
   "execution_count": null,
   "id": "3fa3df65",
   "metadata": {},
   "outputs": [],
   "source": []
  }
 ],
 "metadata": {
  "kernelspec": {
   "display_name": "Python 3 (ipykernel)",
   "language": "python",
   "name": "python3"
  },
  "language_info": {
   "codemirror_mode": {
    "name": "ipython",
    "version": 3
   },
   "file_extension": ".py",
   "mimetype": "text/x-python",
   "name": "python",
   "nbconvert_exporter": "python",
   "pygments_lexer": "ipython3",
   "version": "3.9.7"
  }
 },
 "nbformat": 4,
 "nbformat_minor": 5
}
