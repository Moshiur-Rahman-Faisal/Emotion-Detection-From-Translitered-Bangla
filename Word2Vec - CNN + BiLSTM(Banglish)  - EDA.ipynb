{
 "cells": [
  {
   "cell_type": "code",
   "execution_count": 1,
   "id": "0356e1cf",
   "metadata": {},
   "outputs": [],
   "source": [
    "import pandas as pd\n",
    "import numpy as np\n",
    "from matplotlib import pyplot as plt\n",
    "import seaborn as sns\n",
    "import math\n",
    "\n",
    "\n",
    "from gensim.models.word2vec import Word2Vec\n",
    "from sklearn.model_selection import train_test_split\n",
    "from tensorflow.keras.utils import to_categorical\n",
    "from keras.layers import Dense, Dropout, Conv1D, MaxPooling1D, GlobalMaxPooling1D, Embedding, Activation, Input, Flatten\n",
    "from keras.preprocessing.text import Tokenizer\n",
    "from keras.preprocessing.sequence import pad_sequences\n",
    "from keras.models import Sequential\n",
    "import re\n",
    "import nltk\n",
    "from nltk.corpus import stopwords\n",
    "from nltk.stem.snowball import PorterStemmer\n",
    "from sklearn import preprocessing\n",
    "\n",
    "import tensorflow as tf\n",
    "\n",
    "from keras.layers import LSTM, Bidirectional\n",
    "from keras.models import Model\n",
    "from keras.callbacks import EarlyStopping\n",
    "\n",
    "import gensim"
   ]
  },
  {
   "cell_type": "code",
   "execution_count": 2,
   "id": "7b6a9335",
   "metadata": {},
   "outputs": [
    {
     "name": "stdout",
     "output_type": "stream",
     "text": [
      "surprise    1319\n",
      "happy       1305\n",
      "sad         1288\n",
      "angry       1272\n",
      "fear        1231\n",
      "disgust     1196\n",
      "Name: Emotion, dtype: int64\n"
     ]
    },
    {
     "data": {
      "text/html": [
       "<div>\n",
       "<style scoped>\n",
       "    .dataframe tbody tr th:only-of-type {\n",
       "        vertical-align: middle;\n",
       "    }\n",
       "\n",
       "    .dataframe tbody tr th {\n",
       "        vertical-align: top;\n",
       "    }\n",
       "\n",
       "    .dataframe thead th {\n",
       "        text-align: right;\n",
       "    }\n",
       "</style>\n",
       "<table border=\"1\" class=\"dataframe\">\n",
       "  <thead>\n",
       "    <tr style=\"text-align: right;\">\n",
       "      <th></th>\n",
       "      <th>Emotion</th>\n",
       "      <th>text</th>\n",
       "    </tr>\n",
       "  </thead>\n",
       "  <tbody>\n",
       "    <tr>\n",
       "      <th>0</th>\n",
       "      <td>sad</td>\n",
       "      <td>hefajoter pokkhe michil theke hamlay ahoto awa...</td>\n",
       "    </tr>\n",
       "    <tr>\n",
       "      <th>1</th>\n",
       "      <td>angry</td>\n",
       "      <td>e chara mask chara probesh korte dicchi na</td>\n",
       "    </tr>\n",
       "    <tr>\n",
       "      <th>2</th>\n",
       "      <td>disgust</td>\n",
       "      <td>vore uthe batch porano college e class neya ab...</td>\n",
       "    </tr>\n",
       "    <tr>\n",
       "      <th>3</th>\n",
       "      <td>angry</td>\n",
       "      <td>eita pata chagler kach</td>\n",
       "    </tr>\n",
       "    <tr>\n",
       "      <th>4</th>\n",
       "      <td>disgust</td>\n",
       "      <td>sob dalal diye vore geche!</td>\n",
       "    </tr>\n",
       "    <tr>\n",
       "      <th>5</th>\n",
       "      <td>sad</td>\n",
       "      <td>Corona virus mohamari khotigrostho desher tali...</td>\n",
       "    </tr>\n",
       "    <tr>\n",
       "      <th>6</th>\n",
       "      <td>sad</td>\n",
       "      <td>jgnnath bishowbiddaloy kotripokkho mul riporhh...</td>\n",
       "    </tr>\n",
       "    <tr>\n",
       "      <th>7</th>\n",
       "      <td>fear</td>\n",
       "      <td>fole durbolota matha ghorano matha betha khitk...</td>\n",
       "    </tr>\n",
       "    <tr>\n",
       "      <th>8</th>\n",
       "      <td>surprise</td>\n",
       "      <td>nirbachon borjon shothik chilo</td>\n",
       "    </tr>\n",
       "    <tr>\n",
       "      <th>9</th>\n",
       "      <td>disgust</td>\n",
       "      <td>pakisthan ottanto protisodh porayn ekti hingsr...</td>\n",
       "    </tr>\n",
       "  </tbody>\n",
       "</table>\n",
       "</div>"
      ],
      "text/plain": [
       "    Emotion                                               text\n",
       "0       sad  hefajoter pokkhe michil theke hamlay ahoto awa...\n",
       "1     angry         e chara mask chara probesh korte dicchi na\n",
       "2   disgust  vore uthe batch porano college e class neya ab...\n",
       "3     angry                             eita pata chagler kach\n",
       "4   disgust                         sob dalal diye vore geche!\n",
       "5       sad  Corona virus mohamari khotigrostho desher tali...\n",
       "6       sad  jgnnath bishowbiddaloy kotripokkho mul riporhh...\n",
       "7      fear  fole durbolota matha ghorano matha betha khitk...\n",
       "8  surprise                     nirbachon borjon shothik chilo\n",
       "9   disgust  pakisthan ottanto protisodh porayn ekti hingsr..."
      ]
     },
     "execution_count": 2,
     "metadata": {},
     "output_type": "execute_result"
    }
   ],
   "source": [
    "df = pd.read_csv('Banglish EDA.csv',encoding= 'unicode_escape')\n",
    "\n",
    "\n",
    "print(df.Emotion.value_counts())\n",
    "\n",
    "df.head(10)\n"
   ]
  },
  {
   "cell_type": "code",
   "execution_count": 3,
   "id": "136eda95",
   "metadata": {},
   "outputs": [
    {
     "data": {
      "text/plain": [
       "<bound method NDFrame.head of       Emotion                                               text\n",
       "0         sad  hefajoter pokkhe michil theke hamlay ahoto awa...\n",
       "1       angry         e chara mask chara probesh korte dicchi na\n",
       "2     disgust  vore uthe batch porano college e class neya ab...\n",
       "3       angry                             eita pata chagler kach\n",
       "4     disgust                         sob dalal diye vore geche!\n",
       "...       ...                                                ...\n",
       "7606     fear  tbe sakoti niymit sngskar na koray bortomane e...\n",
       "7607    angry                            amar oporadh ami hindu \n",
       "7608    angry  apnara kiser zukti niye bolechen amar sudhu ek...\n",
       "7609     fear                   ar baki sob hotta mene neya zay!\n",
       "7610    angry  BNP kkhn khomotay ashole eder ki hobe? eder ke...\n",
       "\n",
       "[7611 rows x 2 columns]>"
      ]
     },
     "execution_count": 3,
     "metadata": {},
     "output_type": "execute_result"
    }
   ],
   "source": [
    "df.head"
   ]
  },
  {
   "cell_type": "code",
   "execution_count": 4,
   "id": "caecabfd",
   "metadata": {},
   "outputs": [
    {
     "data": {
      "text/html": [
       "<div>\n",
       "<style scoped>\n",
       "    .dataframe tbody tr th:only-of-type {\n",
       "        vertical-align: middle;\n",
       "    }\n",
       "\n",
       "    .dataframe tbody tr th {\n",
       "        vertical-align: top;\n",
       "    }\n",
       "\n",
       "    .dataframe thead tr th {\n",
       "        text-align: left;\n",
       "    }\n",
       "\n",
       "    .dataframe thead tr:last-of-type th {\n",
       "        text-align: right;\n",
       "    }\n",
       "</style>\n",
       "<table border=\"1\" class=\"dataframe\">\n",
       "  <thead>\n",
       "    <tr>\n",
       "      <th></th>\n",
       "      <th colspan=\"4\" halign=\"left\">text</th>\n",
       "    </tr>\n",
       "    <tr>\n",
       "      <th></th>\n",
       "      <th>count</th>\n",
       "      <th>unique</th>\n",
       "      <th>top</th>\n",
       "      <th>freq</th>\n",
       "    </tr>\n",
       "    <tr>\n",
       "      <th>Emotion</th>\n",
       "      <th></th>\n",
       "      <th></th>\n",
       "      <th></th>\n",
       "      <th></th>\n",
       "    </tr>\n",
       "  </thead>\n",
       "  <tbody>\n",
       "    <tr>\n",
       "      <th>angry</th>\n",
       "      <td>1272</td>\n",
       "      <td>881</td>\n",
       "      <td>jonogon vot kendre zayni odhikangs manusher sh...</td>\n",
       "      <td>6</td>\n",
       "    </tr>\n",
       "    <tr>\n",
       "      <th>disgust</th>\n",
       "      <td>1196</td>\n",
       "      <td>628</td>\n",
       "      <td>mzadam sekh hasina khali hate firechen ta khar...</td>\n",
       "      <td>9</td>\n",
       "    </tr>\n",
       "    <tr>\n",
       "      <th>fear</th>\n",
       "      <td>1231</td>\n",
       "      <td>586</td>\n",
       "      <td>ete bojha gel ze khmotoay tike thakar jonno do...</td>\n",
       "      <td>11</td>\n",
       "    </tr>\n",
       "    <tr>\n",
       "      <th>happy</th>\n",
       "      <td>1305</td>\n",
       "      <td>913</td>\n",
       "      <td>dhonnobaad</td>\n",
       "      <td>10</td>\n",
       "    </tr>\n",
       "    <tr>\n",
       "      <th>sad</th>\n",
       "      <td>1288</td>\n",
       "      <td>1051</td>\n",
       "      <td>shontaner sob khrc dile ki shontaner bap hoya ...</td>\n",
       "      <td>5</td>\n",
       "    </tr>\n",
       "    <tr>\n",
       "      <th>surprise</th>\n",
       "      <td>1319</td>\n",
       "      <td>648</td>\n",
       "      <td>cheler biyete ma jante parlen kone tar meye!</td>\n",
       "      <td>11</td>\n",
       "    </tr>\n",
       "  </tbody>\n",
       "</table>\n",
       "</div>"
      ],
      "text/plain": [
       "          text                                                               \n",
       "         count unique                                                top freq\n",
       "Emotion                                                                      \n",
       "angry     1272    881  jonogon vot kendre zayni odhikangs manusher sh...    6\n",
       "disgust   1196    628  mzadam sekh hasina khali hate firechen ta khar...    9\n",
       "fear      1231    586  ete bojha gel ze khmotoay tike thakar jonno do...   11\n",
       "happy     1305    913                                         dhonnobaad   10\n",
       "sad       1288   1051  shontaner sob khrc dile ki shontaner bap hoya ...    5\n",
       "surprise  1319    648       cheler biyete ma jante parlen kone tar meye!   11"
      ]
     },
     "execution_count": 4,
     "metadata": {},
     "output_type": "execute_result"
    }
   ],
   "source": [
    "df.groupby(\"Emotion\").describe()"
   ]
  },
  {
   "cell_type": "code",
   "execution_count": 5,
   "id": "a710a6cb",
   "metadata": {
    "scrolled": false
   },
   "outputs": [
    {
     "data": {
      "text/plain": [
       "<bound method NDFrame.head of       Emotion                                               text\n",
       "0         sad  hefajoter pokkhe michil theke hamlay ahoto awa...\n",
       "1       angry         e chara mask chara probesh korte dicchi na\n",
       "2     disgust  vore uthe batch porano college e class neya ab...\n",
       "3       angry                             eita pata chagler kach\n",
       "4     disgust                         sob dalal diye vore geche!\n",
       "...       ...                                                ...\n",
       "7606     fear  tbe sakoti niymit sngskar na koray bortomane e...\n",
       "7607    angry                            amar oporadh ami hindu \n",
       "7608    angry  apnara kiser zukti niye bolechen amar sudhu ek...\n",
       "7609     fear                   ar baki sob hotta mene neya zay!\n",
       "7610    angry  BNP kkhn khomotay ashole eder ki hobe? eder ke...\n",
       "\n",
       "[7611 rows x 2 columns]>"
      ]
     },
     "execution_count": 5,
     "metadata": {},
     "output_type": "execute_result"
    }
   ],
   "source": [
    "df.head"
   ]
  },
  {
   "cell_type": "code",
   "execution_count": 6,
   "id": "12f3da68",
   "metadata": {
    "scrolled": true
   },
   "outputs": [
    {
     "data": {
      "text/html": [
       "<div>\n",
       "<style scoped>\n",
       "    .dataframe tbody tr th:only-of-type {\n",
       "        vertical-align: middle;\n",
       "    }\n",
       "\n",
       "    .dataframe tbody tr th {\n",
       "        vertical-align: top;\n",
       "    }\n",
       "\n",
       "    .dataframe thead th {\n",
       "        text-align: right;\n",
       "    }\n",
       "</style>\n",
       "<table border=\"1\" class=\"dataframe\">\n",
       "  <thead>\n",
       "    <tr style=\"text-align: right;\">\n",
       "      <th></th>\n",
       "      <th>Emotion</th>\n",
       "      <th>text</th>\n",
       "    </tr>\n",
       "  </thead>\n",
       "  <tbody>\n",
       "    <tr>\n",
       "      <th>0</th>\n",
       "      <td>False</td>\n",
       "      <td>False</td>\n",
       "    </tr>\n",
       "    <tr>\n",
       "      <th>1</th>\n",
       "      <td>False</td>\n",
       "      <td>False</td>\n",
       "    </tr>\n",
       "    <tr>\n",
       "      <th>2</th>\n",
       "      <td>False</td>\n",
       "      <td>False</td>\n",
       "    </tr>\n",
       "    <tr>\n",
       "      <th>3</th>\n",
       "      <td>False</td>\n",
       "      <td>False</td>\n",
       "    </tr>\n",
       "    <tr>\n",
       "      <th>4</th>\n",
       "      <td>False</td>\n",
       "      <td>False</td>\n",
       "    </tr>\n",
       "    <tr>\n",
       "      <th>...</th>\n",
       "      <td>...</td>\n",
       "      <td>...</td>\n",
       "    </tr>\n",
       "    <tr>\n",
       "      <th>7606</th>\n",
       "      <td>False</td>\n",
       "      <td>False</td>\n",
       "    </tr>\n",
       "    <tr>\n",
       "      <th>7607</th>\n",
       "      <td>False</td>\n",
       "      <td>False</td>\n",
       "    </tr>\n",
       "    <tr>\n",
       "      <th>7608</th>\n",
       "      <td>False</td>\n",
       "      <td>False</td>\n",
       "    </tr>\n",
       "    <tr>\n",
       "      <th>7609</th>\n",
       "      <td>False</td>\n",
       "      <td>False</td>\n",
       "    </tr>\n",
       "    <tr>\n",
       "      <th>7610</th>\n",
       "      <td>False</td>\n",
       "      <td>False</td>\n",
       "    </tr>\n",
       "  </tbody>\n",
       "</table>\n",
       "<p>7611 rows × 2 columns</p>\n",
       "</div>"
      ],
      "text/plain": [
       "      Emotion   text\n",
       "0       False  False\n",
       "1       False  False\n",
       "2       False  False\n",
       "3       False  False\n",
       "4       False  False\n",
       "...       ...    ...\n",
       "7606    False  False\n",
       "7607    False  False\n",
       "7608    False  False\n",
       "7609    False  False\n",
       "7610    False  False\n",
       "\n",
       "[7611 rows x 2 columns]"
      ]
     },
     "execution_count": 6,
     "metadata": {},
     "output_type": "execute_result"
    }
   ],
   "source": [
    "df.isnull()"
   ]
  },
  {
   "cell_type": "code",
   "execution_count": 7,
   "id": "6416bc9d",
   "metadata": {},
   "outputs": [],
   "source": [
    "df.dropna(inplace=True)"
   ]
  },
  {
   "cell_type": "code",
   "execution_count": 8,
   "id": "23fbb740",
   "metadata": {},
   "outputs": [],
   "source": [
    "text = df['text'].values.tolist()"
   ]
  },
  {
   "cell_type": "code",
   "execution_count": 9,
   "id": "73914a34",
   "metadata": {},
   "outputs": [
    {
     "data": {
      "text/html": [
       "<div>\n",
       "<style scoped>\n",
       "    .dataframe tbody tr th:only-of-type {\n",
       "        vertical-align: middle;\n",
       "    }\n",
       "\n",
       "    .dataframe tbody tr th {\n",
       "        vertical-align: top;\n",
       "    }\n",
       "\n",
       "    .dataframe thead tr th {\n",
       "        text-align: left;\n",
       "    }\n",
       "\n",
       "    .dataframe thead tr:last-of-type th {\n",
       "        text-align: right;\n",
       "    }\n",
       "</style>\n",
       "<table border=\"1\" class=\"dataframe\">\n",
       "  <thead>\n",
       "    <tr>\n",
       "      <th></th>\n",
       "      <th colspan=\"4\" halign=\"left\">text</th>\n",
       "    </tr>\n",
       "    <tr>\n",
       "      <th></th>\n",
       "      <th>count</th>\n",
       "      <th>unique</th>\n",
       "      <th>top</th>\n",
       "      <th>freq</th>\n",
       "    </tr>\n",
       "    <tr>\n",
       "      <th>Emotion</th>\n",
       "      <th></th>\n",
       "      <th></th>\n",
       "      <th></th>\n",
       "      <th></th>\n",
       "    </tr>\n",
       "  </thead>\n",
       "  <tbody>\n",
       "    <tr>\n",
       "      <th>angry</th>\n",
       "      <td>1272</td>\n",
       "      <td>881</td>\n",
       "      <td>jonogon vot kendre zayni odhikangs manusher sh...</td>\n",
       "      <td>6</td>\n",
       "    </tr>\n",
       "    <tr>\n",
       "      <th>disgust</th>\n",
       "      <td>1196</td>\n",
       "      <td>628</td>\n",
       "      <td>mzadam sekh hasina khali hate firechen ta khar...</td>\n",
       "      <td>9</td>\n",
       "    </tr>\n",
       "    <tr>\n",
       "      <th>fear</th>\n",
       "      <td>1231</td>\n",
       "      <td>586</td>\n",
       "      <td>ete bojha gel ze khmotoay tike thakar jonno do...</td>\n",
       "      <td>11</td>\n",
       "    </tr>\n",
       "    <tr>\n",
       "      <th>happy</th>\n",
       "      <td>1305</td>\n",
       "      <td>913</td>\n",
       "      <td>dhonnobaad</td>\n",
       "      <td>10</td>\n",
       "    </tr>\n",
       "    <tr>\n",
       "      <th>sad</th>\n",
       "      <td>1288</td>\n",
       "      <td>1051</td>\n",
       "      <td>shontaner sob khrc dile ki shontaner bap hoya ...</td>\n",
       "      <td>5</td>\n",
       "    </tr>\n",
       "    <tr>\n",
       "      <th>surprise</th>\n",
       "      <td>1319</td>\n",
       "      <td>648</td>\n",
       "      <td>cheler biyete ma jante parlen kone tar meye!</td>\n",
       "      <td>11</td>\n",
       "    </tr>\n",
       "  </tbody>\n",
       "</table>\n",
       "</div>"
      ],
      "text/plain": [
       "          text                                                               \n",
       "         count unique                                                top freq\n",
       "Emotion                                                                      \n",
       "angry     1272    881  jonogon vot kendre zayni odhikangs manusher sh...    6\n",
       "disgust   1196    628  mzadam sekh hasina khali hate firechen ta khar...    9\n",
       "fear      1231    586  ete bojha gel ze khmotoay tike thakar jonno do...   11\n",
       "happy     1305    913                                         dhonnobaad   10\n",
       "sad       1288   1051  shontaner sob khrc dile ki shontaner bap hoya ...    5\n",
       "surprise  1319    648       cheler biyete ma jante parlen kone tar meye!   11"
      ]
     },
     "execution_count": 9,
     "metadata": {},
     "output_type": "execute_result"
    }
   ],
   "source": [
    "df.groupby(\"Emotion\").describe()"
   ]
  },
  {
   "cell_type": "code",
   "execution_count": 10,
   "id": "9367651b",
   "metadata": {},
   "outputs": [
    {
     "data": {
      "text/plain": [
       "surprise    1319\n",
       "happy       1305\n",
       "sad         1288\n",
       "angry       1272\n",
       "fear        1231\n",
       "disgust     1196\n",
       "Name: Emotion, dtype: int64"
      ]
     },
     "execution_count": 10,
     "metadata": {},
     "output_type": "execute_result"
    }
   ],
   "source": [
    "df[\"Emotion\"].value_counts()"
   ]
  },
  {
   "cell_type": "code",
   "execution_count": 11,
   "id": "17a8951f",
   "metadata": {},
   "outputs": [
    {
     "name": "stderr",
     "output_type": "stream",
     "text": [
      "C:\\Users\\moshi\\anaconda3\\lib\\site-packages\\seaborn\\_decorators.py:36: FutureWarning: Pass the following variable as a keyword arg: x. From version 0.12, the only valid positional argument will be `data`, and passing other arguments without an explicit keyword will result in an error or misinterpretation.\n",
      "  warnings.warn(\n"
     ]
    },
    {
     "data": {
      "image/png": "[encoded data removed]",
      "text/plain": [
       "<Figure size 576x360 with 1 Axes>"
      ]
     },
     "metadata": {
      "needs_background": "light"
     },
     "output_type": "display_data"
    }
   ],
   "source": [
    "plt.subplots(figsize=(8,5))\n",
    "sns.countplot(df[\"Emotion\"])\n",
    "plt.show()"
   ]
  },
  {
   "cell_type": "code",
   "execution_count": 12,
   "id": "8dd4d10d",
   "metadata": {},
   "outputs": [
    {
     "name": "stdout",
     "output_type": "stream",
     "text": [
      "1889\n"
     ]
    }
   ],
   "source": [
    "longest_string = max(df[\"text\"], key=len)\n",
    "print(len(longest_string))"
   ]
  },
  {
   "cell_type": "code",
   "execution_count": 13,
   "id": "5da59c48",
   "metadata": {},
   "outputs": [
    {
     "name": "stdout",
     "output_type": "stream",
     "text": [
      "data shape (7611, 2)\n"
     ]
    }
   ],
   "source": [
    "print(\"data shape\", df.shape)"
   ]
  },
  {
   "cell_type": "code",
   "execution_count": 14,
   "id": "3b75240a",
   "metadata": {
    "scrolled": true
   },
   "outputs": [
    {
     "data": {
      "text/plain": [
       "<bound method NDFrame.describe of       Emotion                                               text\n",
       "0         sad  hefajoter pokkhe michil theke hamlay ahoto awa...\n",
       "1       angry         e chara mask chara probesh korte dicchi na\n",
       "2     disgust  vore uthe batch porano college e class neya ab...\n",
       "3       angry                             eita pata chagler kach\n",
       "4     disgust                         sob dalal diye vore geche!\n",
       "...       ...                                                ...\n",
       "7606     fear  tbe sakoti niymit sngskar na koray bortomane e...\n",
       "7607    angry                            amar oporadh ami hindu \n",
       "7608    angry  apnara kiser zukti niye bolechen amar sudhu ek...\n",
       "7609     fear                   ar baki sob hotta mene neya zay!\n",
       "7610    angry  BNP kkhn khomotay ashole eder ki hobe? eder ke...\n",
       "\n",
       "[7611 rows x 2 columns]>"
      ]
     },
     "execution_count": 14,
     "metadata": {},
     "output_type": "execute_result"
    }
   ],
   "source": [
    "df.describe"
   ]
  },
  {
   "cell_type": "code",
   "execution_count": 15,
   "id": "5775a02d",
   "metadata": {},
   "outputs": [
    {
     "name": "stdout",
     "output_type": "stream",
     "text": [
      "0       0\n",
      "1       1\n",
      "2       2\n",
      "3       1\n",
      "4       2\n",
      "       ..\n",
      "7606    3\n",
      "7607    1\n",
      "7608    1\n",
      "7609    3\n",
      "7610    1\n",
      "Name: Emotion, Length: 7611, dtype: int64\n"
     ]
    }
   ],
   "source": [
    "Emotion_Class=df.Emotion.unique()\n",
    "dic={}\n",
    "for i,Emotion in enumerate(Emotion_Class):\n",
    "    dic[Emotion]=i\n",
    "labels=df.Emotion.apply(lambda x:dic[x])\n",
    "print(labels)"
   ]
  },
  {
   "cell_type": "code",
   "execution_count": 16,
   "id": "13f55c5d",
   "metadata": {},
   "outputs": [],
   "source": [
    "val_data=df.sample(frac=0.2,random_state=200)\n",
    "train_data=df.drop(val_data.index)"
   ]
  },
  {
   "cell_type": "code",
   "execution_count": 17,
   "id": "6db807b5",
   "metadata": {},
   "outputs": [],
   "source": [
    "from keras.preprocessing.text import Tokenizer\n",
    "from keras.preprocessing.sequence import pad_sequences\n",
    "from tensorflow.keras.utils import to_categorical"
   ]
  },
  {
   "cell_type": "code",
   "execution_count": 18,
   "id": "69a6f281",
   "metadata": {},
   "outputs": [],
   "source": [
    "texts=train_data.text"
   ]
  },
  {
   "cell_type": "code",
   "execution_count": 19,
   "id": "9feb2519",
   "metadata": {},
   "outputs": [
    {
     "name": "stdout",
     "output_type": "stream",
     "text": [
      "Found 12092 unique tokens.\n"
     ]
    }
   ],
   "source": [
    "NUM_WORDS=20000\n",
    "tokenizer = Tokenizer(num_words=NUM_WORDS,filters='!\"#$%&()*+,-./:;<=>?@[\\\\]^_`{|}~\\t\\n\\'',\n",
    "                      lower=True)\n",
    "tokenizer.fit_on_texts(texts)\n",
    "sequences_train = tokenizer.texts_to_sequences(texts)\n",
    "sequences_valid=tokenizer.texts_to_sequences(val_data.text)\n",
    "word_index = tokenizer.word_index\n",
    "print('Found %s unique tokens.' % len(word_index))"
   ]
  },
  {
   "cell_type": "code",
   "execution_count": 20,
   "id": "bdda0e16",
   "metadata": {},
   "outputs": [
    {
     "name": "stdout",
     "output_type": "stream",
     "text": [
      "Shape of X train and X validation tensor: (6089, 288) (1522, 288)\n",
      "Shape of label train and validation tensor: (6089, 6) (1522, 6)\n"
     ]
    }
   ],
   "source": [
    "X_train = pad_sequences(sequences_train)\n",
    "X_val = pad_sequences(sequences_valid,maxlen=X_train.shape[1])\n",
    "y_train = to_categorical(np.asarray(labels[train_data.index]))\n",
    "y_val = to_categorical(np.asarray(labels[val_data.index]))\n",
    "print('Shape of X train and X validation tensor:', X_train.shape,X_val.shape)\n",
    "print('Shape of label train and validation tensor:', y_train.shape,y_val.shape)"
   ]
  },
  {
   "cell_type": "code",
   "execution_count": 21,
   "id": "89620c4f",
   "metadata": {},
   "outputs": [
    {
     "name": "stdout",
     "output_type": "stream",
     "text": [
      "(12093, 300)\n"
     ]
    }
   ],
   "source": [
    "import gensim\n",
    "from gensim.models import Word2Vec\n",
    "from gensim.utils import simple_preprocess\n",
    "\n",
    "from gensim.models.keyedvectors import KeyedVectors\n",
    "\n",
    "word_vectors = KeyedVectors.load_word2vec_format('C:/Users/moshi/Python Code/Vietnam and Indonesia/GoogleNews-vectors-negative300.bin', binary=True)\n",
    "\n",
    "EMBEDDING_DIM=300\n",
    "vocabulary_size=min(len(word_index)+1,NUM_WORDS)\n",
    "embedding_matrix = np.zeros((vocabulary_size, EMBEDDING_DIM))\n",
    "for word, i in word_index.items():\n",
    "    if i>=NUM_WORDS:\n",
    "        continue\n",
    "    try:\n",
    "        embedding_vector = word_vectors[word]\n",
    "        embedding_matrix[i] = embedding_vector\n",
    "    except KeyError:\n",
    "        embedding_matrix[i]=np.random.normal(0,np.sqrt(0.25),EMBEDDING_DIM)\n",
    "\n",
    "del(word_vectors)\n",
    "print(embedding_matrix.shape)\n",
    "\n",
    "from keras.layers import Embedding\n",
    "embedding_layer = Embedding(vocabulary_size,\n",
    "                            EMBEDDING_DIM,\n",
    "                            weights=[embedding_matrix],\n",
    "                            trainable=True)"
   ]
  },
  {
   "cell_type": "code",
   "execution_count": 22,
   "id": "469bb678",
   "metadata": {},
   "outputs": [
    {
     "name": "stdout",
     "output_type": "stream",
     "text": [
      "Max len: 288\n"
     ]
    }
   ],
   "source": [
    "from keras.layers import Embedding\n",
    "EMBEDDING_DIM=300\n",
    "vocabulary_size=min(len(word_index)+1,NUM_WORDS)\n",
    "\n",
    "embedding_layer = Embedding(vocabulary_size,\n",
    "                            EMBEDDING_DIM)\n",
    "\n",
    "\n",
    "#calculating max length of the vector\n",
    "lens_train = [len(i) for i in X_train]\n",
    "lens_test = [len(i) for i in X_val]\n",
    "lens = lens_train + lens_test\n",
    "\n",
    "maxlen = np.max(lens)\n",
    "\n",
    "print('Max len:', maxlen)"
   ]
  },
  {
   "cell_type": "code",
   "execution_count": 23,
   "id": "28979783",
   "metadata": {},
   "outputs": [],
   "source": [
    "from keras.layers import Dense, Input, GlobalMaxPooling1D\n",
    "from keras.layers import Conv1D, MaxPooling1D, Embedding\n",
    "from keras.models import Model\n",
    "from keras.layers import Input, Dense, Embedding, Conv2D, MaxPooling2D, Dropout,concatenate\n",
    "from keras.layers.core import Reshape, Flatten\n",
    "from keras.callbacks import EarlyStopping\n",
    "from tensorflow.keras.optimizers import Adam\n",
    "from keras.models import Model\n",
    "from keras import regularizers\n",
    "sequence_length = X_train.shape[1]\n",
    "act= \"swish\"\n",
    "opt= tf.keras.optimizers.Adam(learning_rate=0.001)"
   ]
  },
  {
   "cell_type": "code",
   "execution_count": 24,
   "id": "5ed3ebc1",
   "metadata": {},
   "outputs": [],
   "source": [
    "from keras import layers\n",
    "from keras.models import Sequential"
   ]
  },
  {
   "cell_type": "code",
   "execution_count": 25,
   "id": "8758932b",
   "metadata": {},
   "outputs": [
    {
     "name": "stdout",
     "output_type": "stream",
     "text": [
      "Model: \"sequential\"\n",
      "_________________________________________________________________\n",
      " Layer (type)                Output Shape              Param #   \n",
      "=================================================================\n",
      " embedding_2 (Embedding)     (None, 288, 300)          3627900   \n",
      "                                                                 \n",
      " dropout (Dropout)           (None, 288, 300)          0         \n",
      "                                                                 \n",
      " conv1d (Conv1D)             (None, 286, 64)           57664     \n",
      "                                                                 \n",
      " max_pooling1d (MaxPooling1D  (None, 95, 64)           0         \n",
      " )                                                               \n",
      "                                                                 \n",
      " dropout_1 (Dropout)         (None, 95, 64)            0         \n",
      "                                                                 \n",
      " conv1d_1 (Conv1D)           (None, 93, 64)            12352     \n",
      "                                                                 \n",
      " max_pooling1d_1 (MaxPooling  (None, 31, 64)           0         \n",
      " 1D)                                                             \n",
      "                                                                 \n",
      " dropout_2 (Dropout)         (None, 31, 64)            0         \n",
      "                                                                 \n",
      " bidirectional (Bidirectiona  (None, 512)              657408    \n",
      " l)                                                              \n",
      "                                                                 \n",
      " dropout_3 (Dropout)         (None, 512)               0         \n",
      "                                                                 \n",
      " dense (Dense)               (None, 256)               131328    \n",
      "                                                                 \n",
      " dropout_4 (Dropout)         (None, 256)               0         \n",
      "                                                                 \n",
      " dense_1 (Dense)             (None, 6)                 1542      \n",
      "                                                                 \n",
      "=================================================================\n",
      "Total params: 4,488,194\n",
      "Trainable params: 4,488,194\n",
      "Non-trainable params: 0\n",
      "_________________________________________________________________\n"
     ]
    }
   ],
   "source": [
    "model = Sequential()\n",
    "model.add(layers.Embedding(input_dim=vocabulary_size, output_dim=EMBEDDING_DIM, weights = [embedding_matrix], input_length=maxlen))\n",
    "model.add(layers.Dropout(0.3)) \n",
    "model.add(layers.Conv1D(filters=64, kernel_size=3, activation=act)) \n",
    "model.add(layers.MaxPool1D(pool_size=3)) \n",
    "model.add(layers.Dropout(0.3))\n",
    "model.add(layers.Conv1D(filters=64, kernel_size=3, activation=act)) \n",
    "model.add(layers.MaxPool1D(pool_size=3)) \n",
    "model.add(layers.Dropout(0.3))\n",
    "model.add(layers.Bidirectional(layers.LSTM(256, recurrent_dropout=0.3)))\n",
    "model.add(layers.Dropout(0.3))\n",
    "model.add(layers.Dense(256,activation=act)) \n",
    "model.add(layers.Dropout(0.3)) \n",
    "model.add(layers.Dense(6, activation=\"softmax\"))\n",
    "model.compile(optimizer=opt, loss=\"categorical_crossentropy\",metrics=[\"accuracy\"])\n",
    "model.summary()"
   ]
  },
  {
   "cell_type": "code",
   "execution_count": 26,
   "id": "a5ca2ce5",
   "metadata": {},
   "outputs": [
    {
     "name": "stdout",
     "output_type": "stream",
     "text": [
      "Epoch 1/35\n",
      "96/96 [==============================] - 36s 346ms/step - loss: 1.7853 - accuracy: 0.1963 - val_loss: 1.7802 - val_accuracy: 0.1873\n",
      "Epoch 2/35\n",
      "96/96 [==============================] - 32s 333ms/step - loss: 1.7364 - accuracy: 0.2457 - val_loss: 1.6828 - val_accuracy: 0.2832\n",
      "Epoch 3/35\n",
      "96/96 [==============================] - 31s 327ms/step - loss: 1.5460 - accuracy: 0.3777 - val_loss: 1.4723 - val_accuracy: 0.4225\n",
      "Epoch 4/35\n",
      "96/96 [==============================] - 32s 331ms/step - loss: 1.3096 - accuracy: 0.4924 - val_loss: 1.2991 - val_accuracy: 0.5217\n",
      "Epoch 5/35\n",
      "96/96 [==============================] - 32s 331ms/step - loss: 1.1248 - accuracy: 0.5748 - val_loss: 1.2038 - val_accuracy: 0.5611\n",
      "Epoch 6/35\n",
      "96/96 [==============================] - 32s 336ms/step - loss: 0.9655 - accuracy: 0.6459 - val_loss: 1.1446 - val_accuracy: 0.6137\n",
      "Epoch 7/35\n",
      "96/96 [==============================] - 33s 343ms/step - loss: 0.8314 - accuracy: 0.7009 - val_loss: 1.1007 - val_accuracy: 0.6393\n",
      "Epoch 8/35\n",
      "96/96 [==============================] - 32s 338ms/step - loss: 0.7213 - accuracy: 0.7400 - val_loss: 1.1385 - val_accuracy: 0.6426\n",
      "Epoch 9/35\n",
      "96/96 [==============================] - 32s 335ms/step - loss: 0.6382 - accuracy: 0.7794 - val_loss: 1.1546 - val_accuracy: 0.6531\n",
      "Epoch 10/35\n",
      "96/96 [==============================] - 32s 338ms/step - loss: 0.5629 - accuracy: 0.8034 - val_loss: 1.1609 - val_accuracy: 0.6590\n",
      "Epoch 11/35\n",
      "96/96 [==============================] - 32s 335ms/step - loss: 0.5030 - accuracy: 0.8308 - val_loss: 1.2117 - val_accuracy: 0.6643\n",
      "Epoch 12/35\n",
      "96/96 [==============================] - 33s 341ms/step - loss: 0.4533 - accuracy: 0.8428 - val_loss: 1.2171 - val_accuracy: 0.6636\n",
      "Epoch 13/35\n",
      "96/96 [==============================] - 32s 333ms/step - loss: 0.4184 - accuracy: 0.8609 - val_loss: 1.2632 - val_accuracy: 0.6656\n",
      "Epoch 14/35\n",
      "96/96 [==============================] - 32s 335ms/step - loss: 0.3801 - accuracy: 0.8689 - val_loss: 1.2558 - val_accuracy: 0.6669\n",
      "Epoch 15/35\n",
      "96/96 [==============================] - 33s 344ms/step - loss: 0.3655 - accuracy: 0.8773 - val_loss: 1.3006 - val_accuracy: 0.6689\n",
      "Epoch 16/35\n",
      "96/96 [==============================] - 33s 342ms/step - loss: 0.3131 - accuracy: 0.8982 - val_loss: 1.2942 - val_accuracy: 0.6794\n",
      "Epoch 17/35\n",
      "96/96 [==============================] - 39s 407ms/step - loss: 0.3103 - accuracy: 0.8967 - val_loss: 1.3411 - val_accuracy: 0.6774\n",
      "Epoch 18/35\n",
      "96/96 [==============================] - 47s 486ms/step - loss: 0.2721 - accuracy: 0.9080 - val_loss: 1.4165 - val_accuracy: 0.6767\n",
      "Epoch 19/35\n",
      "96/96 [==============================] - 47s 486ms/step - loss: 0.2776 - accuracy: 0.9082 - val_loss: 1.4314 - val_accuracy: 0.6813\n",
      "Epoch 20/35\n",
      "96/96 [==============================] - 48s 505ms/step - loss: 0.2670 - accuracy: 0.9121 - val_loss: 1.3878 - val_accuracy: 0.6800\n",
      "Epoch 21/35\n",
      "96/96 [==============================] - 61s 639ms/step - loss: 0.2420 - accuracy: 0.9205 - val_loss: 1.4787 - val_accuracy: 0.6840\n",
      "Epoch 22/35\n",
      "96/96 [==============================] - 57s 599ms/step - loss: 0.2359 - accuracy: 0.9225 - val_loss: 1.4741 - val_accuracy: 0.6859\n",
      "Epoch 23/35\n",
      "96/96 [==============================] - 52s 538ms/step - loss: 0.2310 - accuracy: 0.9246 - val_loss: 1.4836 - val_accuracy: 0.6879\n",
      "Epoch 24/35\n",
      "96/96 [==============================] - 47s 496ms/step - loss: 0.2134 - accuracy: 0.9309 - val_loss: 1.5240 - val_accuracy: 0.6919\n",
      "Epoch 25/35\n",
      "96/96 [==============================] - 62s 648ms/step - loss: 0.2175 - accuracy: 0.9282 - val_loss: 1.5038 - val_accuracy: 0.6833\n",
      "Epoch 26/35\n",
      "96/96 [==============================] - 47s 490ms/step - loss: 0.1801 - accuracy: 0.9417 - val_loss: 1.6196 - val_accuracy: 0.6813\n",
      "Epoch 27/35\n",
      "96/96 [==============================] - 47s 496ms/step - loss: 0.1913 - accuracy: 0.9364 - val_loss: 1.6784 - val_accuracy: 0.6754\n",
      "Epoch 28/35\n",
      "96/96 [==============================] - 57s 593ms/step - loss: 0.1860 - accuracy: 0.9387 - val_loss: 1.6685 - val_accuracy: 0.6761\n",
      "Epoch 29/35\n",
      "96/96 [==============================] - 57s 595ms/step - loss: 0.1801 - accuracy: 0.9376 - val_loss: 1.6485 - val_accuracy: 0.6879\n",
      "Epoch 30/35\n",
      "96/96 [==============================] - 62s 648ms/step - loss: 0.1757 - accuracy: 0.9433 - val_loss: 1.6580 - val_accuracy: 0.6761\n",
      "Epoch 31/35\n",
      "96/96 [==============================] - 61s 641ms/step - loss: 0.1590 - accuracy: 0.9484 - val_loss: 1.7319 - val_accuracy: 0.6761\n",
      "Epoch 32/35\n",
      "96/96 [==============================] - 61s 633ms/step - loss: 0.1610 - accuracy: 0.9476 - val_loss: 1.6901 - val_accuracy: 0.6721\n",
      "Epoch 33/35\n",
      "96/96 [==============================] - 62s 645ms/step - loss: 0.1583 - accuracy: 0.9460 - val_loss: 1.7530 - val_accuracy: 0.6721\n",
      "Epoch 34/35\n",
      "96/96 [==============================] - 64s 667ms/step - loss: 0.1667 - accuracy: 0.9402 - val_loss: 1.7861 - val_accuracy: 0.6715\n",
      "Epoch 35/35\n",
      "96/96 [==============================] - 54s 557ms/step - loss: 0.1539 - accuracy: 0.9494 - val_loss: 1.6861 - val_accuracy: 0.6695\n",
      "Training Accuracy: 0.9726\n",
      "Testing Accuracy:  0.6695\n"
     ]
    }
   ],
   "source": [
    "history = model.fit(X_train, y_train, epochs=35,verbose=1, validation_data=(X_val, y_val), batch_size=64) \n",
    "loss, accuracy = model.evaluate(X_train, y_train, verbose=0)\n",
    "print(\"Training Accuracy: {:.4f}\".format(accuracy))\n",
    "loss, accuracy = model.evaluate(X_val, y_val, verbose=0)\n",
    "print(\"Testing Accuracy:  {:.4f}\".format(accuracy))"
   ]
  },
  {
   "cell_type": "code",
   "execution_count": 28,
   "id": "2ceb510b",
   "metadata": {
    "scrolled": false
   },
   "outputs": [
    {
     "data": {
      "text/plain": [
       "<matplotlib.legend.Legend at 0x1a41343d880>"
      ]
     },
     "execution_count": 28,
     "metadata": {},
     "output_type": "execute_result"
    },
    {
     "data": {
      "image/png": "[encoded data removed]",
      "text/plain": [
       "<Figure size 432x288 with 1 Axes>"
      ]
     },
     "metadata": {
      "needs_background": "light"
     },
     "output_type": "display_data"
    }
   ],
   "source": [
    "plt.suptitle('Optimizer : Adam', fontsize=10)\n",
    "plt.ylabel('Loss', fontsize=16)\n",
    "plt.xlabel('Epoch', fontsize=14)\n",
    "plt.plot(history.history['loss'], color='b', label='Training Loss')\n",
    "plt.plot(history.history['val_loss'], color='r', label='Validation Loss')\n",
    "plt.legend(loc='upper right')"
   ]
  },
  {
   "cell_type": "code",
   "execution_count": null,
   "id": "32b6bb90",
   "metadata": {},
   "outputs": [],
   "source": []
  },
  {
   "cell_type": "code",
   "execution_count": null,
   "id": "3fa3df65",
   "metadata": {},
   "outputs": [],
   "source": []
  }
 ],
 "metadata": {
  "kernelspec": {
   "display_name": "Python 3 (ipykernel)",
   "language": "python",
   "name": "python3"
  },
  "language_info": {
   "codemirror_mode": {
    "name": "ipython",
    "version": 3
   },
   "file_extension": ".py",
   "mimetype": "text/x-python",
   "name": "python",
   "nbconvert_exporter": "python",
   "pygments_lexer": "ipython3",
   "version": "3.9.7"
  }
 },
 "nbformat": 4,
 "nbformat_minor": 5
}
