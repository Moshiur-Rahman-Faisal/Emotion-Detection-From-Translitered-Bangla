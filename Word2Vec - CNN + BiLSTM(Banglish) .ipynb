{
 "cells": [
  {
   "cell_type": "code",
   "execution_count": 37,
   "id": "0356e1cf",
   "metadata": {},
   "outputs": [],
   "source": [
    "import pandas as pd\n",
    "import numpy as np\n",
    "from matplotlib import pyplot as plt\n",
    "import seaborn as sns\n",
    "import math\n",
    "\n",
    "\n",
    "from gensim.models.word2vec import Word2Vec\n",
    "from sklearn.model_selection import train_test_split\n",
    "from tensorflow.keras.utils import to_categorical\n",
    "from keras.layers import Dense, Dropout, Conv1D, MaxPooling1D, GlobalMaxPooling1D, Embedding, Activation, Input, Flatten\n",
    "from keras.preprocessing.text import Tokenizer\n",
    "from keras.preprocessing.sequence import pad_sequences\n",
    "from keras.models import Sequential\n",
    "import re\n",
    "import nltk\n",
    "from nltk.corpus import stopwords\n",
    "from nltk.stem.snowball import PorterStemmer\n",
    "from sklearn import preprocessing\n",
    "\n",
    "import tensorflow as tf\n",
    "\n",
    "from keras.layers import LSTM, Bidirectional\n",
    "from keras.models import Model\n",
    "from keras.callbacks import EarlyStopping\n",
    "\n",
    "import gensim"
   ]
  },
  {
   "cell_type": "code",
   "execution_count": 2,
   "id": "7b6a9335",
   "metadata": {},
   "outputs": [
    {
     "name": "stdout",
     "output_type": "stream",
     "text": [
      "surprise    537\n",
      "happy       530\n",
      "sad         515\n",
      "fear        494\n",
      "angry       491\n",
      "disgust     477\n",
      "Name: Emotion, dtype: int64\n"
     ]
    },
    {
     "data": {
      "text/html": [
       "<div>\n",
       "<style scoped>\n",
       "    .dataframe tbody tr th:only-of-type {\n",
       "        vertical-align: middle;\n",
       "    }\n",
       "\n",
       "    .dataframe tbody tr th {\n",
       "        vertical-align: top;\n",
       "    }\n",
       "\n",
       "    .dataframe thead th {\n",
       "        text-align: right;\n",
       "    }\n",
       "</style>\n",
       "<table border=\"1\" class=\"dataframe\">\n",
       "  <thead>\n",
       "    <tr style=\"text-align: right;\">\n",
       "      <th></th>\n",
       "      <th>Unnamed: 0</th>\n",
       "      <th>Emotion</th>\n",
       "      <th>text</th>\n",
       "    </tr>\n",
       "  </thead>\n",
       "  <tbody>\n",
       "    <tr>\n",
       "      <th>0</th>\n",
       "      <td>4615</td>\n",
       "      <td>surprise</td>\n",
       "      <td>varoter senaprdhan pac diner sfre dhakay</td>\n",
       "    </tr>\n",
       "    <tr>\n",
       "      <th>1</th>\n",
       "      <td>6145</td>\n",
       "      <td>happy</td>\n",
       "      <td>alhamdulillahhhmi police vaiyader bolchi tara ...</td>\n",
       "    </tr>\n",
       "    <tr>\n",
       "      <th>2</th>\n",
       "      <td>5060</td>\n",
       "      <td>happy</td>\n",
       "      <td>prithibite bangladesher mukh</td>\n",
       "    </tr>\n",
       "    <tr>\n",
       "      <th>3</th>\n",
       "      <td>3115</td>\n",
       "      <td>angry</td>\n",
       "      <td>motrsaikel seba calu ba bikolpo kormosngsthane...</td>\n",
       "    </tr>\n",
       "    <tr>\n",
       "      <th>4</th>\n",
       "      <td>6966</td>\n",
       "      <td>fear</td>\n",
       "      <td>ete ekdike sthaniy basindader swasthzjhuki bar...</td>\n",
       "    </tr>\n",
       "    <tr>\n",
       "      <th>5</th>\n",
       "      <td>484</td>\n",
       "      <td>disgust</td>\n",
       "      <td>bzaparta kharap hobena  dese trun smajer bisal...</td>\n",
       "    </tr>\n",
       "    <tr>\n",
       "      <th>6</th>\n",
       "      <td>6166</td>\n",
       "      <td>surprise</td>\n",
       "      <td>sekh hasina to boleche kumillar manush valo ho...</td>\n",
       "    </tr>\n",
       "    <tr>\n",
       "      <th>7</th>\n",
       "      <td>6408</td>\n",
       "      <td>angry</td>\n",
       "      <td>beyadb sob bysei keyadb</td>\n",
       "    </tr>\n",
       "    <tr>\n",
       "      <th>8</th>\n",
       "      <td>663</td>\n",
       "      <td>surprise</td>\n",
       "      <td>dliy lok dwara bzangk lutpater arekti chitro</td>\n",
       "    </tr>\n",
       "    <tr>\n",
       "      <th>9</th>\n",
       "      <td>5854</td>\n",
       "      <td>happy</td>\n",
       "      <td>rajnoitik hanahanir ceye emon khbr prte valo l...</td>\n",
       "    </tr>\n",
       "  </tbody>\n",
       "</table>\n",
       "</div>"
      ],
      "text/plain": [
       "   Unnamed: 0   Emotion                                               text\n",
       "0        4615  surprise           varoter senaprdhan pac diner sfre dhakay\n",
       "1        6145     happy  alhamdulillahhhmi police vaiyader bolchi tara ...\n",
       "2        5060     happy                       prithibite bangladesher mukh\n",
       "3        3115     angry  motrsaikel seba calu ba bikolpo kormosngsthane...\n",
       "4        6966      fear  ete ekdike sthaniy basindader swasthzjhuki bar...\n",
       "5         484   disgust  bzaparta kharap hobena  dese trun smajer bisal...\n",
       "6        6166  surprise  sekh hasina to boleche kumillar manush valo ho...\n",
       "7        6408     angry                            beyadb sob bysei keyadb\n",
       "8         663  surprise       dliy lok dwara bzangk lutpater arekti chitro\n",
       "9        5854     happy  rajnoitik hanahanir ceye emon khbr prte valo l..."
      ]
     },
     "execution_count": 2,
     "metadata": {},
     "output_type": "execute_result"
    }
   ],
   "source": [
    "df = pd.read_csv('Banglish.csv',encoding= 'unicode_escape')\n",
    "\n",
    "\n",
    "print(df.Emotion.value_counts())\n",
    "\n",
    "df.head(10)\n"
   ]
  },
  {
   "cell_type": "code",
   "execution_count": 3,
   "id": "136eda95",
   "metadata": {},
   "outputs": [
    {
     "data": {
      "text/plain": [
       "<bound method NDFrame.head of       Unnamed: 0   Emotion                                               text\n",
       "0           4615  surprise           varoter senaprdhan pac diner sfre dhakay\n",
       "1           6145     happy  alhamdulillahhhmi police vaiyader bolchi tara ...\n",
       "2           5060     happy                       prithibite bangladesher mukh\n",
       "3           3115     angry  motrsaikel seba calu ba bikolpo kormosngsthane...\n",
       "4           6966      fear  ete ekdike sthaniy basindader swasthzjhuki bar...\n",
       "...          ...       ...                                                ...\n",
       "3039         415  surprise  mmotoa bndzopadhzayke abar sokj kore agamikal ...\n",
       "3040        7349  surprise                               vai amra ki manush ?\n",
       "3041        2415  surprise                         ke bllo BNP kharap ache ??\n",
       "3042         905   disgust                    sorkari ejentder ninmmaner natk\n",
       "3043        5367       sad                vai eida deikha kichu lage na? ????\n",
       "\n",
       "[3044 rows x 3 columns]>"
      ]
     },
     "execution_count": 3,
     "metadata": {},
     "output_type": "execute_result"
    }
   ],
   "source": [
    "df.head"
   ]
  },
  {
   "cell_type": "code",
   "execution_count": 4,
   "id": "caecabfd",
   "metadata": {},
   "outputs": [
    {
     "data": {
      "text/html": [
       "<div>\n",
       "<style scoped>\n",
       "    .dataframe tbody tr th:only-of-type {\n",
       "        vertical-align: middle;\n",
       "    }\n",
       "\n",
       "    .dataframe tbody tr th {\n",
       "        vertical-align: top;\n",
       "    }\n",
       "\n",
       "    .dataframe thead tr th {\n",
       "        text-align: left;\n",
       "    }\n",
       "\n",
       "    .dataframe thead tr:last-of-type th {\n",
       "        text-align: right;\n",
       "    }\n",
       "</style>\n",
       "<table border=\"1\" class=\"dataframe\">\n",
       "  <thead>\n",
       "    <tr>\n",
       "      <th></th>\n",
       "      <th colspan=\"8\" halign=\"left\">Unnamed: 0</th>\n",
       "    </tr>\n",
       "    <tr>\n",
       "      <th></th>\n",
       "      <th>count</th>\n",
       "      <th>mean</th>\n",
       "      <th>std</th>\n",
       "      <th>min</th>\n",
       "      <th>25%</th>\n",
       "      <th>50%</th>\n",
       "      <th>75%</th>\n",
       "      <th>max</th>\n",
       "    </tr>\n",
       "    <tr>\n",
       "      <th>Emotion</th>\n",
       "      <th></th>\n",
       "      <th></th>\n",
       "      <th></th>\n",
       "      <th></th>\n",
       "      <th></th>\n",
       "      <th></th>\n",
       "      <th></th>\n",
       "      <th></th>\n",
       "    </tr>\n",
       "  </thead>\n",
       "  <tbody>\n",
       "    <tr>\n",
       "      <th>angry</th>\n",
       "      <td>491.0</td>\n",
       "      <td>3979.902240</td>\n",
       "      <td>2252.819613</td>\n",
       "      <td>3.0</td>\n",
       "      <td>2010.50</td>\n",
       "      <td>4022.0</td>\n",
       "      <td>6112.0</td>\n",
       "      <td>7610.0</td>\n",
       "    </tr>\n",
       "    <tr>\n",
       "      <th>disgust</th>\n",
       "      <td>477.0</td>\n",
       "      <td>4025.656184</td>\n",
       "      <td>2234.550677</td>\n",
       "      <td>2.0</td>\n",
       "      <td>2197.00</td>\n",
       "      <td>4193.0</td>\n",
       "      <td>5974.0</td>\n",
       "      <td>7604.0</td>\n",
       "    </tr>\n",
       "    <tr>\n",
       "      <th>fear</th>\n",
       "      <td>494.0</td>\n",
       "      <td>3768.599190</td>\n",
       "      <td>2223.243660</td>\n",
       "      <td>17.0</td>\n",
       "      <td>1816.00</td>\n",
       "      <td>3649.0</td>\n",
       "      <td>5680.0</td>\n",
       "      <td>7566.0</td>\n",
       "    </tr>\n",
       "    <tr>\n",
       "      <th>happy</th>\n",
       "      <td>530.0</td>\n",
       "      <td>3783.216981</td>\n",
       "      <td>2238.278699</td>\n",
       "      <td>38.0</td>\n",
       "      <td>1818.75</td>\n",
       "      <td>3732.5</td>\n",
       "      <td>5763.5</td>\n",
       "      <td>7599.0</td>\n",
       "    </tr>\n",
       "    <tr>\n",
       "      <th>sad</th>\n",
       "      <td>515.0</td>\n",
       "      <td>3641.378641</td>\n",
       "      <td>2164.471590</td>\n",
       "      <td>0.0</td>\n",
       "      <td>1799.50</td>\n",
       "      <td>3524.0</td>\n",
       "      <td>5481.5</td>\n",
       "      <td>7601.0</td>\n",
       "    </tr>\n",
       "    <tr>\n",
       "      <th>surprise</th>\n",
       "      <td>537.0</td>\n",
       "      <td>3798.471136</td>\n",
       "      <td>2150.175036</td>\n",
       "      <td>8.0</td>\n",
       "      <td>1935.00</td>\n",
       "      <td>3798.0</td>\n",
       "      <td>5528.0</td>\n",
       "      <td>7605.0</td>\n",
       "    </tr>\n",
       "  </tbody>\n",
       "</table>\n",
       "</div>"
      ],
      "text/plain": [
       "         Unnamed: 0                                                           \\\n",
       "              count         mean          std   min      25%     50%     75%   \n",
       "Emotion                                                                        \n",
       "angry         491.0  3979.902240  2252.819613   3.0  2010.50  4022.0  6112.0   \n",
       "disgust       477.0  4025.656184  2234.550677   2.0  2197.00  4193.0  5974.0   \n",
       "fear          494.0  3768.599190  2223.243660  17.0  1816.00  3649.0  5680.0   \n",
       "happy         530.0  3783.216981  2238.278699  38.0  1818.75  3732.5  5763.5   \n",
       "sad           515.0  3641.378641  2164.471590   0.0  1799.50  3524.0  5481.5   \n",
       "surprise      537.0  3798.471136  2150.175036   8.0  1935.00  3798.0  5528.0   \n",
       "\n",
       "                  \n",
       "             max  \n",
       "Emotion           \n",
       "angry     7610.0  \n",
       "disgust   7604.0  \n",
       "fear      7566.0  \n",
       "happy     7599.0  \n",
       "sad       7601.0  \n",
       "surprise  7605.0  "
      ]
     },
     "execution_count": 4,
     "metadata": {},
     "output_type": "execute_result"
    }
   ],
   "source": [
    "df.groupby(\"Emotion\").describe()"
   ]
  },
  {
   "cell_type": "code",
   "execution_count": 5,
   "id": "2f84c5c6",
   "metadata": {},
   "outputs": [
    {
     "data": {
      "text/html": [
       "<div>\n",
       "<style scoped>\n",
       "    .dataframe tbody tr th:only-of-type {\n",
       "        vertical-align: middle;\n",
       "    }\n",
       "\n",
       "    .dataframe tbody tr th {\n",
       "        vertical-align: top;\n",
       "    }\n",
       "\n",
       "    .dataframe thead th {\n",
       "        text-align: right;\n",
       "    }\n",
       "</style>\n",
       "<table border=\"1\" class=\"dataframe\">\n",
       "  <thead>\n",
       "    <tr style=\"text-align: right;\">\n",
       "      <th></th>\n",
       "      <th>Emotion</th>\n",
       "      <th>text</th>\n",
       "    </tr>\n",
       "  </thead>\n",
       "  <tbody>\n",
       "    <tr>\n",
       "      <th>0</th>\n",
       "      <td>surprise</td>\n",
       "      <td>varoter senaprdhan pac diner sfre dhakay</td>\n",
       "    </tr>\n",
       "    <tr>\n",
       "      <th>1</th>\n",
       "      <td>happy</td>\n",
       "      <td>alhamdulillahhhmi police vaiyader bolchi tara ...</td>\n",
       "    </tr>\n",
       "    <tr>\n",
       "      <th>2</th>\n",
       "      <td>happy</td>\n",
       "      <td>prithibite bangladesher mukh</td>\n",
       "    </tr>\n",
       "    <tr>\n",
       "      <th>3</th>\n",
       "      <td>angry</td>\n",
       "      <td>motrsaikel seba calu ba bikolpo kormosngsthane...</td>\n",
       "    </tr>\n",
       "    <tr>\n",
       "      <th>4</th>\n",
       "      <td>fear</td>\n",
       "      <td>ete ekdike sthaniy basindader swasthzjhuki bar...</td>\n",
       "    </tr>\n",
       "    <tr>\n",
       "      <th>...</th>\n",
       "      <td>...</td>\n",
       "      <td>...</td>\n",
       "    </tr>\n",
       "    <tr>\n",
       "      <th>3039</th>\n",
       "      <td>surprise</td>\n",
       "      <td>mmotoa bndzopadhzayke abar sokj kore agamikal ...</td>\n",
       "    </tr>\n",
       "    <tr>\n",
       "      <th>3040</th>\n",
       "      <td>surprise</td>\n",
       "      <td>vai amra ki manush ?</td>\n",
       "    </tr>\n",
       "    <tr>\n",
       "      <th>3041</th>\n",
       "      <td>surprise</td>\n",
       "      <td>ke bllo BNP kharap ache ??</td>\n",
       "    </tr>\n",
       "    <tr>\n",
       "      <th>3042</th>\n",
       "      <td>disgust</td>\n",
       "      <td>sorkari ejentder ninmmaner natk</td>\n",
       "    </tr>\n",
       "    <tr>\n",
       "      <th>3043</th>\n",
       "      <td>sad</td>\n",
       "      <td>vai eida deikha kichu lage na? ????</td>\n",
       "    </tr>\n",
       "  </tbody>\n",
       "</table>\n",
       "<p>3044 rows × 2 columns</p>\n",
       "</div>"
      ],
      "text/plain": [
       "       Emotion                                               text\n",
       "0     surprise           varoter senaprdhan pac diner sfre dhakay\n",
       "1        happy  alhamdulillahhhmi police vaiyader bolchi tara ...\n",
       "2        happy                       prithibite bangladesher mukh\n",
       "3        angry  motrsaikel seba calu ba bikolpo kormosngsthane...\n",
       "4         fear  ete ekdike sthaniy basindader swasthzjhuki bar...\n",
       "...        ...                                                ...\n",
       "3039  surprise  mmotoa bndzopadhzayke abar sokj kore agamikal ...\n",
       "3040  surprise                               vai amra ki manush ?\n",
       "3041  surprise                         ke bllo BNP kharap ache ??\n",
       "3042   disgust                    sorkari ejentder ninmmaner natk\n",
       "3043       sad                vai eida deikha kichu lage na? ????\n",
       "\n",
       "[3044 rows x 2 columns]"
      ]
     },
     "execution_count": 5,
     "metadata": {},
     "output_type": "execute_result"
    }
   ],
   "source": [
    "df.drop(labels='Unnamed: 0', axis=1)"
   ]
  },
  {
   "cell_type": "code",
   "execution_count": 6,
   "id": "a710a6cb",
   "metadata": {
    "scrolled": false
   },
   "outputs": [
    {
     "data": {
      "text/plain": [
       "<bound method NDFrame.head of       Unnamed: 0   Emotion                                               text\n",
       "0           4615  surprise           varoter senaprdhan pac diner sfre dhakay\n",
       "1           6145     happy  alhamdulillahhhmi police vaiyader bolchi tara ...\n",
       "2           5060     happy                       prithibite bangladesher mukh\n",
       "3           3115     angry  motrsaikel seba calu ba bikolpo kormosngsthane...\n",
       "4           6966      fear  ete ekdike sthaniy basindader swasthzjhuki bar...\n",
       "...          ...       ...                                                ...\n",
       "3039         415  surprise  mmotoa bndzopadhzayke abar sokj kore agamikal ...\n",
       "3040        7349  surprise                               vai amra ki manush ?\n",
       "3041        2415  surprise                         ke bllo BNP kharap ache ??\n",
       "3042         905   disgust                    sorkari ejentder ninmmaner natk\n",
       "3043        5367       sad                vai eida deikha kichu lage na? ????\n",
       "\n",
       "[3044 rows x 3 columns]>"
      ]
     },
     "execution_count": 6,
     "metadata": {},
     "output_type": "execute_result"
    }
   ],
   "source": [
    "df.head"
   ]
  },
  {
   "cell_type": "code",
   "execution_count": 7,
   "id": "12f3da68",
   "metadata": {
    "scrolled": true
   },
   "outputs": [
    {
     "data": {
      "text/html": [
       "<div>\n",
       "<style scoped>\n",
       "    .dataframe tbody tr th:only-of-type {\n",
       "        vertical-align: middle;\n",
       "    }\n",
       "\n",
       "    .dataframe tbody tr th {\n",
       "        vertical-align: top;\n",
       "    }\n",
       "\n",
       "    .dataframe thead th {\n",
       "        text-align: right;\n",
       "    }\n",
       "</style>\n",
       "<table border=\"1\" class=\"dataframe\">\n",
       "  <thead>\n",
       "    <tr style=\"text-align: right;\">\n",
       "      <th></th>\n",
       "      <th>Unnamed: 0</th>\n",
       "      <th>Emotion</th>\n",
       "      <th>text</th>\n",
       "    </tr>\n",
       "  </thead>\n",
       "  <tbody>\n",
       "    <tr>\n",
       "      <th>0</th>\n",
       "      <td>False</td>\n",
       "      <td>False</td>\n",
       "      <td>False</td>\n",
       "    </tr>\n",
       "    <tr>\n",
       "      <th>1</th>\n",
       "      <td>False</td>\n",
       "      <td>False</td>\n",
       "      <td>False</td>\n",
       "    </tr>\n",
       "    <tr>\n",
       "      <th>2</th>\n",
       "      <td>False</td>\n",
       "      <td>False</td>\n",
       "      <td>False</td>\n",
       "    </tr>\n",
       "    <tr>\n",
       "      <th>3</th>\n",
       "      <td>False</td>\n",
       "      <td>False</td>\n",
       "      <td>False</td>\n",
       "    </tr>\n",
       "    <tr>\n",
       "      <th>4</th>\n",
       "      <td>False</td>\n",
       "      <td>False</td>\n",
       "      <td>False</td>\n",
       "    </tr>\n",
       "    <tr>\n",
       "      <th>...</th>\n",
       "      <td>...</td>\n",
       "      <td>...</td>\n",
       "      <td>...</td>\n",
       "    </tr>\n",
       "    <tr>\n",
       "      <th>3039</th>\n",
       "      <td>False</td>\n",
       "      <td>False</td>\n",
       "      <td>False</td>\n",
       "    </tr>\n",
       "    <tr>\n",
       "      <th>3040</th>\n",
       "      <td>False</td>\n",
       "      <td>False</td>\n",
       "      <td>False</td>\n",
       "    </tr>\n",
       "    <tr>\n",
       "      <th>3041</th>\n",
       "      <td>False</td>\n",
       "      <td>False</td>\n",
       "      <td>False</td>\n",
       "    </tr>\n",
       "    <tr>\n",
       "      <th>3042</th>\n",
       "      <td>False</td>\n",
       "      <td>False</td>\n",
       "      <td>False</td>\n",
       "    </tr>\n",
       "    <tr>\n",
       "      <th>3043</th>\n",
       "      <td>False</td>\n",
       "      <td>False</td>\n",
       "      <td>False</td>\n",
       "    </tr>\n",
       "  </tbody>\n",
       "</table>\n",
       "<p>3044 rows × 3 columns</p>\n",
       "</div>"
      ],
      "text/plain": [
       "      Unnamed: 0  Emotion   text\n",
       "0          False    False  False\n",
       "1          False    False  False\n",
       "2          False    False  False\n",
       "3          False    False  False\n",
       "4          False    False  False\n",
       "...          ...      ...    ...\n",
       "3039       False    False  False\n",
       "3040       False    False  False\n",
       "3041       False    False  False\n",
       "3042       False    False  False\n",
       "3043       False    False  False\n",
       "\n",
       "[3044 rows x 3 columns]"
      ]
     },
     "execution_count": 7,
     "metadata": {},
     "output_type": "execute_result"
    }
   ],
   "source": [
    "df.isnull()"
   ]
  },
  {
   "cell_type": "code",
   "execution_count": 8,
   "id": "6416bc9d",
   "metadata": {},
   "outputs": [],
   "source": [
    "df.dropna(inplace=True)"
   ]
  },
  {
   "cell_type": "code",
   "execution_count": 9,
   "id": "23fbb740",
   "metadata": {},
   "outputs": [],
   "source": [
    "text = df['text'].values.tolist()"
   ]
  },
  {
   "cell_type": "code",
   "execution_count": 10,
   "id": "73914a34",
   "metadata": {},
   "outputs": [
    {
     "data": {
      "text/html": [
       "<div>\n",
       "<style scoped>\n",
       "    .dataframe tbody tr th:only-of-type {\n",
       "        vertical-align: middle;\n",
       "    }\n",
       "\n",
       "    .dataframe tbody tr th {\n",
       "        vertical-align: top;\n",
       "    }\n",
       "\n",
       "    .dataframe thead tr th {\n",
       "        text-align: left;\n",
       "    }\n",
       "\n",
       "    .dataframe thead tr:last-of-type th {\n",
       "        text-align: right;\n",
       "    }\n",
       "</style>\n",
       "<table border=\"1\" class=\"dataframe\">\n",
       "  <thead>\n",
       "    <tr>\n",
       "      <th></th>\n",
       "      <th colspan=\"8\" halign=\"left\">Unnamed: 0</th>\n",
       "    </tr>\n",
       "    <tr>\n",
       "      <th></th>\n",
       "      <th>count</th>\n",
       "      <th>mean</th>\n",
       "      <th>std</th>\n",
       "      <th>min</th>\n",
       "      <th>25%</th>\n",
       "      <th>50%</th>\n",
       "      <th>75%</th>\n",
       "      <th>max</th>\n",
       "    </tr>\n",
       "    <tr>\n",
       "      <th>Emotion</th>\n",
       "      <th></th>\n",
       "      <th></th>\n",
       "      <th></th>\n",
       "      <th></th>\n",
       "      <th></th>\n",
       "      <th></th>\n",
       "      <th></th>\n",
       "      <th></th>\n",
       "    </tr>\n",
       "  </thead>\n",
       "  <tbody>\n",
       "    <tr>\n",
       "      <th>angry</th>\n",
       "      <td>491.0</td>\n",
       "      <td>3979.902240</td>\n",
       "      <td>2252.819613</td>\n",
       "      <td>3.0</td>\n",
       "      <td>2010.50</td>\n",
       "      <td>4022.0</td>\n",
       "      <td>6112.0</td>\n",
       "      <td>7610.0</td>\n",
       "    </tr>\n",
       "    <tr>\n",
       "      <th>disgust</th>\n",
       "      <td>477.0</td>\n",
       "      <td>4025.656184</td>\n",
       "      <td>2234.550677</td>\n",
       "      <td>2.0</td>\n",
       "      <td>2197.00</td>\n",
       "      <td>4193.0</td>\n",
       "      <td>5974.0</td>\n",
       "      <td>7604.0</td>\n",
       "    </tr>\n",
       "    <tr>\n",
       "      <th>fear</th>\n",
       "      <td>494.0</td>\n",
       "      <td>3768.599190</td>\n",
       "      <td>2223.243660</td>\n",
       "      <td>17.0</td>\n",
       "      <td>1816.00</td>\n",
       "      <td>3649.0</td>\n",
       "      <td>5680.0</td>\n",
       "      <td>7566.0</td>\n",
       "    </tr>\n",
       "    <tr>\n",
       "      <th>happy</th>\n",
       "      <td>530.0</td>\n",
       "      <td>3783.216981</td>\n",
       "      <td>2238.278699</td>\n",
       "      <td>38.0</td>\n",
       "      <td>1818.75</td>\n",
       "      <td>3732.5</td>\n",
       "      <td>5763.5</td>\n",
       "      <td>7599.0</td>\n",
       "    </tr>\n",
       "    <tr>\n",
       "      <th>sad</th>\n",
       "      <td>515.0</td>\n",
       "      <td>3641.378641</td>\n",
       "      <td>2164.471590</td>\n",
       "      <td>0.0</td>\n",
       "      <td>1799.50</td>\n",
       "      <td>3524.0</td>\n",
       "      <td>5481.5</td>\n",
       "      <td>7601.0</td>\n",
       "    </tr>\n",
       "    <tr>\n",
       "      <th>surprise</th>\n",
       "      <td>537.0</td>\n",
       "      <td>3798.471136</td>\n",
       "      <td>2150.175036</td>\n",
       "      <td>8.0</td>\n",
       "      <td>1935.00</td>\n",
       "      <td>3798.0</td>\n",
       "      <td>5528.0</td>\n",
       "      <td>7605.0</td>\n",
       "    </tr>\n",
       "  </tbody>\n",
       "</table>\n",
       "</div>"
      ],
      "text/plain": [
       "         Unnamed: 0                                                           \\\n",
       "              count         mean          std   min      25%     50%     75%   \n",
       "Emotion                                                                        \n",
       "angry         491.0  3979.902240  2252.819613   3.0  2010.50  4022.0  6112.0   \n",
       "disgust       477.0  4025.656184  2234.550677   2.0  2197.00  4193.0  5974.0   \n",
       "fear          494.0  3768.599190  2223.243660  17.0  1816.00  3649.0  5680.0   \n",
       "happy         530.0  3783.216981  2238.278699  38.0  1818.75  3732.5  5763.5   \n",
       "sad           515.0  3641.378641  2164.471590   0.0  1799.50  3524.0  5481.5   \n",
       "surprise      537.0  3798.471136  2150.175036   8.0  1935.00  3798.0  5528.0   \n",
       "\n",
       "                  \n",
       "             max  \n",
       "Emotion           \n",
       "angry     7610.0  \n",
       "disgust   7604.0  \n",
       "fear      7566.0  \n",
       "happy     7599.0  \n",
       "sad       7601.0  \n",
       "surprise  7605.0  "
      ]
     },
     "execution_count": 10,
     "metadata": {},
     "output_type": "execute_result"
    }
   ],
   "source": [
    "df.groupby(\"Emotion\").describe()"
   ]
  },
  {
   "cell_type": "code",
   "execution_count": 11,
   "id": "9367651b",
   "metadata": {},
   "outputs": [
    {
     "data": {
      "text/plain": [
       "surprise    537\n",
       "happy       530\n",
       "sad         515\n",
       "fear        494\n",
       "angry       491\n",
       "disgust     477\n",
       "Name: Emotion, dtype: int64"
      ]
     },
     "execution_count": 11,
     "metadata": {},
     "output_type": "execute_result"
    }
   ],
   "source": [
    "df[\"Emotion\"].value_counts()"
   ]
  },
  {
   "cell_type": "code",
   "execution_count": 12,
   "id": "17a8951f",
   "metadata": {},
   "outputs": [
    {
     "name": "stderr",
     "output_type": "stream",
     "text": [
      "C:\\Users\\moshi\\anaconda3\\lib\\site-packages\\seaborn\\_decorators.py:36: FutureWarning: Pass the following variable as a keyword arg: x. From version 0.12, the only valid positional argument will be `data`, and passing other arguments without an explicit keyword will result in an error or misinterpretation.\n",
      "  warnings.warn(\n"
     ]
    },
    {
     "data": {
      "image/png": "[encoded data removed]",
      "text/plain": [
       "<Figure size 576x360 with 1 Axes>"
      ]
     },
     "metadata": {
      "needs_background": "light"
     },
     "output_type": "display_data"
    }
   ],
   "source": [
    "plt.subplots(figsize=(8,5))\n",
    "sns.countplot(df[\"Emotion\"])\n",
    "plt.show()"
   ]
  },
  {
   "cell_type": "code",
   "execution_count": 13,
   "id": "8dd4d10d",
   "metadata": {},
   "outputs": [
    {
     "name": "stdout",
     "output_type": "stream",
     "text": [
      "654\n"
     ]
    }
   ],
   "source": [
    "longest_string = max(df[\"text\"], key=len)\n",
    "print(len(longest_string))"
   ]
  },
  {
   "cell_type": "code",
   "execution_count": 14,
   "id": "5da59c48",
   "metadata": {},
   "outputs": [
    {
     "name": "stdout",
     "output_type": "stream",
     "text": [
      "data shape (3044, 3)\n"
     ]
    }
   ],
   "source": [
    "print(\"data shape\", df.shape)"
   ]
  },
  {
   "cell_type": "code",
   "execution_count": 15,
   "id": "3b75240a",
   "metadata": {
    "scrolled": true
   },
   "outputs": [
    {
     "data": {
      "text/plain": [
       "<bound method NDFrame.describe of       Unnamed: 0   Emotion                                               text\n",
       "0           4615  surprise           varoter senaprdhan pac diner sfre dhakay\n",
       "1           6145     happy  alhamdulillahhhmi police vaiyader bolchi tara ...\n",
       "2           5060     happy                       prithibite bangladesher mukh\n",
       "3           3115     angry  motrsaikel seba calu ba bikolpo kormosngsthane...\n",
       "4           6966      fear  ete ekdike sthaniy basindader swasthzjhuki bar...\n",
       "...          ...       ...                                                ...\n",
       "3039         415  surprise  mmotoa bndzopadhzayke abar sokj kore agamikal ...\n",
       "3040        7349  surprise                               vai amra ki manush ?\n",
       "3041        2415  surprise                         ke bllo BNP kharap ache ??\n",
       "3042         905   disgust                    sorkari ejentder ninmmaner natk\n",
       "3043        5367       sad                vai eida deikha kichu lage na? ????\n",
       "\n",
       "[3044 rows x 3 columns]>"
      ]
     },
     "execution_count": 15,
     "metadata": {},
     "output_type": "execute_result"
    }
   ],
   "source": [
    "df.describe"
   ]
  },
  {
   "cell_type": "code",
   "execution_count": 16,
   "id": "5775a02d",
   "metadata": {},
   "outputs": [
    {
     "name": "stdout",
     "output_type": "stream",
     "text": [
      "0       0\n",
      "1       1\n",
      "2       1\n",
      "3       2\n",
      "4       3\n",
      "       ..\n",
      "3039    0\n",
      "3040    0\n",
      "3041    0\n",
      "3042    4\n",
      "3043    5\n",
      "Name: Emotion, Length: 3044, dtype: int64\n"
     ]
    }
   ],
   "source": [
    "Emotion_Class=df.Emotion.unique()\n",
    "dic={}\n",
    "for i,Emotion in enumerate(Emotion_Class):\n",
    "    dic[Emotion]=i\n",
    "labels=df.Emotion.apply(lambda x:dic[x])\n",
    "print(labels)"
   ]
  },
  {
   "cell_type": "code",
   "execution_count": 17,
   "id": "13f55c5d",
   "metadata": {},
   "outputs": [],
   "source": [
    "val_data=df.sample(frac=0.2,random_state=200)\n",
    "train_data=df.drop(val_data.index)"
   ]
  },
  {
   "cell_type": "code",
   "execution_count": 18,
   "id": "6db807b5",
   "metadata": {},
   "outputs": [],
   "source": [
    "from keras.preprocessing.text import Tokenizer\n",
    "from keras.preprocessing.sequence import pad_sequences\n",
    "from tensorflow.keras.utils import to_categorical"
   ]
  },
  {
   "cell_type": "code",
   "execution_count": 19,
   "id": "69a6f281",
   "metadata": {},
   "outputs": [],
   "source": [
    "texts=train_data.text"
   ]
  },
  {
   "cell_type": "code",
   "execution_count": 20,
   "id": "9feb2519",
   "metadata": {},
   "outputs": [
    {
     "name": "stdout",
     "output_type": "stream",
     "text": [
      "Found 7689 unique tokens.\n"
     ]
    }
   ],
   "source": [
    "NUM_WORDS=20000\n",
    "tokenizer = Tokenizer(num_words=NUM_WORDS,filters='!\"#$%&()*+,-./:;<=>?@[\\\\]^_`{|}~\\t\\n\\'',\n",
    "                      lower=True)\n",
    "tokenizer.fit_on_texts(texts)\n",
    "sequences_train = tokenizer.texts_to_sequences(texts)\n",
    "sequences_valid=tokenizer.texts_to_sequences(val_data.text)\n",
    "word_index = tokenizer.word_index\n",
    "print('Found %s unique tokens.' % len(word_index))"
   ]
  },
  {
   "cell_type": "code",
   "execution_count": 21,
   "id": "bdda0e16",
   "metadata": {},
   "outputs": [
    {
     "name": "stdout",
     "output_type": "stream",
     "text": [
      "Shape of X train and X validation tensor: (2435, 114) (609, 114)\n",
      "Shape of label train and validation tensor: (2435, 6) (609, 6)\n"
     ]
    }
   ],
   "source": [
    "X_train = pad_sequences(sequences_train)\n",
    "X_val = pad_sequences(sequences_valid,maxlen=X_train.shape[1])\n",
    "y_train = to_categorical(np.asarray(labels[train_data.index]))\n",
    "y_val = to_categorical(np.asarray(labels[val_data.index]))\n",
    "print('Shape of X train and X validation tensor:', X_train.shape,X_val.shape)\n",
    "print('Shape of label train and validation tensor:', y_train.shape,y_val.shape)"
   ]
  },
  {
   "cell_type": "code",
   "execution_count": 22,
   "id": "89620c4f",
   "metadata": {},
   "outputs": [
    {
     "name": "stdout",
     "output_type": "stream",
     "text": [
      "(7690, 300)\n"
     ]
    }
   ],
   "source": [
    "import gensim\n",
    "from gensim.models import Word2Vec\n",
    "from gensim.utils import simple_preprocess\n",
    "\n",
    "from gensim.models.keyedvectors import KeyedVectors\n",
    "\n",
    "word_vectors = KeyedVectors.load_word2vec_format('C:/Users/moshi/Python Code/Vietnam and Indonesia/GoogleNews-vectors-negative300.bin', binary=True)\n",
    "\n",
    "EMBEDDING_DIM=300\n",
    "vocabulary_size=min(len(word_index)+1,NUM_WORDS)\n",
    "embedding_matrix = np.zeros((vocabulary_size, EMBEDDING_DIM))\n",
    "for word, i in word_index.items():\n",
    "    if i>=NUM_WORDS:\n",
    "        continue\n",
    "    try:\n",
    "        embedding_vector = word_vectors[word]\n",
    "        embedding_matrix[i] = embedding_vector\n",
    "    except KeyError:\n",
    "        embedding_matrix[i]=np.random.normal(0,np.sqrt(0.25),EMBEDDING_DIM)\n",
    "\n",
    "del(word_vectors)\n",
    "print(embedding_matrix.shape)\n",
    "\n",
    "from keras.layers import Embedding\n",
    "embedding_layer = Embedding(vocabulary_size,\n",
    "                            EMBEDDING_DIM,\n",
    "                            weights=[embedding_matrix],\n",
    "                            trainable=True)"
   ]
  },
  {
   "cell_type": "code",
   "execution_count": 43,
   "id": "469bb678",
   "metadata": {},
   "outputs": [
    {
     "name": "stdout",
     "output_type": "stream",
     "text": [
      "Max len: 114\n"
     ]
    }
   ],
   "source": [
    "from keras.layers import Embedding\n",
    "EMBEDDING_DIM=300\n",
    "vocabulary_size=min(len(word_index)+1,NUM_WORDS)\n",
    "\n",
    "embedding_layer = Embedding(vocabulary_size,\n",
    "                            EMBEDDING_DIM)\n",
    "\n",
    "\n",
    "#calculating max length of the vector\n",
    "lens_train = [len(i) for i in X_train]\n",
    "lens_test = [len(i) for i in X_val]\n",
    "lens = lens_train + lens_test\n",
    "\n",
    "maxlen = np.max(lens)\n",
    "\n",
    "print('Max len:', maxlen)"
   ]
  },
  {
   "cell_type": "code",
   "execution_count": 70,
   "id": "28979783",
   "metadata": {},
   "outputs": [],
   "source": [
    "from keras.layers import Dense, Input, GlobalMaxPooling1D\n",
    "from keras.layers import Conv1D, MaxPooling1D, Embedding\n",
    "from keras.models import Model\n",
    "from keras.layers import Input, Dense, Embedding, Conv2D, MaxPooling2D, Dropout,concatenate\n",
    "from keras.layers.core import Reshape, Flatten\n",
    "from keras.callbacks import EarlyStopping\n",
    "from tensorflow.keras.optimizers import Adam\n",
    "from keras.models import Model\n",
    "from keras import regularizers\n",
    "sequence_length = X_train.shape[1]\n",
    "act= \"swish\"\n",
    "opt= tf.keras.optimizers.Adam(learning_rate=0.001)"
   ]
  },
  {
   "cell_type": "code",
   "execution_count": 71,
   "id": "74d277df",
   "metadata": {},
   "outputs": [],
   "source": [
    "from keras import layers\n",
    "from keras.models import Sequential"
   ]
  },
  {
   "cell_type": "code",
   "execution_count": 73,
   "id": "4e9788bf",
   "metadata": {},
   "outputs": [
    {
     "name": "stdout",
     "output_type": "stream",
     "text": [
      "Model: \"sequential_15\"\n",
      "_________________________________________________________________\n",
      " Layer (type)                Output Shape              Param #   \n",
      "=================================================================\n",
      " embedding_16 (Embedding)    (None, 114, 300)          2307000   \n",
      "                                                                 \n",
      " dropout_47 (Dropout)        (None, 114, 300)          0         \n",
      "                                                                 \n",
      " conv1d_18 (Conv1D)          (None, 112, 64)           57664     \n",
      "                                                                 \n",
      " max_pooling1d_18 (MaxPoolin  (None, 37, 64)           0         \n",
      " g1D)                                                            \n",
      "                                                                 \n",
      " dropout_48 (Dropout)        (None, 37, 64)            0         \n",
      "                                                                 \n",
      " conv1d_19 (Conv1D)          (None, 35, 64)            12352     \n",
      "                                                                 \n",
      " max_pooling1d_19 (MaxPoolin  (None, 11, 64)           0         \n",
      " g1D)                                                            \n",
      "                                                                 \n",
      " dropout_49 (Dropout)        (None, 11, 64)            0         \n",
      "                                                                 \n",
      " bidirectional_8 (Bidirectio  (None, 512)              657408    \n",
      " nal)                                                            \n",
      "                                                                 \n",
      " dropout_50 (Dropout)        (None, 512)               0         \n",
      "                                                                 \n",
      " dense_19 (Dense)            (None, 256)               131328    \n",
      "                                                                 \n",
      " dropout_51 (Dropout)        (None, 256)               0         \n",
      "                                                                 \n",
      " dense_20 (Dense)            (None, 6)                 1542      \n",
      "                                                                 \n",
      "=================================================================\n",
      "Total params: 3,167,294\n",
      "Trainable params: 3,167,294\n",
      "Non-trainable params: 0\n",
      "_________________________________________________________________\n"
     ]
    }
   ],
   "source": [
    "model = Sequential()\n",
    "model.add(layers.Embedding(input_dim=vocabulary_size, output_dim=EMBEDDING_DIM, weights = [embedding_matrix], input_length=maxlen))\n",
    "model.add(layers.Dropout(0.3)) \n",
    "model.add(layers.Conv1D(filters=64, kernel_size=3, activation=act)) \n",
    "model.add(layers.MaxPool1D(pool_size=3)) \n",
    "model.add(layers.Dropout(0.3))\n",
    "model.add(layers.Conv1D(filters=64, kernel_size=3, activation=act)) \n",
    "model.add(layers.MaxPool1D(pool_size=3)) \n",
    "model.add(layers.Dropout(0.3))\n",
    "model.add(layers.Bidirectional(layers.LSTM(256, recurrent_dropout=0.3)))\n",
    "model.add(layers.Dropout(0.3))\n",
    "model.add(layers.Dense(256,activation=act)) \n",
    "model.add(layers.Dropout(0.3)) \n",
    "model.add(layers.Dense(6, activation=\"softmax\"))\n",
    "model.compile(optimizer=opt, loss=\"categorical_crossentropy\",metrics=[\"accuracy\"])\n",
    "model.summary()"
   ]
  },
  {
   "cell_type": "code",
   "execution_count": 74,
   "id": "a5ca2ce5",
   "metadata": {},
   "outputs": [
    {
     "name": "stdout",
     "output_type": "stream",
     "text": [
      "Epoch 1/35\n",
      "39/39 [==============================] - 9s 161ms/step - loss: 1.7926 - accuracy: 0.1758 - val_loss: 1.7841 - val_accuracy: 0.1987\n",
      "Epoch 2/35\n",
      "39/39 [==============================] - 6s 152ms/step - loss: 1.7801 - accuracy: 0.2025 - val_loss: 1.7776 - val_accuracy: 0.2118\n",
      "Epoch 3/35\n",
      "39/39 [==============================] - 6s 151ms/step - loss: 1.7458 - accuracy: 0.2341 - val_loss: 1.7724 - val_accuracy: 0.2036\n",
      "Epoch 4/35\n",
      "39/39 [==============================] - 6s 155ms/step - loss: 1.6733 - accuracy: 0.2710 - val_loss: 1.7347 - val_accuracy: 0.2529\n",
      "Epoch 5/35\n",
      "39/39 [==============================] - 6s 162ms/step - loss: 1.5451 - accuracy: 0.3429 - val_loss: 1.7092 - val_accuracy: 0.2578\n",
      "Epoch 6/35\n",
      "39/39 [==============================] - 7s 169ms/step - loss: 1.4611 - accuracy: 0.3770 - val_loss: 1.6971 - val_accuracy: 0.2874\n",
      "Epoch 7/35\n",
      "39/39 [==============================] - 6s 162ms/step - loss: 1.3472 - accuracy: 0.4357 - val_loss: 1.6961 - val_accuracy: 0.2972\n",
      "Epoch 8/35\n",
      "39/39 [==============================] - 6s 159ms/step - loss: 1.3064 - accuracy: 0.4468 - val_loss: 1.7313 - val_accuracy: 0.3021\n",
      "Epoch 9/35\n",
      "39/39 [==============================] - 6s 158ms/step - loss: 1.1905 - accuracy: 0.5117 - val_loss: 1.7310 - val_accuracy: 0.3202\n",
      "Epoch 10/35\n",
      "39/39 [==============================] - 6s 158ms/step - loss: 1.1616 - accuracy: 0.5310 - val_loss: 1.7245 - val_accuracy: 0.3366\n",
      "Epoch 11/35\n",
      "39/39 [==============================] - 6s 155ms/step - loss: 1.1090 - accuracy: 0.5417 - val_loss: 1.7400 - val_accuracy: 0.3235\n",
      "Epoch 12/35\n",
      "39/39 [==============================] - 6s 159ms/step - loss: 1.0267 - accuracy: 0.5840 - val_loss: 1.7825 - val_accuracy: 0.3284\n",
      "Epoch 13/35\n",
      "39/39 [==============================] - 6s 159ms/step - loss: 1.0049 - accuracy: 0.5852 - val_loss: 1.7944 - val_accuracy: 0.3235\n",
      "Epoch 14/35\n",
      "39/39 [==============================] - 6s 159ms/step - loss: 0.9544 - accuracy: 0.6070 - val_loss: 1.8609 - val_accuracy: 0.3333\n",
      "Epoch 15/35\n",
      "39/39 [==============================] - 6s 157ms/step - loss: 0.9170 - accuracy: 0.6333 - val_loss: 1.8812 - val_accuracy: 0.3383\n",
      "Epoch 16/35\n",
      "39/39 [==============================] - 6s 158ms/step - loss: 0.8931 - accuracy: 0.6378 - val_loss: 1.9139 - val_accuracy: 0.3317\n",
      "Epoch 17/35\n",
      "39/39 [==============================] - 6s 153ms/step - loss: 0.8797 - accuracy: 0.6431 - val_loss: 1.9311 - val_accuracy: 0.3399\n",
      "Epoch 18/35\n",
      "39/39 [==============================] - 6s 153ms/step - loss: 0.8334 - accuracy: 0.6501 - val_loss: 2.0005 - val_accuracy: 0.3383\n",
      "Epoch 19/35\n",
      "39/39 [==============================] - 6s 155ms/step - loss: 0.8547 - accuracy: 0.6485 - val_loss: 1.9605 - val_accuracy: 0.3547\n",
      "Epoch 20/35\n",
      "39/39 [==============================] - 6s 154ms/step - loss: 0.8221 - accuracy: 0.6550 - val_loss: 1.9827 - val_accuracy: 0.3498\n",
      "Epoch 21/35\n",
      "39/39 [==============================] - 6s 153ms/step - loss: 0.8396 - accuracy: 0.6653 - val_loss: 1.9691 - val_accuracy: 0.3563\n",
      "Epoch 22/35\n",
      "39/39 [==============================] - 6s 153ms/step - loss: 0.8007 - accuracy: 0.6710 - val_loss: 2.0203 - val_accuracy: 0.3300\n",
      "Epoch 23/35\n",
      "39/39 [==============================] - 6s 153ms/step - loss: 0.7889 - accuracy: 0.6682 - val_loss: 2.0391 - val_accuracy: 0.3514\n",
      "Epoch 24/35\n",
      "39/39 [==============================] - 6s 153ms/step - loss: 0.7812 - accuracy: 0.6743 - val_loss: 2.0514 - val_accuracy: 0.3498\n",
      "Epoch 25/35\n",
      "39/39 [==============================] - 6s 154ms/step - loss: 0.7582 - accuracy: 0.6834 - val_loss: 2.0433 - val_accuracy: 0.3498\n",
      "Epoch 26/35\n",
      "39/39 [==============================] - 6s 154ms/step - loss: 0.7584 - accuracy: 0.6784 - val_loss: 2.0750 - val_accuracy: 0.3498\n",
      "Epoch 27/35\n",
      "39/39 [==============================] - 6s 154ms/step - loss: 0.7270 - accuracy: 0.6928 - val_loss: 2.1608 - val_accuracy: 0.3448\n",
      "Epoch 28/35\n",
      "39/39 [==============================] - 6s 155ms/step - loss: 0.7300 - accuracy: 0.6928 - val_loss: 2.1929 - val_accuracy: 0.3580\n",
      "Epoch 29/35\n",
      "39/39 [==============================] - 6s 154ms/step - loss: 0.7169 - accuracy: 0.6932 - val_loss: 2.1925 - val_accuracy: 0.3415\n",
      "Epoch 30/35\n",
      "39/39 [==============================] - 6s 154ms/step - loss: 0.7340 - accuracy: 0.6912 - val_loss: 2.1930 - val_accuracy: 0.3547\n",
      "Epoch 31/35\n",
      "39/39 [==============================] - 6s 152ms/step - loss: 0.7371 - accuracy: 0.6817 - val_loss: 2.1644 - val_accuracy: 0.3530\n",
      "Epoch 32/35\n",
      "39/39 [==============================] - 6s 153ms/step - loss: 0.7265 - accuracy: 0.6908 - val_loss: 2.2151 - val_accuracy: 0.3383\n",
      "Epoch 33/35\n",
      "39/39 [==============================] - 6s 153ms/step - loss: 0.7044 - accuracy: 0.7010 - val_loss: 2.2621 - val_accuracy: 0.3547\n",
      "Epoch 34/35\n",
      "39/39 [==============================] - 6s 154ms/step - loss: 0.6912 - accuracy: 0.7064 - val_loss: 2.2488 - val_accuracy: 0.3530\n",
      "Epoch 35/35\n",
      "39/39 [==============================] - 6s 155ms/step - loss: 0.6966 - accuracy: 0.7018 - val_loss: 2.2809 - val_accuracy: 0.3530\n",
      "Training Accuracy: 0.7355\n",
      "Testing Accuracy:  0.3530\n"
     ]
    }
   ],
   "source": [
    "history = model.fit(X_train, y_train, epochs=35,verbose=1, validation_data=(X_val, y_val), batch_size=64) \n",
    "loss, accuracy = model.evaluate(X_train, y_train, verbose=0)\n",
    "print(\"Training Accuracy: {:.4f}\".format(accuracy))\n",
    "loss, accuracy = model.evaluate(X_val, y_val, verbose=0)\n",
    "print(\"Testing Accuracy:  {:.4f}\".format(accuracy))"
   ]
  },
  {
   "cell_type": "code",
   "execution_count": 75,
   "id": "2ceb510b",
   "metadata": {
    "scrolled": true
   },
   "outputs": [
    {
     "data": {
      "text/plain": [
       "<matplotlib.legend.Legend at 0x1f1b5a1b130>"
      ]
     },
     "execution_count": 75,
     "metadata": {},
     "output_type": "execute_result"
    },
    {
     "data": {
      "image/png": "[encoded data removed]",
      "text/plain": [
       "<Figure size 432x288 with 1 Axes>"
      ]
     },
     "metadata": {
      "needs_background": "light"
     },
     "output_type": "display_data"
    }
   ],
   "source": [
    "plt.suptitle('Optimizer : Adam', fontsize=10)\n",
    "plt.ylabel('Loss', fontsize=16)\n",
    "plt.xlabel('Epoch', fontsize=14)\n",
    "plt.plot(history.history['loss'], color='b', label='Training Loss')\n",
    "plt.plot(history.history['val_loss'], color='r', label='Validation Loss')\n",
    "plt.legend(loc='upper right')"
   ]
  },
  {
   "cell_type": "code",
   "execution_count": null,
   "id": "32b6bb90",
   "metadata": {},
   "outputs": [],
   "source": []
  },
  {
   "cell_type": "code",
   "execution_count": null,
   "id": "3fa3df65",
   "metadata": {},
   "outputs": [],
   "source": []
  }
 ],
 "metadata": {
  "kernelspec": {
   "display_name": "Python 3 (ipykernel)",
   "language": "python",
   "name": "python3"
  },
  "language_info": {
   "codemirror_mode": {
    "name": "ipython",
    "version": 3
   },
   "file_extension": ".py",
   "mimetype": "text/x-python",
   "name": "python",
   "nbconvert_exporter": "python",
   "pygments_lexer": "ipython3",
   "version": "3.9.7"
  }
 },
 "nbformat": 4,
 "nbformat_minor": 5
}
