{
 "cells": [
  {
   "cell_type": "code",
   "execution_count": 1,
   "id": "0d5f9be8",
   "metadata": {},
   "outputs": [],
   "source": [
    "import re\n",
    "import tqdm\n",
    "import numpy as np\n",
    "import pandas as pd\n",
    "import seaborn as sns\n",
    "import matplotlib.pyplot as plt"
   ]
  },
  {
   "cell_type": "code",
   "execution_count": 2,
   "id": "a2410f63",
   "metadata": {},
   "outputs": [],
   "source": [
    "df = pd.read_csv('Banglish.csv',encoding= 'unicode_escape')"
   ]
  },
  {
   "cell_type": "code",
   "execution_count": 3,
   "id": "bf604638",
   "metadata": {},
   "outputs": [
    {
     "data": {
      "text/html": [
       "<div>\n",
       "<style scoped>\n",
       "    .dataframe tbody tr th:only-of-type {\n",
       "        vertical-align: middle;\n",
       "    }\n",
       "\n",
       "    .dataframe tbody tr th {\n",
       "        vertical-align: top;\n",
       "    }\n",
       "\n",
       "    .dataframe thead th {\n",
       "        text-align: right;\n",
       "    }\n",
       "</style>\n",
       "<table border=\"1\" class=\"dataframe\">\n",
       "  <thead>\n",
       "    <tr style=\"text-align: right;\">\n",
       "      <th></th>\n",
       "      <th>Emotion</th>\n",
       "      <th>labels</th>\n",
       "    </tr>\n",
       "  </thead>\n",
       "  <tbody>\n",
       "    <tr>\n",
       "      <th>0</th>\n",
       "      <td>surprise</td>\n",
       "      <td>5</td>\n",
       "    </tr>\n",
       "    <tr>\n",
       "      <th>1</th>\n",
       "      <td>happy</td>\n",
       "      <td>3</td>\n",
       "    </tr>\n",
       "    <tr>\n",
       "      <th>2</th>\n",
       "      <td>happy</td>\n",
       "      <td>3</td>\n",
       "    </tr>\n",
       "    <tr>\n",
       "      <th>3</th>\n",
       "      <td>angry</td>\n",
       "      <td>0</td>\n",
       "    </tr>\n",
       "    <tr>\n",
       "      <th>4</th>\n",
       "      <td>fear</td>\n",
       "      <td>2</td>\n",
       "    </tr>\n",
       "    <tr>\n",
       "      <th>5</th>\n",
       "      <td>disgust</td>\n",
       "      <td>1</td>\n",
       "    </tr>\n",
       "    <tr>\n",
       "      <th>6</th>\n",
       "      <td>surprise</td>\n",
       "      <td>5</td>\n",
       "    </tr>\n",
       "    <tr>\n",
       "      <th>7</th>\n",
       "      <td>angry</td>\n",
       "      <td>0</td>\n",
       "    </tr>\n",
       "    <tr>\n",
       "      <th>8</th>\n",
       "      <td>surprise</td>\n",
       "      <td>5</td>\n",
       "    </tr>\n",
       "    <tr>\n",
       "      <th>9</th>\n",
       "      <td>happy</td>\n",
       "      <td>3</td>\n",
       "    </tr>\n",
       "    <tr>\n",
       "      <th>10</th>\n",
       "      <td>fear</td>\n",
       "      <td>2</td>\n",
       "    </tr>\n",
       "  </tbody>\n",
       "</table>\n",
       "</div>"
      ],
      "text/plain": [
       "     Emotion  labels\n",
       "0   surprise       5\n",
       "1      happy       3\n",
       "2      happy       3\n",
       "3      angry       0\n",
       "4       fear       2\n",
       "5    disgust       1\n",
       "6   surprise       5\n",
       "7      angry       0\n",
       "8   surprise       5\n",
       "9      happy       3\n",
       "10      fear       2"
      ]
     },
     "execution_count": 3,
     "metadata": {},
     "output_type": "execute_result"
    }
   ],
   "source": [
    "from sklearn.preprocessing import LabelEncoder\n",
    "\n",
    "lb_make = LabelEncoder()\n",
    "df[\"labels\"] = lb_make.fit_transform(df[\"Emotion\"])\n",
    "df[[\"Emotion\", \"labels\"]].head(11)\n"
   ]
  },
  {
   "cell_type": "code",
   "execution_count": 4,
   "id": "17399921",
   "metadata": {},
   "outputs": [],
   "source": [
    "test_df=df.sample(frac=0.2,random_state=200)\n",
    "train_df=df.drop(test_df.index)"
   ]
  },
  {
   "cell_type": "code",
   "execution_count": 5,
   "id": "b71de20d",
   "metadata": {},
   "outputs": [
    {
     "data": {
      "text/html": [
       "<div>\n",
       "<style scoped>\n",
       "    .dataframe tbody tr th:only-of-type {\n",
       "        vertical-align: middle;\n",
       "    }\n",
       "\n",
       "    .dataframe tbody tr th {\n",
       "        vertical-align: top;\n",
       "    }\n",
       "\n",
       "    .dataframe thead th {\n",
       "        text-align: right;\n",
       "    }\n",
       "</style>\n",
       "<table border=\"1\" class=\"dataframe\">\n",
       "  <thead>\n",
       "    <tr style=\"text-align: right;\">\n",
       "      <th></th>\n",
       "      <th>Unnamed: 0</th>\n",
       "      <th>Emotion</th>\n",
       "      <th>text</th>\n",
       "      <th>labels</th>\n",
       "    </tr>\n",
       "  </thead>\n",
       "  <tbody>\n",
       "    <tr>\n",
       "      <th>0</th>\n",
       "      <td>4615</td>\n",
       "      <td>surprise</td>\n",
       "      <td>varoter senaprdhan pac diner sfre dhakay</td>\n",
       "      <td>5</td>\n",
       "    </tr>\n",
       "    <tr>\n",
       "      <th>2</th>\n",
       "      <td>5060</td>\n",
       "      <td>happy</td>\n",
       "      <td>prithibite bangladesher mukh</td>\n",
       "      <td>3</td>\n",
       "    </tr>\n",
       "    <tr>\n",
       "      <th>3</th>\n",
       "      <td>3115</td>\n",
       "      <td>angry</td>\n",
       "      <td>motrsaikel seba calu ba bikolpo kormosngsthane...</td>\n",
       "      <td>0</td>\n",
       "    </tr>\n",
       "    <tr>\n",
       "      <th>5</th>\n",
       "      <td>484</td>\n",
       "      <td>disgust</td>\n",
       "      <td>bzaparta kharap hobena  dese trun smajer bisal...</td>\n",
       "      <td>1</td>\n",
       "    </tr>\n",
       "    <tr>\n",
       "      <th>7</th>\n",
       "      <td>6408</td>\n",
       "      <td>angry</td>\n",
       "      <td>beyadb sob bysei keyadb</td>\n",
       "      <td>0</td>\n",
       "    </tr>\n",
       "  </tbody>\n",
       "</table>\n",
       "</div>"
      ],
      "text/plain": [
       "   Unnamed: 0   Emotion                                               text  \\\n",
       "0        4615  surprise           varoter senaprdhan pac diner sfre dhakay   \n",
       "2        5060     happy                       prithibite bangladesher mukh   \n",
       "3        3115     angry  motrsaikel seba calu ba bikolpo kormosngsthane...   \n",
       "5         484   disgust  bzaparta kharap hobena  dese trun smajer bisal...   \n",
       "7        6408     angry                            beyadb sob bysei keyadb   \n",
       "\n",
       "   labels  \n",
       "0       5  \n",
       "2       3  \n",
       "3       0  \n",
       "5       1  \n",
       "7       0  "
      ]
     },
     "execution_count": 5,
     "metadata": {},
     "output_type": "execute_result"
    }
   ],
   "source": [
    "train_df.head()"
   ]
  },
  {
   "cell_type": "code",
   "execution_count": 6,
   "id": "5f70cdf8",
   "metadata": {},
   "outputs": [
    {
     "name": "stdout",
     "output_type": "stream",
     "text": [
      "<class 'pandas.core.frame.DataFrame'>\n",
      "Int64Index: 2435 entries, 0 to 3043\n",
      "Data columns (total 4 columns):\n",
      " #   Column      Non-Null Count  Dtype \n",
      "---  ------      --------------  ----- \n",
      " 0   Unnamed: 0  2435 non-null   int64 \n",
      " 1   Emotion     2435 non-null   object\n",
      " 2   text        2435 non-null   object\n",
      " 3   labels      2435 non-null   int32 \n",
      "dtypes: int32(1), int64(1), object(2)\n",
      "memory usage: 85.6+ KB\n",
      "\n",
      "<class 'pandas.core.frame.DataFrame'>\n",
      "Int64Index: 609 entries, 570 to 507\n",
      "Data columns (total 4 columns):\n",
      " #   Column      Non-Null Count  Dtype \n",
      "---  ------      --------------  ----- \n",
      " 0   Unnamed: 0  609 non-null    int64 \n",
      " 1   Emotion     609 non-null    object\n",
      " 2   text        609 non-null    object\n",
      " 3   labels      609 non-null    int32 \n",
      "dtypes: int32(1), int64(1), object(2)\n",
      "memory usage: 21.4+ KB\n",
      "\n"
     ]
    }
   ],
   "source": [
    "#checking for ull values\n",
    "train_df.info()\n",
    "print()\n",
    "test_df.info()\n",
    "print()\n",
    "#val_df.info()\n",
    "#print()"
   ]
  },
  {
   "cell_type": "code",
   "execution_count": 7,
   "id": "f7dc5157",
   "metadata": {},
   "outputs": [
    {
     "data": {
      "text/plain": [
       "surprise    425\n",
       "happy       421\n",
       "sad         412\n",
       "fear        402\n",
       "angry       391\n",
       "disgust     384\n",
       "Name: Emotion, dtype: int64"
      ]
     },
     "execution_count": 7,
     "metadata": {},
     "output_type": "execute_result"
    }
   ],
   "source": [
    "train_df[\"Emotion\"].value_counts()"
   ]
  },
  {
   "cell_type": "code",
   "execution_count": 8,
   "id": "7d5d210e",
   "metadata": {},
   "outputs": [
    {
     "data": {
      "text/plain": [
       "surprise    112\n",
       "happy       109\n",
       "sad         103\n",
       "angry       100\n",
       "disgust      93\n",
       "fear         92\n",
       "Name: Emotion, dtype: int64"
      ]
     },
     "execution_count": 8,
     "metadata": {},
     "output_type": "execute_result"
    }
   ],
   "source": [
    "test_df[\"Emotion\"].value_counts()"
   ]
  },
  {
   "cell_type": "code",
   "execution_count": 9,
   "id": "053b4540",
   "metadata": {},
   "outputs": [
    {
     "name": "stdout",
     "output_type": "stream",
     "text": [
      "0                varoter senaprdhan pac diner sfre dhakay\n",
      "2                            prithibite bangladesher mukh\n",
      "3       motrsaikel seba calu ba bikolpo kormosngsthane...\n",
      "5       bzaparta kharap hobena  dese trun smajer bisal...\n",
      "7                                 beyadb sob bysei keyadb\n",
      "                              ...                        \n",
      "3038    amader poray sob sangbadik o buddhijibi ze tra...\n",
      "3039    mmotoa bndzopadhzayke abar sokj kore agamikal ...\n",
      "3040                                 vai amra ki manush ?\n",
      "3041                           ke bllo BNP kharap ache ??\n",
      "3043                  vai eida deikha kichu lage na? ????\n",
      "Name: text, Length: 2435, dtype: object\n"
     ]
    }
   ],
   "source": [
    "#sample text from dataset\n",
    "sample = train_df[\"text\"]\n",
    "print(sample)"
   ]
  },
  {
   "cell_type": "code",
   "execution_count": 10,
   "id": "46623438",
   "metadata": {},
   "outputs": [],
   "source": [
    "x_train, x_test, y_train, y_test = train_df[\"text\"], test_df[\"text\"], train_df[\"labels\"], test_df[\"labels\"]"
   ]
  },
  {
   "cell_type": "code",
   "execution_count": 11,
   "id": "cb81d142",
   "metadata": {},
   "outputs": [],
   "source": [
    "from keras.utils import np_utils\n",
    "from keras.preprocessing.text import Tokenizer\n",
    "from keras.preprocessing.sequence import pad_sequences\n",
    "\n",
    "import tensorflow as tf\n",
    "from keras import layers\n",
    "from keras.models import Sequential\n",
    "\n",
    "EPOCHS= 35\n",
    "act= \"swish\"\n",
    "opt= tf.keras.optimizers.Adam(learning_rate=0.001)"
   ]
  },
  {
   "cell_type": "code",
   "execution_count": 12,
   "id": "5b775aeb",
   "metadata": {},
   "outputs": [],
   "source": [
    "#converting text to vectors via tokenization\n",
    "tokenizer = Tokenizer()\n",
    "tokenizer.fit_on_texts(x_train)\n",
    "\n",
    "X_train = tokenizer.texts_to_sequences(x_train)\n",
    "X_test = tokenizer.texts_to_sequences(x_test)\n",
    "TEST = tokenizer.texts_to_sequences(test_df[\"text\"]) \n",
    "\n",
    "vocab_size = len(tokenizer.word_index) + 1 "
   ]
  },
  {
   "cell_type": "code",
   "execution_count": 13,
   "id": "79603d3f",
   "metadata": {},
   "outputs": [
    {
     "name": "stdout",
     "output_type": "stream",
     "text": [
      "Max len: 114\n"
     ]
    }
   ],
   "source": [
    "#calculating max length of the vector\n",
    "lens_train = [len(i) for i in X_train]\n",
    "lens_test = [len(i) for i in X_test]\n",
    "lens = lens_train + lens_test\n",
    "\n",
    "maxlen = np.max(lens)\n",
    "\n",
    "print('Max len:', maxlen)"
   ]
  },
  {
   "cell_type": "code",
   "execution_count": 14,
   "id": "bb495e40",
   "metadata": {},
   "outputs": [],
   "source": [
    "#Zero padding every vector so that they are the same size\n",
    "X_train = pad_sequences(X_train, padding='post', maxlen=maxlen)\n",
    "X_test = pad_sequences(X_test, padding='post', maxlen=maxlen)\n",
    "TEST = pad_sequences(TEST, padding='post', maxlen=maxlen)"
   ]
  },
  {
   "cell_type": "code",
   "execution_count": 15,
   "id": "bbfc3acc",
   "metadata": {},
   "outputs": [],
   "source": [
    "#One Hot Encoding integer labels\n",
    "dummy_y_test = np_utils.to_categorical(y_test)\n",
    "dummy_y_train = np_utils.to_categorical(y_train)"
   ]
  },
  {
   "cell_type": "code",
   "execution_count": 16,
   "id": "a914d44d",
   "metadata": {},
   "outputs": [],
   "source": [
    "#reading fasttext\n",
    "def get_embedding_vectors(tokenizer, dim=300):\n",
    "    embedding_index = {}\n",
    "    with open('glove.840B.300d.txt','r', encoding=\"cp437\", errors='ignore') as f:\n",
    "        for line in tqdm.tqdm(f, \"Reading Glove\"):\n",
    "            values = line.split()\n",
    "            word = ''.join(values[:-300])\n",
    "            vectors = np.asarray(values[-300:], dtype='float32')\n",
    "            embedding_index[word] = vectors\n",
    "\n",
    "    word_index = tokenizer.word_index\n",
    "    embedding_matrix = np.zeros((len(word_index)+1, dim))\n",
    "    for word, i in word_index.items():\n",
    "        embedding_vector = embedding_index.get(word)\n",
    "        if embedding_vector is not None:\n",
    "            # words not found will be 0s\n",
    "            embedding_matrix[i] = embedding_vector\n",
    "          \n",
    "    return embedding_matrix"
   ]
  },
  {
   "cell_type": "code",
   "execution_count": 17,
   "id": "c7afb8fc",
   "metadata": {},
   "outputs": [
    {
     "name": "stderr",
     "output_type": "stream",
     "text": [
      "Reading Glove: 2196018it [06:26, 5680.71it/s]\n"
     ]
    }
   ],
   "source": [
    "embedding_matrix = get_embedding_vectors(tokenizer)"
   ]
  },
  {
   "cell_type": "code",
   "execution_count": 18,
   "id": "9a10d6e8",
   "metadata": {},
   "outputs": [
    {
     "name": "stdout",
     "output_type": "stream",
     "text": [
      "Model: \"sequential\"\n",
      "_________________________________________________________________\n",
      " Layer (type)                Output Shape              Param #   \n",
      "=================================================================\n",
      " embedding (Embedding)       (None, 114, 300)          2313300   \n",
      "                                                                 \n",
      " dropout (Dropout)           (None, 114, 300)          0         \n",
      "                                                                 \n",
      " conv1d (Conv1D)             (None, 112, 64)           57664     \n",
      "                                                                 \n",
      " max_pooling1d (MaxPooling1D  (None, 37, 64)           0         \n",
      " )                                                               \n",
      "                                                                 \n",
      " dropout_1 (Dropout)         (None, 37, 64)            0         \n",
      "                                                                 \n",
      " conv1d_1 (Conv1D)           (None, 35, 64)            12352     \n",
      "                                                                 \n",
      " max_pooling1d_1 (MaxPooling  (None, 11, 64)           0         \n",
      " 1D)                                                             \n",
      "                                                                 \n",
      " dropout_2 (Dropout)         (None, 11, 64)            0         \n",
      "                                                                 \n",
      " bidirectional (Bidirectiona  (None, 512)              657408    \n",
      " l)                                                              \n",
      "                                                                 \n",
      " dropout_3 (Dropout)         (None, 512)               0         \n",
      "                                                                 \n",
      " dense (Dense)               (None, 256)               131328    \n",
      "                                                                 \n",
      " dropout_4 (Dropout)         (None, 256)               0         \n",
      "                                                                 \n",
      " dense_1 (Dense)             (None, 6)                 1542      \n",
      "                                                                 \n",
      "=================================================================\n",
      "Total params: 3,173,594\n",
      "Trainable params: 3,173,594\n",
      "Non-trainable params: 0\n",
      "_________________________________________________________________\n"
     ]
    }
   ],
   "source": [
    "#defining CNN-BiLSTM model\n",
    "embedding_dim = 300\n",
    "\n",
    "model = Sequential()\n",
    "model.add(layers.Embedding(input_dim=vocab_size, output_dim=embedding_dim, weights = [embedding_matrix], input_length=maxlen))\n",
    "model.add(layers.Dropout(0.3)) \n",
    "model.add(layers.Conv1D(filters=64, kernel_size=3, activation=act)) \n",
    "model.add(layers.MaxPool1D(pool_size=3)) \n",
    "model.add(layers.Dropout(0.3))\n",
    "model.add(layers.Conv1D(filters=64, kernel_size=3, activation=act)) \n",
    "model.add(layers.MaxPool1D(pool_size=3)) \n",
    "model.add(layers.Dropout(0.3))\n",
    "model.add(layers.Bidirectional(layers.LSTM(256, recurrent_dropout=0.3)))\n",
    "model.add(layers.Dropout(0.3))\n",
    "model.add(layers.Dense(256,activation=act)) \n",
    "model.add(layers.Dropout(0.3)) \n",
    "model.add(layers.Dense(6, activation=\"softmax\"))\n",
    "model.compile(optimizer=opt, loss=\"categorical_crossentropy\",metrics=[\"accuracy\"])\n",
    "model.summary()"
   ]
  },
  {
   "cell_type": "code",
   "execution_count": 19,
   "id": "079b4cb1",
   "metadata": {},
   "outputs": [],
   "source": [
    "checkpoint_filepath = './Checkpoint/checkpoint'\n",
    "model_checkpoint_callback = tf.keras.callbacks.ModelCheckpoint(\n",
    "    filepath=checkpoint_filepath,\n",
    "    save_weights_only=True,\n",
    "    monitor='test_accuracy',\n",
    "    mode='max',\n",
    "    save_best_only=True)"
   ]
  },
  {
   "cell_type": "code",
   "execution_count": 20,
   "id": "0fbfa69e",
   "metadata": {},
   "outputs": [
    {
     "name": "stdout",
     "output_type": "stream",
     "text": [
      "Epoch 1/35\n",
      "305/305 [==============================] - ETA: 0s - loss: 1.7896 - accuracy: 0.1934WARNING:tensorflow:Can save best model only with test_accuracy available, skipping.\n",
      "305/305 [==============================] - 99s 210ms/step - loss: 1.7896 - accuracy: 0.1934 - val_loss: 1.7676 - val_accuracy: 0.2430\n",
      "Epoch 2/35\n",
      "305/305 [==============================] - ETA: 0s - loss: 1.7281 - accuracy: 0.2706WARNING:tensorflow:Can save best model only with test_accuracy available, skipping.\n",
      "305/305 [==============================] - 56s 183ms/step - loss: 1.7281 - accuracy: 0.2706 - val_loss: 1.6913 - val_accuracy: 0.2660\n",
      "Epoch 3/35\n",
      "305/305 [==============================] - ETA: 0s - loss: 1.4783 - accuracy: 0.4209WARNING:tensorflow:Can save best model only with test_accuracy available, skipping.\n",
      "305/305 [==============================] - 57s 187ms/step - loss: 1.4783 - accuracy: 0.4209 - val_loss: 1.5382 - val_accuracy: 0.3875\n",
      "Epoch 4/35\n",
      "305/305 [==============================] - ETA: 0s - loss: 1.1099 - accuracy: 0.5840WARNING:tensorflow:Can save best model only with test_accuracy available, skipping.\n",
      "305/305 [==============================] - 56s 182ms/step - loss: 1.1099 - accuracy: 0.5840 - val_loss: 1.5619 - val_accuracy: 0.4269\n",
      "Epoch 5/35\n",
      "305/305 [==============================] - ETA: 0s - loss: 0.7872 - accuracy: 0.7138WARNING:tensorflow:Can save best model only with test_accuracy available, skipping.\n",
      "305/305 [==============================] - 57s 186ms/step - loss: 0.7872 - accuracy: 0.7138 - val_loss: 1.6510 - val_accuracy: 0.4466\n",
      "Epoch 6/35\n",
      "305/305 [==============================] - ETA: 0s - loss: 0.5836 - accuracy: 0.7979WARNING:tensorflow:Can save best model only with test_accuracy available, skipping.\n",
      "305/305 [==============================] - 57s 188ms/step - loss: 0.5836 - accuracy: 0.7979 - val_loss: 1.9884 - val_accuracy: 0.4762\n",
      "Epoch 7/35\n",
      "305/305 [==============================] - ETA: 0s - loss: 0.4399 - accuracy: 0.8398WARNING:tensorflow:Can save best model only with test_accuracy available, skipping.\n",
      "305/305 [==============================] - 56s 185ms/step - loss: 0.4399 - accuracy: 0.8398 - val_loss: 1.9125 - val_accuracy: 0.4844\n",
      "Epoch 8/35\n",
      "305/305 [==============================] - ETA: 0s - loss: 0.3170 - accuracy: 0.8912WARNING:tensorflow:Can save best model only with test_accuracy available, skipping.\n",
      "305/305 [==============================] - 57s 188ms/step - loss: 0.3170 - accuracy: 0.8912 - val_loss: 1.9560 - val_accuracy: 0.4910\n",
      "Epoch 9/35\n",
      "305/305 [==============================] - ETA: 0s - loss: 0.2598 - accuracy: 0.9129WARNING:tensorflow:Can save best model only with test_accuracy available, skipping.\n",
      "305/305 [==============================] - 49s 160ms/step - loss: 0.2598 - accuracy: 0.9129 - val_loss: 2.1512 - val_accuracy: 0.4877\n",
      "Epoch 10/35\n",
      "305/305 [==============================] - ETA: 0s - loss: 0.2186 - accuracy: 0.9281WARNING:tensorflow:Can save best model only with test_accuracy available, skipping.\n",
      "305/305 [==============================] - 54s 176ms/step - loss: 0.2186 - accuracy: 0.9281 - val_loss: 2.2415 - val_accuracy: 0.4943\n",
      "Epoch 11/35\n",
      "305/305 [==============================] - ETA: 0s - loss: 0.1877 - accuracy: 0.9400WARNING:tensorflow:Can save best model only with test_accuracy available, skipping.\n",
      "305/305 [==============================] - 57s 186ms/step - loss: 0.1877 - accuracy: 0.9400 - val_loss: 2.3004 - val_accuracy: 0.5057\n",
      "Epoch 12/35\n",
      "305/305 [==============================] - ETA: 0s - loss: 0.1435 - accuracy: 0.9548WARNING:tensorflow:Can save best model only with test_accuracy available, skipping.\n",
      "305/305 [==============================] - 57s 187ms/step - loss: 0.1435 - accuracy: 0.9548 - val_loss: 2.4176 - val_accuracy: 0.4943\n",
      "Epoch 13/35\n",
      "305/305 [==============================] - ETA: 0s - loss: 0.1474 - accuracy: 0.9552WARNING:tensorflow:Can save best model only with test_accuracy available, skipping.\n",
      "305/305 [==============================] - 57s 188ms/step - loss: 0.1474 - accuracy: 0.9552 - val_loss: 2.5030 - val_accuracy: 0.4943\n",
      "Epoch 14/35\n",
      "305/305 [==============================] - ETA: 0s - loss: 0.1397 - accuracy: 0.9565WARNING:tensorflow:Can save best model only with test_accuracy available, skipping.\n",
      "305/305 [==============================] - 57s 187ms/step - loss: 0.1397 - accuracy: 0.9565 - val_loss: 2.5593 - val_accuracy: 0.4959\n",
      "Epoch 15/35\n",
      "305/305 [==============================] - ETA: 0s - loss: 0.1248 - accuracy: 0.9655WARNING:tensorflow:Can save best model only with test_accuracy available, skipping.\n",
      "305/305 [==============================] - 56s 184ms/step - loss: 0.1248 - accuracy: 0.9655 - val_loss: 2.5498 - val_accuracy: 0.4926\n",
      "Epoch 16/35\n",
      "305/305 [==============================] - ETA: 0s - loss: 0.1422 - accuracy: 0.9585WARNING:tensorflow:Can save best model only with test_accuracy available, skipping.\n",
      "305/305 [==============================] - 59s 192ms/step - loss: 0.1422 - accuracy: 0.9585 - val_loss: 2.7196 - val_accuracy: 0.4959\n",
      "Epoch 17/35\n",
      "305/305 [==============================] - ETA: 0s - loss: 0.1155 - accuracy: 0.9688WARNING:tensorflow:Can save best model only with test_accuracy available, skipping.\n",
      "305/305 [==============================] - 51s 167ms/step - loss: 0.1155 - accuracy: 0.9688 - val_loss: 2.5534 - val_accuracy: 0.4926\n",
      "Epoch 18/35\n",
      "305/305 [==============================] - ETA: 0s - loss: 0.0955 - accuracy: 0.9680WARNING:tensorflow:Can save best model only with test_accuracy available, skipping.\n",
      "305/305 [==============================] - 50s 164ms/step - loss: 0.0955 - accuracy: 0.9680 - val_loss: 2.5098 - val_accuracy: 0.5057\n",
      "Epoch 19/35\n",
      "305/305 [==============================] - ETA: 0s - loss: 0.0915 - accuracy: 0.9717WARNING:tensorflow:Can save best model only with test_accuracy available, skipping.\n",
      "305/305 [==============================] - 53s 175ms/step - loss: 0.0915 - accuracy: 0.9717 - val_loss: 2.8419 - val_accuracy: 0.4910\n",
      "Epoch 20/35\n",
      "305/305 [==============================] - ETA: 0s - loss: 0.0924 - accuracy: 0.9725WARNING:tensorflow:Can save best model only with test_accuracy available, skipping.\n",
      "305/305 [==============================] - 56s 183ms/step - loss: 0.0924 - accuracy: 0.9725 - val_loss: 2.5537 - val_accuracy: 0.4943\n",
      "Epoch 21/35\n",
      "305/305 [==============================] - ETA: 0s - loss: 0.0878 - accuracy: 0.9729WARNING:tensorflow:Can save best model only with test_accuracy available, skipping.\n",
      "305/305 [==============================] - 36s 119ms/step - loss: 0.0878 - accuracy: 0.9729 - val_loss: 2.8591 - val_accuracy: 0.4811\n",
      "Epoch 22/35\n",
      "305/305 [==============================] - ETA: 0s - loss: 0.0874 - accuracy: 0.9741WARNING:tensorflow:Can save best model only with test_accuracy available, skipping.\n",
      "305/305 [==============================] - 36s 118ms/step - loss: 0.0874 - accuracy: 0.9741 - val_loss: 3.0156 - val_accuracy: 0.4762\n",
      "Epoch 23/35\n",
      "305/305 [==============================] - ETA: 0s - loss: 0.0715 - accuracy: 0.9745WARNING:tensorflow:Can save best model only with test_accuracy available, skipping.\n",
      "305/305 [==============================] - 36s 118ms/step - loss: 0.0715 - accuracy: 0.9745 - val_loss: 3.2560 - val_accuracy: 0.4729\n",
      "Epoch 24/35\n",
      "305/305 [==============================] - ETA: 0s - loss: 0.0987 - accuracy: 0.9729WARNING:tensorflow:Can save best model only with test_accuracy available, skipping.\n",
      "305/305 [==============================] - 36s 117ms/step - loss: 0.0987 - accuracy: 0.9729 - val_loss: 2.7916 - val_accuracy: 0.4893\n",
      "Epoch 25/35\n",
      "305/305 [==============================] - ETA: 0s - loss: 0.0991 - accuracy: 0.9700WARNING:tensorflow:Can save best model only with test_accuracy available, skipping.\n",
      "305/305 [==============================] - 36s 117ms/step - loss: 0.0991 - accuracy: 0.9700 - val_loss: 2.7556 - val_accuracy: 0.5057\n",
      "Epoch 26/35\n",
      "305/305 [==============================] - ETA: 0s - loss: 0.0805 - accuracy: 0.9762WARNING:tensorflow:Can save best model only with test_accuracy available, skipping.\n",
      "305/305 [==============================] - 36s 117ms/step - loss: 0.0805 - accuracy: 0.9762 - val_loss: 2.9802 - val_accuracy: 0.4992\n",
      "Epoch 27/35\n"
     ]
    },
    {
     "name": "stdout",
     "output_type": "stream",
     "text": [
      "305/305 [==============================] - ETA: 0s - loss: 0.0533 - accuracy: 0.9832WARNING:tensorflow:Can save best model only with test_accuracy available, skipping.\n",
      "305/305 [==============================] - 36s 117ms/step - loss: 0.0533 - accuracy: 0.9832 - val_loss: 3.4041 - val_accuracy: 0.5057\n",
      "Epoch 28/35\n",
      "305/305 [==============================] - ETA: 0s - loss: 0.0720 - accuracy: 0.9774WARNING:tensorflow:Can save best model only with test_accuracy available, skipping.\n",
      "305/305 [==============================] - 36s 117ms/step - loss: 0.0720 - accuracy: 0.9774 - val_loss: 3.0563 - val_accuracy: 0.4811\n",
      "Epoch 29/35\n",
      "305/305 [==============================] - ETA: 0s - loss: 0.0775 - accuracy: 0.9729WARNING:tensorflow:Can save best model only with test_accuracy available, skipping.\n",
      "305/305 [==============================] - 33s 108ms/step - loss: 0.0775 - accuracy: 0.9729 - val_loss: 3.0290 - val_accuracy: 0.4926\n",
      "Epoch 30/35\n",
      "305/305 [==============================] - ETA: 0s - loss: 0.0710 - accuracy: 0.9762WARNING:tensorflow:Can save best model only with test_accuracy available, skipping.\n",
      "305/305 [==============================] - 34s 110ms/step - loss: 0.0710 - accuracy: 0.9762 - val_loss: 3.2078 - val_accuracy: 0.5008\n",
      "Epoch 31/35\n",
      "305/305 [==============================] - ETA: 0s - loss: 0.0744 - accuracy: 0.9782WARNING:tensorflow:Can save best model only with test_accuracy available, skipping.\n",
      "305/305 [==============================] - 33s 108ms/step - loss: 0.0744 - accuracy: 0.9782 - val_loss: 3.1805 - val_accuracy: 0.4926\n",
      "Epoch 32/35\n",
      "305/305 [==============================] - ETA: 0s - loss: 0.0739 - accuracy: 0.9741WARNING:tensorflow:Can save best model only with test_accuracy available, skipping.\n",
      "305/305 [==============================] - 34s 112ms/step - loss: 0.0739 - accuracy: 0.9741 - val_loss: 3.0809 - val_accuracy: 0.4943\n",
      "Epoch 33/35\n",
      "305/305 [==============================] - ETA: 0s - loss: 0.0511 - accuracy: 0.9807WARNING:tensorflow:Can save best model only with test_accuracy available, skipping.\n",
      "305/305 [==============================] - 33s 108ms/step - loss: 0.0511 - accuracy: 0.9807 - val_loss: 3.5404 - val_accuracy: 0.4992\n",
      "Epoch 34/35\n",
      "305/305 [==============================] - ETA: 0s - loss: 0.0582 - accuracy: 0.9811WARNING:tensorflow:Can save best model only with test_accuracy available, skipping.\n",
      "305/305 [==============================] - 32s 106ms/step - loss: 0.0582 - accuracy: 0.9811 - val_loss: 3.0361 - val_accuracy: 0.5057\n",
      "Epoch 35/35\n",
      "305/305 [==============================] - ETA: 0s - loss: 0.0570 - accuracy: 0.9803WARNING:tensorflow:Can save best model only with test_accuracy available, skipping.\n",
      "305/305 [==============================] - 33s 108ms/step - loss: 0.0570 - accuracy: 0.9803 - val_loss: 3.2216 - val_accuracy: 0.4926\n",
      "Training Accuracy: 0.9901\n",
      "Testing Accuracy:  0.4926\n"
     ]
    }
   ],
   "source": [
    "history = model.fit(X_train, dummy_y_train, epochs=EPOCHS, verbose=1, validation_data=(X_test, dummy_y_test), batch_size=8, callbacks=[model_checkpoint_callback]) \n",
    "loss, accuracy = model.evaluate(X_train, dummy_y_train, verbose=0)\n",
    "print(\"Training Accuracy: {:.4f}\".format(accuracy))\n",
    "loss, accuracy = model.evaluate(X_test, dummy_y_test, verbose=0)\n",
    "print(\"Testing Accuracy:  {:.4f}\".format(accuracy))"
   ]
  },
  {
   "cell_type": "code",
   "execution_count": 21,
   "id": "cb6cbf4b",
   "metadata": {},
   "outputs": [],
   "source": [
    "def PlotGraph(history):\n",
    "    acc = history.history['accuracy']\n",
    "    val_acc = history.history['val_accuracy']\n",
    "    loss = history.history['loss']\n",
    "    val_loss = history.history['val_loss']\n",
    "    x = range(1, len(acc) + 1)\n",
    "\n",
    "    plt.figure(figsize=(12, 5))\n",
    "    plt.subplot(1, 2, 1)\n",
    "    plt.plot(x, acc, 'g', label='Training acc')\n",
    "    plt.plot(x, val_acc, 'b', label='Validation acc')\n",
    "    plt.title('Training and validation accuracy')\n",
    "    plt.legend()\n",
    "    plt.subplot(1, 2, 2)\n",
    "    plt.plot(x, loss, 'g', label='Training loss')\n",
    "    plt.plot(x, val_loss, 'b', label='Validation loss')\n",
    "    plt.title('Training and validation loss')\n",
    "    plt.legend()"
   ]
  },
  {
   "cell_type": "code",
   "execution_count": 22,
   "id": "a3a1d6c9",
   "metadata": {},
   "outputs": [
    {
     "data": {
      "image/png": "[encoded data removed]",
      "text/plain": [
       "<Figure size 864x360 with 2 Axes>"
      ]
     },
     "metadata": {
      "needs_background": "light"
     },
     "output_type": "display_data"
    }
   ],
   "source": [
    "PlotGraph(history)"
   ]
  },
  {
   "cell_type": "code",
   "execution_count": 23,
   "id": "b2244f33",
   "metadata": {},
   "outputs": [
    {
     "name": "stdout",
     "output_type": "stream",
     "text": [
      "Best Accuracy Achieved by Model: 0.5057471394538879\n"
     ]
    }
   ],
   "source": [
    "print(f\"Best Accuracy Achieved by Model: {max(history.history['val_accuracy'])}\")"
   ]
  },
  {
   "cell_type": "code",
   "execution_count": 24,
   "id": "1f4cc737",
   "metadata": {},
   "outputs": [
    {
     "data": {
      "text/plain": [
       "array([5, 1, 2, 2, 5, 1, 4, 5, 5, 4, 5, 0, 0, 5, 4, 5, 0, 0, 1, 1, 4, 2,\n",
       "       4, 4, 5, 5, 0, 1, 5, 5, 1, 1, 2, 0, 1, 3, 1, 4, 1, 4, 2, 2, 2, 3,\n",
       "       4, 5, 0, 4, 2, 4, 5, 3, 3, 3, 4, 5, 5, 4, 2, 4, 0, 5, 4, 2, 4, 1,\n",
       "       0, 5, 5, 3, 4, 4, 4, 3, 2, 0, 2, 5, 3, 5, 1, 5, 5, 3, 2, 1, 1, 2,\n",
       "       3, 3, 2, 4, 1, 5, 3, 3, 2, 3, 3, 4, 3, 5, 0, 2, 3, 5, 5, 5, 5, 1,\n",
       "       2, 5, 5, 1, 4, 3, 4, 1, 2, 1, 3, 3, 0, 5, 0, 2, 1, 4, 1, 4, 2, 5,\n",
       "       1, 5, 3, 2, 1, 4, 2, 2, 0, 2, 1, 5, 1, 2, 1, 0, 3, 2, 4, 2, 2, 3,\n",
       "       4, 3, 3, 5, 0, 0, 2, 0, 1, 5, 2, 4, 3, 2, 0, 2, 2, 4, 3, 5, 3, 3,\n",
       "       5, 4, 4, 0, 5, 4, 5, 2, 2, 5, 5, 2, 1, 4, 4, 3, 3, 5, 5, 5, 5, 2,\n",
       "       4, 5, 1, 1, 5, 4, 4, 3, 5, 2, 1, 4, 5, 2, 4, 5, 2, 0, 5, 1, 3, 4,\n",
       "       3, 2, 5, 4, 3, 4, 4, 3, 0, 2, 4, 3, 3, 4, 3, 2, 3, 2, 1, 5, 2, 1,\n",
       "       5, 0, 4, 4, 5, 3, 4, 1, 5, 3, 0, 4, 5, 2, 2, 3, 2, 0, 2, 4, 1, 3,\n",
       "       5, 4, 5, 3, 3, 3, 5, 2, 5, 3, 5, 5, 4, 0, 4, 3, 3, 4, 4, 5, 5, 2,\n",
       "       4, 5, 4, 3, 3, 2, 2, 3, 3, 0, 5, 1, 3, 5, 2, 3, 5, 0, 2, 4, 5, 4,\n",
       "       0, 1, 4, 0, 5, 0, 2, 5, 4, 3, 3, 3, 2, 2, 3, 5, 3, 2, 3, 0, 4, 5,\n",
       "       4, 5, 5, 5, 5, 0, 0, 4, 1, 2, 5, 3, 4, 5, 5, 3, 5, 3, 1, 3, 5, 0,\n",
       "       1, 5, 4, 5, 5, 1, 0, 5, 4, 0, 4, 3, 4, 2, 5, 4, 3, 2, 3, 5, 5, 5,\n",
       "       1, 5, 2, 5, 1, 1, 2, 4, 2, 4, 5, 2, 1, 0, 1, 1, 3, 3, 2, 5, 2, 5,\n",
       "       1, 1, 1, 3, 3, 4, 5, 5, 3, 2, 2, 4, 1, 1, 2, 5, 4, 3, 1, 2, 3, 4,\n",
       "       0, 5, 4, 1, 5, 4, 0, 2, 1, 4, 2, 5, 1, 0, 1, 0, 0, 3, 4, 2, 1, 5,\n",
       "       5, 5, 4, 5, 3, 5, 5, 4, 3, 4, 0, 0, 2, 5, 3, 4, 3, 4, 3, 2, 5, 1,\n",
       "       0, 5, 4, 5, 4, 1, 0, 3, 4, 5, 1, 3, 0, 1, 4, 5, 1, 1, 1, 3, 2, 3,\n",
       "       1, 2, 5, 0, 0, 1, 0, 5, 3, 0, 3, 2, 2, 2, 1, 3, 5, 5, 2, 5, 5, 5,\n",
       "       0, 2, 3, 4, 5, 0, 5, 3, 0, 4, 5, 3, 3, 4, 5, 5, 4, 4, 5, 5, 5, 5,\n",
       "       5, 3, 2, 5, 2, 5, 0, 5, 3, 5, 1, 0, 2, 3, 5, 4, 2, 3, 0, 3, 3, 5,\n",
       "       0, 4, 3, 5, 0, 2, 0, 0, 2, 4, 3, 4, 1, 5, 1, 0, 1, 3, 1, 2, 0, 3,\n",
       "       2, 5, 5, 3, 3, 4, 2, 3, 5, 3, 5, 4, 1, 4, 4, 3, 2, 0, 2, 5, 0, 1,\n",
       "       3, 1, 1, 0, 5, 5, 1, 4, 0, 5, 4, 1, 2, 2, 3], dtype=int64)"
      ]
     },
     "execution_count": 24,
     "metadata": {},
     "output_type": "execute_result"
    }
   ],
   "source": [
    "predict = model.predict(TEST)\n",
    "predict_class = np.argmax(predict, axis=1)\n",
    "predict_class = np.array(predict_class)\n",
    "predict_class"
   ]
  },
  {
   "cell_type": "code",
   "execution_count": 25,
   "id": "07fbb8f2",
   "metadata": {},
   "outputs": [
    {
     "data": {
      "text/plain": [
       "array([[36,  8,  7,  7, 20, 22],\n",
       "       [ 9, 46, 12,  5, 10, 11],\n",
       "       [ 7,  4, 49,  6, 14, 12],\n",
       "       [ 5,  7,  8, 63, 11, 15],\n",
       "       [ 7, 11,  7, 16, 40, 22],\n",
       "       [ 4,  4, 15, 13, 10, 66]], dtype=int64)"
      ]
     },
     "execution_count": 25,
     "metadata": {},
     "output_type": "execute_result"
    }
   ],
   "source": [
    "from sklearn.metrics import confusion_matrix\n",
    "\n",
    "cm = confusion_matrix(test_df[\"labels\"], predict_class)\n",
    "cm"
   ]
  },
  {
   "cell_type": "code",
   "execution_count": 26,
   "id": "d6d34c1e",
   "metadata": {},
   "outputs": [
    {
     "data": {
      "text/plain": [
       "<AxesSubplot:>"
      ]
     },
     "execution_count": 26,
     "metadata": {},
     "output_type": "execute_result"
    },
    {
     "data": {
      "image/png": "[encoded data removed]",
      "text/plain": [
       "<Figure size 720x504 with 2 Axes>"
      ]
     },
     "metadata": {
      "needs_background": "light"
     },
     "output_type": "display_data"
    }
   ],
   "source": [
    "df_cm = pd.DataFrame(cm, index=[\"surprise\",\"happy\",\"sad\", \"fear\", \"angry\",\"disgust\"], columns=[\"surprise\",\"happy\",\"sad\", \"fear\", \"angry\",\"disgust\"])\n",
    "plt.figure(figsize = (10,7))\n",
    "sns.heatmap(df_cm,annot=True, fmt =\"d\")"
   ]
  },
  {
   "cell_type": "code",
   "execution_count": 27,
   "id": "cc35fbc5",
   "metadata": {},
   "outputs": [
    {
     "name": "stdout",
     "output_type": "stream",
     "text": [
      "              precision    recall  f1-score   support\n",
      "\n",
      "       anger       0.53      0.36      0.43       100\n",
      "        fear       0.57      0.49      0.53        93\n",
      "         joy       0.50      0.53      0.52        92\n",
      "     disgust       0.57      0.58      0.58       109\n",
      "     sadness       0.38      0.39      0.38       103\n",
      "    surprise       0.45      0.59      0.51       112\n",
      "\n",
      "    accuracy                           0.49       609\n",
      "   macro avg       0.50      0.49      0.49       609\n",
      "weighted avg       0.50      0.49      0.49       609\n",
      "\n"
     ]
    }
   ],
   "source": [
    "from sklearn.metrics import classification_report\n",
    "\n",
    "print(classification_report(test_df[\"labels\"], predict_class, target_names =[\"anger\", \"fear\", \"joy\", \"disgust\", \"sadness\", \"surprise\"]))"
   ]
  },
  {
   "cell_type": "code",
   "execution_count": null,
   "id": "01b22149",
   "metadata": {},
   "outputs": [],
   "source": []
  }
 ],
 "metadata": {
  "kernelspec": {
   "display_name": "Python 3 (ipykernel)",
   "language": "python",
   "name": "python3"
  },
  "language_info": {
   "codemirror_mode": {
    "name": "ipython",
    "version": 3
   },
   "file_extension": ".py",
   "mimetype": "text/x-python",
   "name": "python",
   "nbconvert_exporter": "python",
   "pygments_lexer": "ipython3",
   "version": "3.9.7"
  }
 },
 "nbformat": 4,
 "nbformat_minor": 5
}
