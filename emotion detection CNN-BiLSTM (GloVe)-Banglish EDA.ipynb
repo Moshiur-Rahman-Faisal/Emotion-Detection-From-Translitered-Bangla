{
 "cells": [
  {
   "cell_type": "code",
   "execution_count": 1,
   "id": "0d5f9be8",
   "metadata": {},
   "outputs": [],
   "source": [
    "import re\n",
    "import tqdm\n",
    "import numpy as np\n",
    "import pandas as pd\n",
    "import seaborn as sns\n",
    "import matplotlib.pyplot as plt"
   ]
  },
  {
   "cell_type": "code",
   "execution_count": 2,
   "id": "a2410f63",
   "metadata": {},
   "outputs": [],
   "source": [
    "df = pd.read_csv('Banglish EDA.csv',encoding= 'unicode_escape')"
   ]
  },
  {
   "cell_type": "code",
   "execution_count": 3,
   "id": "bf604638",
   "metadata": {},
   "outputs": [
    {
     "data": {
      "text/html": [
       "<div>\n",
       "<style scoped>\n",
       "    .dataframe tbody tr th:only-of-type {\n",
       "        vertical-align: middle;\n",
       "    }\n",
       "\n",
       "    .dataframe tbody tr th {\n",
       "        vertical-align: top;\n",
       "    }\n",
       "\n",
       "    .dataframe thead th {\n",
       "        text-align: right;\n",
       "    }\n",
       "</style>\n",
       "<table border=\"1\" class=\"dataframe\">\n",
       "  <thead>\n",
       "    <tr style=\"text-align: right;\">\n",
       "      <th></th>\n",
       "      <th>Emotion</th>\n",
       "      <th>labels</th>\n",
       "    </tr>\n",
       "  </thead>\n",
       "  <tbody>\n",
       "    <tr>\n",
       "      <th>0</th>\n",
       "      <td>sad</td>\n",
       "      <td>4</td>\n",
       "    </tr>\n",
       "    <tr>\n",
       "      <th>1</th>\n",
       "      <td>angry</td>\n",
       "      <td>0</td>\n",
       "    </tr>\n",
       "    <tr>\n",
       "      <th>2</th>\n",
       "      <td>disgust</td>\n",
       "      <td>1</td>\n",
       "    </tr>\n",
       "    <tr>\n",
       "      <th>3</th>\n",
       "      <td>angry</td>\n",
       "      <td>0</td>\n",
       "    </tr>\n",
       "    <tr>\n",
       "      <th>4</th>\n",
       "      <td>disgust</td>\n",
       "      <td>1</td>\n",
       "    </tr>\n",
       "    <tr>\n",
       "      <th>5</th>\n",
       "      <td>sad</td>\n",
       "      <td>4</td>\n",
       "    </tr>\n",
       "    <tr>\n",
       "      <th>6</th>\n",
       "      <td>sad</td>\n",
       "      <td>4</td>\n",
       "    </tr>\n",
       "    <tr>\n",
       "      <th>7</th>\n",
       "      <td>fear</td>\n",
       "      <td>2</td>\n",
       "    </tr>\n",
       "    <tr>\n",
       "      <th>8</th>\n",
       "      <td>surprise</td>\n",
       "      <td>5</td>\n",
       "    </tr>\n",
       "    <tr>\n",
       "      <th>9</th>\n",
       "      <td>disgust</td>\n",
       "      <td>1</td>\n",
       "    </tr>\n",
       "    <tr>\n",
       "      <th>10</th>\n",
       "      <td>angry</td>\n",
       "      <td>0</td>\n",
       "    </tr>\n",
       "  </tbody>\n",
       "</table>\n",
       "</div>"
      ],
      "text/plain": [
       "     Emotion  labels\n",
       "0        sad       4\n",
       "1      angry       0\n",
       "2    disgust       1\n",
       "3      angry       0\n",
       "4    disgust       1\n",
       "5        sad       4\n",
       "6        sad       4\n",
       "7       fear       2\n",
       "8   surprise       5\n",
       "9    disgust       1\n",
       "10     angry       0"
      ]
     },
     "execution_count": 3,
     "metadata": {},
     "output_type": "execute_result"
    }
   ],
   "source": [
    "from sklearn.preprocessing import LabelEncoder\n",
    "\n",
    "lb_make = LabelEncoder()\n",
    "df[\"labels\"] = lb_make.fit_transform(df[\"Emotion\"])\n",
    "df[[\"Emotion\", \"labels\"]].head(11)\n"
   ]
  },
  {
   "cell_type": "code",
   "execution_count": 4,
   "id": "17399921",
   "metadata": {},
   "outputs": [],
   "source": [
    "test_df=df.sample(frac=0.2,random_state=200)\n",
    "train_df=df.drop(test_df.index)"
   ]
  },
  {
   "cell_type": "code",
   "execution_count": 5,
   "id": "b71de20d",
   "metadata": {},
   "outputs": [
    {
     "data": {
      "text/html": [
       "<div>\n",
       "<style scoped>\n",
       "    .dataframe tbody tr th:only-of-type {\n",
       "        vertical-align: middle;\n",
       "    }\n",
       "\n",
       "    .dataframe tbody tr th {\n",
       "        vertical-align: top;\n",
       "    }\n",
       "\n",
       "    .dataframe thead th {\n",
       "        text-align: right;\n",
       "    }\n",
       "</style>\n",
       "<table border=\"1\" class=\"dataframe\">\n",
       "  <thead>\n",
       "    <tr style=\"text-align: right;\">\n",
       "      <th></th>\n",
       "      <th>Emotion</th>\n",
       "      <th>text</th>\n",
       "      <th>labels</th>\n",
       "    </tr>\n",
       "  </thead>\n",
       "  <tbody>\n",
       "    <tr>\n",
       "      <th>0</th>\n",
       "      <td>sad</td>\n",
       "      <td>hefajoter pokkhe michil theke hamlay ahoto awa...</td>\n",
       "      <td>4</td>\n",
       "    </tr>\n",
       "    <tr>\n",
       "      <th>1</th>\n",
       "      <td>angry</td>\n",
       "      <td>e chara mask chara probesh korte dicchi na</td>\n",
       "      <td>0</td>\n",
       "    </tr>\n",
       "    <tr>\n",
       "      <th>2</th>\n",
       "      <td>disgust</td>\n",
       "      <td>vore uthe batch porano college e class neya ab...</td>\n",
       "      <td>1</td>\n",
       "    </tr>\n",
       "    <tr>\n",
       "      <th>3</th>\n",
       "      <td>angry</td>\n",
       "      <td>eita pata chagler kach</td>\n",
       "      <td>0</td>\n",
       "    </tr>\n",
       "    <tr>\n",
       "      <th>4</th>\n",
       "      <td>disgust</td>\n",
       "      <td>sob dalal diye vore geche!</td>\n",
       "      <td>1</td>\n",
       "    </tr>\n",
       "  </tbody>\n",
       "</table>\n",
       "</div>"
      ],
      "text/plain": [
       "   Emotion                                               text  labels\n",
       "0      sad  hefajoter pokkhe michil theke hamlay ahoto awa...       4\n",
       "1    angry         e chara mask chara probesh korte dicchi na       0\n",
       "2  disgust  vore uthe batch porano college e class neya ab...       1\n",
       "3    angry                             eita pata chagler kach       0\n",
       "4  disgust                         sob dalal diye vore geche!       1"
      ]
     },
     "execution_count": 5,
     "metadata": {},
     "output_type": "execute_result"
    }
   ],
   "source": [
    "train_df.head()"
   ]
  },
  {
   "cell_type": "code",
   "execution_count": 6,
   "id": "5f70cdf8",
   "metadata": {},
   "outputs": [
    {
     "name": "stdout",
     "output_type": "stream",
     "text": [
      "<class 'pandas.core.frame.DataFrame'>\n",
      "Int64Index: 6089 entries, 0 to 7610\n",
      "Data columns (total 3 columns):\n",
      " #   Column   Non-Null Count  Dtype \n",
      "---  ------   --------------  ----- \n",
      " 0   Emotion  6089 non-null   object\n",
      " 1   text     6089 non-null   object\n",
      " 2   labels   6089 non-null   int32 \n",
      "dtypes: int32(1), object(2)\n",
      "memory usage: 166.5+ KB\n",
      "\n",
      "<class 'pandas.core.frame.DataFrame'>\n",
      "Int64Index: 1522 entries, 6942 to 5208\n",
      "Data columns (total 3 columns):\n",
      " #   Column   Non-Null Count  Dtype \n",
      "---  ------   --------------  ----- \n",
      " 0   Emotion  1522 non-null   object\n",
      " 1   text     1522 non-null   object\n",
      " 2   labels   1522 non-null   int32 \n",
      "dtypes: int32(1), object(2)\n",
      "memory usage: 41.6+ KB\n",
      "\n"
     ]
    }
   ],
   "source": [
    "#checking for ull values\n",
    "train_df.info()\n",
    "print()\n",
    "test_df.info()\n",
    "print()\n",
    "#val_df.info()\n",
    "#print()"
   ]
  },
  {
   "cell_type": "code",
   "execution_count": 7,
   "id": "f7dc5157",
   "metadata": {},
   "outputs": [
    {
     "data": {
      "text/plain": [
       "surprise    1090\n",
       "happy       1043\n",
       "sad         1024\n",
       "angry       1004\n",
       "disgust      972\n",
       "fear         956\n",
       "Name: Emotion, dtype: int64"
      ]
     },
     "execution_count": 7,
     "metadata": {},
     "output_type": "execute_result"
    }
   ],
   "source": [
    "train_df[\"Emotion\"].value_counts()"
   ]
  },
  {
   "cell_type": "code",
   "execution_count": 8,
   "id": "7d5d210e",
   "metadata": {},
   "outputs": [
    {
     "data": {
      "text/plain": [
       "fear        275\n",
       "angry       268\n",
       "sad         264\n",
       "happy       262\n",
       "surprise    229\n",
       "disgust     224\n",
       "Name: Emotion, dtype: int64"
      ]
     },
     "execution_count": 8,
     "metadata": {},
     "output_type": "execute_result"
    }
   ],
   "source": [
    "test_df[\"Emotion\"].value_counts()"
   ]
  },
  {
   "cell_type": "code",
   "execution_count": 9,
   "id": "053b4540",
   "metadata": {},
   "outputs": [
    {
     "name": "stdout",
     "output_type": "stream",
     "text": [
      "0       hefajoter pokkhe michil theke hamlay ahoto awa...\n",
      "1              e chara mask chara probesh korte dicchi na\n",
      "2       vore uthe batch porano college e class neya ab...\n",
      "3                                  eita pata chagler kach\n",
      "4                              sob dalal diye vore geche!\n",
      "                              ...                        \n",
      "7602    destite mot 1 lakh 68 hajar 436 joner mirttu h...\n",
      "7603    jatiy bishowbiddaloyer cturhhotoh borsh porikk...\n",
      "7607                              amar oporadh ami hindu \n",
      "7608    apnara kiser zukti niye bolechen amar sudhu ek...\n",
      "7610    BNP kkhn khomotay ashole eder ki hobe? eder ke...\n",
      "Name: text, Length: 6089, dtype: object\n"
     ]
    }
   ],
   "source": [
    "#sample text from dataset\n",
    "sample = train_df[\"text\"]\n",
    "print(sample)"
   ]
  },
  {
   "cell_type": "code",
   "execution_count": 10,
   "id": "46623438",
   "metadata": {},
   "outputs": [],
   "source": [
    "x_train, x_test, y_train, y_test = train_df[\"text\"], test_df[\"text\"], train_df[\"labels\"], test_df[\"labels\"]"
   ]
  },
  {
   "cell_type": "code",
   "execution_count": 11,
   "id": "cb81d142",
   "metadata": {},
   "outputs": [],
   "source": [
    "from keras.utils import np_utils\n",
    "from keras.preprocessing.text import Tokenizer\n",
    "from keras.preprocessing.sequence import pad_sequences\n",
    "\n",
    "import tensorflow as tf\n",
    "from keras import layers\n",
    "from keras.models import Sequential\n",
    "\n",
    "EPOCHS= 35\n",
    "act= \"swish\"\n",
    "opt= tf.keras.optimizers.Adam(learning_rate=0.001)"
   ]
  },
  {
   "cell_type": "code",
   "execution_count": 12,
   "id": "5b775aeb",
   "metadata": {},
   "outputs": [],
   "source": [
    "#converting text to vectors via tokenization\n",
    "tokenizer = Tokenizer()\n",
    "tokenizer.fit_on_texts(x_train)\n",
    "\n",
    "X_train = tokenizer.texts_to_sequences(x_train)\n",
    "X_test = tokenizer.texts_to_sequences(x_test)\n",
    "TEST = tokenizer.texts_to_sequences(test_df[\"text\"]) \n",
    "\n",
    "vocab_size = len(tokenizer.word_index) + 1 "
   ]
  },
  {
   "cell_type": "code",
   "execution_count": 13,
   "id": "79603d3f",
   "metadata": {},
   "outputs": [
    {
     "name": "stdout",
     "output_type": "stream",
     "text": [
      "Max len: 288\n"
     ]
    }
   ],
   "source": [
    "#calculating max length of the vector\n",
    "lens_train = [len(i) for i in X_train]\n",
    "lens_test = [len(i) for i in X_test]\n",
    "lens = lens_train + lens_test\n",
    "\n",
    "maxlen = np.max(lens)\n",
    "\n",
    "print('Max len:', maxlen)"
   ]
  },
  {
   "cell_type": "code",
   "execution_count": 14,
   "id": "bb495e40",
   "metadata": {},
   "outputs": [],
   "source": [
    "#Zero padding every vector so that they are the same size\n",
    "X_train = pad_sequences(X_train, padding='post', maxlen=maxlen)\n",
    "X_test = pad_sequences(X_test, padding='post', maxlen=maxlen)\n",
    "TEST = pad_sequences(TEST, padding='post', maxlen=maxlen)"
   ]
  },
  {
   "cell_type": "code",
   "execution_count": 15,
   "id": "bbfc3acc",
   "metadata": {},
   "outputs": [],
   "source": [
    "#One Hot Encoding integer labels\n",
    "dummy_y_test = np_utils.to_categorical(y_test)\n",
    "dummy_y_train = np_utils.to_categorical(y_train)"
   ]
  },
  {
   "cell_type": "code",
   "execution_count": 16,
   "id": "a914d44d",
   "metadata": {},
   "outputs": [],
   "source": [
    "#reading fasttext\n",
    "def get_embedding_vectors(tokenizer, dim=300):\n",
    "    embedding_index = {}\n",
    "    with open('glove.840B.300d.txt','r', encoding=\"cp437\", errors='ignore') as f:\n",
    "        for line in tqdm.tqdm(f, \"Reading Glove\"):\n",
    "            values = line.split()\n",
    "            word = ''.join(values[:-300])\n",
    "            vectors = np.asarray(values[-300:], dtype='float32')\n",
    "            embedding_index[word] = vectors\n",
    "\n",
    "    word_index = tokenizer.word_index\n",
    "    embedding_matrix = np.zeros((len(word_index)+1, dim))\n",
    "    for word, i in word_index.items():\n",
    "        embedding_vector = embedding_index.get(word)\n",
    "        if embedding_vector is not None:\n",
    "            # words not found will be 0s\n",
    "            embedding_matrix[i] = embedding_vector\n",
    "          \n",
    "    return embedding_matrix"
   ]
  },
  {
   "cell_type": "code",
   "execution_count": 17,
   "id": "c7afb8fc",
   "metadata": {},
   "outputs": [
    {
     "name": "stderr",
     "output_type": "stream",
     "text": [
      "Reading Glove: 2196018it [05:04, 7214.43it/s]\n"
     ]
    }
   ],
   "source": [
    "embedding_matrix = get_embedding_vectors(tokenizer)"
   ]
  },
  {
   "cell_type": "code",
   "execution_count": 18,
   "id": "9a10d6e8",
   "metadata": {},
   "outputs": [
    {
     "name": "stdout",
     "output_type": "stream",
     "text": [
      "Model: \"sequential\"\n",
      "_________________________________________________________________\n",
      " Layer (type)                Output Shape              Param #   \n",
      "=================================================================\n",
      " embedding (Embedding)       (None, 288, 300)          3642900   \n",
      "                                                                 \n",
      " dropout (Dropout)           (None, 288, 300)          0         \n",
      "                                                                 \n",
      " conv1d (Conv1D)             (None, 286, 64)           57664     \n",
      "                                                                 \n",
      " max_pooling1d (MaxPooling1D  (None, 95, 64)           0         \n",
      " )                                                               \n",
      "                                                                 \n",
      " dropout_1 (Dropout)         (None, 95, 64)            0         \n",
      "                                                                 \n",
      " conv1d_1 (Conv1D)           (None, 93, 64)            12352     \n",
      "                                                                 \n",
      " max_pooling1d_1 (MaxPooling  (None, 31, 64)           0         \n",
      " 1D)                                                             \n",
      "                                                                 \n",
      " dropout_2 (Dropout)         (None, 31, 64)            0         \n",
      "                                                                 \n",
      " bidirectional (Bidirectiona  (None, 512)              657408    \n",
      " l)                                                              \n",
      "                                                                 \n",
      " dropout_3 (Dropout)         (None, 512)               0         \n",
      "                                                                 \n",
      " dense (Dense)               (None, 256)               131328    \n",
      "                                                                 \n",
      " dropout_4 (Dropout)         (None, 256)               0         \n",
      "                                                                 \n",
      " dense_1 (Dense)             (None, 6)                 1542      \n",
      "                                                                 \n",
      "=================================================================\n",
      "Total params: 4,503,194\n",
      "Trainable params: 4,503,194\n",
      "Non-trainable params: 0\n",
      "_________________________________________________________________\n"
     ]
    }
   ],
   "source": [
    "#defining CNN-BiLSTM model\n",
    "embedding_dim = 300\n",
    "\n",
    "model = Sequential()\n",
    "model.add(layers.Embedding(input_dim=vocab_size, output_dim=embedding_dim, weights = [embedding_matrix], input_length=maxlen))\n",
    "model.add(layers.Dropout(0.3)) \n",
    "model.add(layers.Conv1D(filters=64, kernel_size=3, activation=act)) \n",
    "model.add(layers.MaxPool1D(pool_size=3)) \n",
    "model.add(layers.Dropout(0.3))\n",
    "model.add(layers.Conv1D(filters=64, kernel_size=3, activation=act)) \n",
    "model.add(layers.MaxPool1D(pool_size=3)) \n",
    "model.add(layers.Dropout(0.3))\n",
    "model.add(layers.Bidirectional(layers.LSTM(256, recurrent_dropout=0.3)))\n",
    "model.add(layers.Dropout(0.3))\n",
    "model.add(layers.Dense(256,activation=act)) \n",
    "model.add(layers.Dropout(0.3)) \n",
    "model.add(layers.Dense(6, activation=\"softmax\"))\n",
    "model.compile(optimizer=opt, loss=\"categorical_crossentropy\",metrics=[\"accuracy\"])\n",
    "model.summary()"
   ]
  },
  {
   "cell_type": "code",
   "execution_count": 19,
   "id": "079b4cb1",
   "metadata": {},
   "outputs": [],
   "source": [
    "checkpoint_filepath = './Checkpoint/checkpoint'\n",
    "model_checkpoint_callback = tf.keras.callbacks.ModelCheckpoint(\n",
    "    filepath=checkpoint_filepath,\n",
    "    save_weights_only=True,\n",
    "    monitor='test_accuracy',\n",
    "    mode='max',\n",
    "    save_best_only=True)"
   ]
  },
  {
   "cell_type": "code",
   "execution_count": 20,
   "id": "0fbfa69e",
   "metadata": {},
   "outputs": [
    {
     "name": "stdout",
     "output_type": "stream",
     "text": [
      "Epoch 1/35\n",
      "762/762 [==============================] - ETA: 0s - loss: 1.7670 - accuracy: 0.2211WARNING:tensorflow:Can save best model only with test_accuracy available, skipping.\n",
      "762/762 [==============================] - 310s 395ms/step - loss: 1.7670 - accuracy: 0.2211 - val_loss: 1.7002 - val_accuracy: 0.2806\n",
      "Epoch 2/35\n",
      "762/762 [==============================] - ETA: 0s - loss: 1.4920 - accuracy: 0.4213WARNING:tensorflow:Can save best model only with test_accuracy available, skipping.\n",
      "762/762 [==============================] - 304s 399ms/step - loss: 1.4920 - accuracy: 0.4213 - val_loss: 1.3154 - val_accuracy: 0.5066\n",
      "Epoch 3/35\n",
      "762/762 [==============================] - ETA: 0s - loss: 1.0433 - accuracy: 0.6109WARNING:tensorflow:Can save best model only with test_accuracy available, skipping.\n",
      "762/762 [==============================] - 303s 397ms/step - loss: 1.0433 - accuracy: 0.6109 - val_loss: 1.1565 - val_accuracy: 0.5775\n",
      "Epoch 4/35\n",
      "762/762 [==============================] - ETA: 0s - loss: 0.7327 - accuracy: 0.7425WARNING:tensorflow:Can save best model only with test_accuracy available, skipping.\n",
      "762/762 [==============================] - 305s 400ms/step - loss: 0.7327 - accuracy: 0.7425 - val_loss: 1.1142 - val_accuracy: 0.6327\n",
      "Epoch 5/35\n",
      "762/762 [==============================] - ETA: 0s - loss: 0.5401 - accuracy: 0.8167WARNING:tensorflow:Can save best model only with test_accuracy available, skipping.\n",
      "762/762 [==============================] - 296s 389ms/step - loss: 0.5401 - accuracy: 0.8167 - val_loss: 1.1852 - val_accuracy: 0.6478\n",
      "Epoch 6/35\n",
      "762/762 [==============================] - ETA: 0s - loss: 0.4065 - accuracy: 0.8727WARNING:tensorflow:Can save best model only with test_accuracy available, skipping.\n",
      "762/762 [==============================] - 286s 375ms/step - loss: 0.4065 - accuracy: 0.8727 - val_loss: 1.1442 - val_accuracy: 0.6715\n",
      "Epoch 7/35\n",
      "762/762 [==============================] - ETA: 0s - loss: 0.3280 - accuracy: 0.8987WARNING:tensorflow:Can save best model only with test_accuracy available, skipping.\n",
      "762/762 [==============================] - 208s 272ms/step - loss: 0.3280 - accuracy: 0.8987 - val_loss: 1.2667 - val_accuracy: 0.6735\n",
      "Epoch 8/35\n",
      "762/762 [==============================] - ETA: 0s - loss: 0.2640 - accuracy: 0.9203WARNING:tensorflow:Can save best model only with test_accuracy available, skipping.\n",
      "762/762 [==============================] - 195s 256ms/step - loss: 0.2640 - accuracy: 0.9203 - val_loss: 1.3011 - val_accuracy: 0.6715\n",
      "Epoch 9/35\n",
      "762/762 [==============================] - ETA: 0s - loss: 0.2301 - accuracy: 0.9277WARNING:tensorflow:Can save best model only with test_accuracy available, skipping.\n",
      "762/762 [==============================] - 195s 256ms/step - loss: 0.2301 - accuracy: 0.9277 - val_loss: 1.4581 - val_accuracy: 0.6859\n",
      "Epoch 10/35\n",
      "762/762 [==============================] - ETA: 0s - loss: 0.2075 - accuracy: 0.9348WARNING:tensorflow:Can save best model only with test_accuracy available, skipping.\n",
      "762/762 [==============================] - 197s 258ms/step - loss: 0.2075 - accuracy: 0.9348 - val_loss: 1.4618 - val_accuracy: 0.6708\n",
      "Epoch 11/35\n",
      "762/762 [==============================] - ETA: 0s - loss: 0.1881 - accuracy: 0.9389WARNING:tensorflow:Can save best model only with test_accuracy available, skipping.\n",
      "762/762 [==============================] - 208s 272ms/step - loss: 0.1881 - accuracy: 0.9389 - val_loss: 1.5039 - val_accuracy: 0.6735\n",
      "Epoch 12/35\n",
      "762/762 [==============================] - ETA: 0s - loss: 0.1733 - accuracy: 0.9471WARNING:tensorflow:Can save best model only with test_accuracy available, skipping.\n",
      "762/762 [==============================] - 293s 385ms/step - loss: 0.1733 - accuracy: 0.9471 - val_loss: 1.5618 - val_accuracy: 0.6728\n",
      "Epoch 13/35\n",
      "762/762 [==============================] - ETA: 0s - loss: 0.1680 - accuracy: 0.9479WARNING:tensorflow:Can save best model only with test_accuracy available, skipping.\n",
      "762/762 [==============================] - 296s 389ms/step - loss: 0.1680 - accuracy: 0.9479 - val_loss: 1.6234 - val_accuracy: 0.6899\n",
      "Epoch 14/35\n",
      "762/762 [==============================] - ETA: 0s - loss: 0.1519 - accuracy: 0.9530WARNING:tensorflow:Can save best model only with test_accuracy available, skipping.\n",
      "762/762 [==============================] - 311s 408ms/step - loss: 0.1519 - accuracy: 0.9530 - val_loss: 1.6230 - val_accuracy: 0.6859\n",
      "Epoch 15/35\n",
      "762/762 [==============================] - ETA: 0s - loss: 0.1485 - accuracy: 0.9537WARNING:tensorflow:Can save best model only with test_accuracy available, skipping.\n",
      "762/762 [==============================] - 311s 408ms/step - loss: 0.1485 - accuracy: 0.9537 - val_loss: 1.8020 - val_accuracy: 0.6695\n",
      "Epoch 16/35\n",
      "762/762 [==============================] - ETA: 0s - loss: 0.1310 - accuracy: 0.9581WARNING:tensorflow:Can save best model only with test_accuracy available, skipping.\n",
      "762/762 [==============================] - 322s 423ms/step - loss: 0.1310 - accuracy: 0.9581 - val_loss: 1.8066 - val_accuracy: 0.6853\n",
      "Epoch 17/35\n",
      "762/762 [==============================] - ETA: 0s - loss: 0.1392 - accuracy: 0.9537WARNING:tensorflow:Can save best model only with test_accuracy available, skipping.\n",
      "762/762 [==============================] - 324s 425ms/step - loss: 0.1392 - accuracy: 0.9537 - val_loss: 1.7589 - val_accuracy: 0.6794\n",
      "Epoch 18/35\n",
      "762/762 [==============================] - ETA: 0s - loss: 0.1367 - accuracy: 0.9527WARNING:tensorflow:Can save best model only with test_accuracy available, skipping.\n",
      "762/762 [==============================] - 306s 402ms/step - loss: 0.1367 - accuracy: 0.9527 - val_loss: 1.7833 - val_accuracy: 0.6827\n",
      "Epoch 19/35\n",
      "762/762 [==============================] - ETA: 0s - loss: 0.1140 - accuracy: 0.9593WARNING:tensorflow:Can save best model only with test_accuracy available, skipping.\n",
      "762/762 [==============================] - 318s 417ms/step - loss: 0.1140 - accuracy: 0.9593 - val_loss: 1.9071 - val_accuracy: 0.6800\n",
      "Epoch 20/35\n",
      "762/762 [==============================] - ETA: 0s - loss: 0.1166 - accuracy: 0.9606WARNING:tensorflow:Can save best model only with test_accuracy available, skipping.\n",
      "762/762 [==============================] - 330s 433ms/step - loss: 0.1166 - accuracy: 0.9606 - val_loss: 2.0306 - val_accuracy: 0.6794\n",
      "Epoch 21/35\n",
      "762/762 [==============================] - ETA: 0s - loss: 0.1133 - accuracy: 0.9589WARNING:tensorflow:Can save best model only with test_accuracy available, skipping.\n",
      "762/762 [==============================] - 286s 375ms/step - loss: 0.1133 - accuracy: 0.9589 - val_loss: 1.9325 - val_accuracy: 0.6715\n",
      "Epoch 22/35\n",
      "762/762 [==============================] - ETA: 0s - loss: 0.1226 - accuracy: 0.9584WARNING:tensorflow:Can save best model only with test_accuracy available, skipping.\n",
      "762/762 [==============================] - 294s 385ms/step - loss: 0.1226 - accuracy: 0.9584 - val_loss: 2.0309 - val_accuracy: 0.6807\n",
      "Epoch 23/35\n",
      "762/762 [==============================] - ETA: 0s - loss: 0.1178 - accuracy: 0.9589WARNING:tensorflow:Can save best model only with test_accuracy available, skipping.\n",
      "762/762 [==============================] - 309s 405ms/step - loss: 0.1178 - accuracy: 0.9589 - val_loss: 1.8505 - val_accuracy: 0.6748\n",
      "Epoch 24/35\n",
      "762/762 [==============================] - ETA: 0s - loss: 0.1104 - accuracy: 0.9606WARNING:tensorflow:Can save best model only with test_accuracy available, skipping.\n",
      "762/762 [==============================] - 310s 407ms/step - loss: 0.1104 - accuracy: 0.9606 - val_loss: 2.0508 - val_accuracy: 0.6754\n",
      "Epoch 25/35\n",
      "762/762 [==============================] - ETA: 0s - loss: 0.1107 - accuracy: 0.9612WARNING:tensorflow:Can save best model only with test_accuracy available, skipping.\n",
      "762/762 [==============================] - 296s 388ms/step - loss: 0.1107 - accuracy: 0.9612 - val_loss: 2.2502 - val_accuracy: 0.6708\n",
      "Epoch 26/35\n",
      "762/762 [==============================] - ETA: 0s - loss: 0.1021 - accuracy: 0.9612WARNING:tensorflow:Can save best model only with test_accuracy available, skipping.\n",
      "762/762 [==============================] - 307s 404ms/step - loss: 0.1021 - accuracy: 0.9612 - val_loss: 2.4302 - val_accuracy: 0.6827\n",
      "Epoch 27/35\n"
     ]
    },
    {
     "name": "stdout",
     "output_type": "stream",
     "text": [
      "762/762 [==============================] - ETA: 0s - loss: 0.1048 - accuracy: 0.9627WARNING:tensorflow:Can save best model only with test_accuracy available, skipping.\n",
      "762/762 [==============================] - 304s 399ms/step - loss: 0.1048 - accuracy: 0.9627 - val_loss: 2.2531 - val_accuracy: 0.6702\n",
      "Epoch 28/35\n",
      "762/762 [==============================] - ETA: 0s - loss: 0.1117 - accuracy: 0.9603WARNING:tensorflow:Can save best model only with test_accuracy available, skipping.\n",
      "762/762 [==============================] - 300s 393ms/step - loss: 0.1117 - accuracy: 0.9603 - val_loss: 1.7954 - val_accuracy: 0.6715\n",
      "Epoch 29/35\n",
      "762/762 [==============================] - ETA: 0s - loss: 0.0957 - accuracy: 0.9660WARNING:tensorflow:Can save best model only with test_accuracy available, skipping.\n",
      "762/762 [==============================] - 286s 376ms/step - loss: 0.0957 - accuracy: 0.9660 - val_loss: 2.1810 - val_accuracy: 0.6721\n",
      "Epoch 30/35\n",
      "762/762 [==============================] - ETA: 0s - loss: 0.0928 - accuracy: 0.9655WARNING:tensorflow:Can save best model only with test_accuracy available, skipping.\n",
      "762/762 [==============================] - 290s 381ms/step - loss: 0.0928 - accuracy: 0.9655 - val_loss: 2.2152 - val_accuracy: 0.6728\n",
      "Epoch 31/35\n",
      "762/762 [==============================] - ETA: 0s - loss: 0.0988 - accuracy: 0.9634WARNING:tensorflow:Can save best model only with test_accuracy available, skipping.\n",
      "762/762 [==============================] - 299s 392ms/step - loss: 0.0988 - accuracy: 0.9634 - val_loss: 2.2164 - val_accuracy: 0.6800\n",
      "Epoch 32/35\n",
      "762/762 [==============================] - ETA: 0s - loss: 0.1092 - accuracy: 0.9627WARNING:tensorflow:Can save best model only with test_accuracy available, skipping.\n",
      "762/762 [==============================] - 311s 408ms/step - loss: 0.1092 - accuracy: 0.9627 - val_loss: 1.9875 - val_accuracy: 0.6761\n",
      "Epoch 33/35\n",
      "762/762 [==============================] - ETA: 0s - loss: 0.1059 - accuracy: 0.9637WARNING:tensorflow:Can save best model only with test_accuracy available, skipping.\n",
      "762/762 [==============================] - 310s 407ms/step - loss: 0.1059 - accuracy: 0.9637 - val_loss: 2.0978 - val_accuracy: 0.6800\n",
      "Epoch 34/35\n",
      "762/762 [==============================] - ETA: 0s - loss: 0.0859 - accuracy: 0.9675WARNING:tensorflow:Can save best model only with test_accuracy available, skipping.\n",
      "762/762 [==============================] - 298s 391ms/step - loss: 0.0859 - accuracy: 0.9675 - val_loss: 2.4475 - val_accuracy: 0.6721\n",
      "Epoch 35/35\n",
      "762/762 [==============================] - ETA: 0s - loss: 0.0976 - accuracy: 0.9619WARNING:tensorflow:Can save best model only with test_accuracy available, skipping.\n",
      "762/762 [==============================] - 255s 335ms/step - loss: 0.0976 - accuracy: 0.9619 - val_loss: 2.2571 - val_accuracy: 0.6748\n",
      "Training Accuracy: 0.9747\n",
      "Testing Accuracy:  0.6748\n"
     ]
    }
   ],
   "source": [
    "history = model.fit(X_train, dummy_y_train, epochs=EPOCHS, verbose=1, validation_data=(X_test, dummy_y_test), batch_size=8, callbacks=[model_checkpoint_callback]) \n",
    "loss, accuracy = model.evaluate(X_train, dummy_y_train, verbose=0)\n",
    "print(\"Training Accuracy: {:.4f}\".format(accuracy))\n",
    "loss, accuracy = model.evaluate(X_test, dummy_y_test, verbose=0)\n",
    "print(\"Testing Accuracy:  {:.4f}\".format(accuracy))"
   ]
  },
  {
   "cell_type": "code",
   "execution_count": 21,
   "id": "cb6cbf4b",
   "metadata": {},
   "outputs": [],
   "source": [
    "def PlotGraph(history):\n",
    "    acc = history.history['accuracy']\n",
    "    val_acc = history.history['val_accuracy']\n",
    "    loss = history.history['loss']\n",
    "    val_loss = history.history['val_loss']\n",
    "    x = range(1, len(acc) + 1)\n",
    "\n",
    "    plt.figure(figsize=(12, 5))\n",
    "    plt.subplot(1, 2, 1)\n",
    "    plt.plot(x, acc, 'g', label='Training acc')\n",
    "    plt.plot(x, val_acc, 'b', label='Validation acc')\n",
    "    plt.title('Training and validation accuracy')\n",
    "    plt.legend()\n",
    "    plt.subplot(1, 2, 2)\n",
    "    plt.plot(x, loss, 'g', label='Training loss')\n",
    "    plt.plot(x, val_loss, 'b', label='Validation loss')\n",
    "    plt.title('Training and validation loss')\n",
    "    plt.legend()"
   ]
  },
  {
   "cell_type": "code",
   "execution_count": 22,
   "id": "a3a1d6c9",
   "metadata": {},
   "outputs": [
    {
     "data": {
      "image/png": "[encoded data removed]",
      "text/plain": [
       "<Figure size 864x360 with 2 Axes>"
      ]
     },
     "metadata": {
      "needs_background": "light"
     },
     "output_type": "display_data"
    }
   ],
   "source": [
    "PlotGraph(history)"
   ]
  },
  {
   "cell_type": "code",
   "execution_count": 23,
   "id": "b2244f33",
   "metadata": {},
   "outputs": [
    {
     "name": "stdout",
     "output_type": "stream",
     "text": [
      "Best Accuracy Achieved by Model: 0.6898817420005798\n"
     ]
    }
   ],
   "source": [
    "print(f\"Best Accuracy Achieved by Model: {max(history.history['val_accuracy'])}\")"
   ]
  },
  {
   "cell_type": "code",
   "execution_count": 24,
   "id": "1f4cc737",
   "metadata": {},
   "outputs": [
    {
     "data": {
      "text/plain": [
       "array([3, 1, 5, ..., 1, 2, 0], dtype=int64)"
      ]
     },
     "execution_count": 24,
     "metadata": {},
     "output_type": "execute_result"
    }
   ],
   "source": [
    "predict = model.predict(TEST)\n",
    "predict_class = np.argmax(predict, axis=1)\n",
    "predict_class = np.array(predict_class)\n",
    "predict_class"
   ]
  },
  {
   "cell_type": "code",
   "execution_count": 25,
   "id": "07fbb8f2",
   "metadata": {},
   "outputs": [
    {
     "data": {
      "text/plain": [
       "array([[170,  25,  12,  28,   9,  24],\n",
       "       [ 14, 160,   4,  17,  17,  12],\n",
       "       [ 15,   9, 215,  12,  11,  13],\n",
       "       [ 16,   8,   7, 191,  10,  30],\n",
       "       [ 48,  31,  18,  24, 112,  31],\n",
       "       [ 12,  10,   4,  16,   8, 179]], dtype=int64)"
      ]
     },
     "execution_count": 25,
     "metadata": {},
     "output_type": "execute_result"
    }
   ],
   "source": [
    "from sklearn.metrics import confusion_matrix\n",
    "\n",
    "cm = confusion_matrix(test_df[\"labels\"], predict_class)\n",
    "cm"
   ]
  },
  {
   "cell_type": "code",
   "execution_count": 26,
   "id": "d6d34c1e",
   "metadata": {},
   "outputs": [
    {
     "data": {
      "text/plain": [
       "<AxesSubplot:>"
      ]
     },
     "execution_count": 26,
     "metadata": {},
     "output_type": "execute_result"
    },
    {
     "data": {
      "image/png": "[encoded data removed]",
      "text/plain": [
       "<Figure size 720x504 with 2 Axes>"
      ]
     },
     "metadata": {
      "needs_background": "light"
     },
     "output_type": "display_data"
    }
   ],
   "source": [
    "df_cm = pd.DataFrame(cm, index=[\"surprise\",\"happy\",\"sad\", \"fear\", \"angry\",\"disgust\"], columns=[\"surprise\",\"happy\",\"sad\", \"fear\", \"angry\",\"disgust\"])\n",
    "plt.figure(figsize = (10,7))\n",
    "sns.heatmap(df_cm,annot=True, fmt =\"d\")"
   ]
  },
  {
   "cell_type": "code",
   "execution_count": 27,
   "id": "cc35fbc5",
   "metadata": {},
   "outputs": [
    {
     "name": "stdout",
     "output_type": "stream",
     "text": [
      "              precision    recall  f1-score   support\n",
      "\n",
      "       anger       0.62      0.63      0.63       268\n",
      "        fear       0.66      0.71      0.69       224\n",
      "         joy       0.83      0.78      0.80       275\n",
      "     disgust       0.66      0.73      0.69       262\n",
      "     sadness       0.67      0.42      0.52       264\n",
      "    surprise       0.62      0.78      0.69       229\n",
      "\n",
      "    accuracy                           0.67      1522\n",
      "   macro avg       0.68      0.68      0.67      1522\n",
      "weighted avg       0.68      0.67      0.67      1522\n",
      "\n"
     ]
    }
   ],
   "source": [
    "from sklearn.metrics import classification_report\n",
    "\n",
    "print(classification_report(test_df[\"labels\"], predict_class, target_names =[\"anger\", \"fear\", \"joy\", \"disgust\", \"sadness\", \"surprise\"]))"
   ]
  },
  {
   "cell_type": "code",
   "execution_count": null,
   "id": "01b22149",
   "metadata": {},
   "outputs": [],
   "source": []
  }
 ],
 "metadata": {
  "kernelspec": {
   "display_name": "Python 3 (ipykernel)",
   "language": "python",
   "name": "python3"
  },
  "language_info": {
   "codemirror_mode": {
    "name": "ipython",
    "version": 3
   },
   "file_extension": ".py",
   "mimetype": "text/x-python",
   "name": "python",
   "nbconvert_exporter": "python",
   "pygments_lexer": "ipython3",
   "version": "3.9.7"
  }
 },
 "nbformat": 4,
 "nbformat_minor": 5
}
